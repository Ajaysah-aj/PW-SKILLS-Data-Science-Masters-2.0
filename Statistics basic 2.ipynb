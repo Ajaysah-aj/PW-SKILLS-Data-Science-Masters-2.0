{
 "cells": [
  {
   "cell_type": "markdown",
   "id": "194a4b91-a096-4adf-a8d3-ed734c8b938f",
   "metadata": {},
   "source": [
    "Q1. What are the three measures of central tendency?"
   ]
  },
  {
   "cell_type": "markdown",
   "id": "2e521367-671e-40f0-b3df-651643b9ea2a",
   "metadata": {},
   "source": [
    "The three measures of central tendency are:\n",
    "\n",
    "1. **Mean**: The average of a set of numbers, calculated by adding up all the values and then dividing by the number of values.\n",
    "\n",
    "2. **Median**: The middle value in a set of numbers when they are arranged in order. If the set has an even number of values, the median is the average of the two middle numbers.\n",
    "\n",
    "3. **Mode**: The value that appears most frequently in a set of numbers. A set may have one mode, more than one mode, or no mode if all values are unique."
   ]
  },
  {
   "cell_type": "markdown",
   "id": "ef1215e1-0976-443b-965e-ad2f0200d15f",
   "metadata": {},
   "source": [
    "Q2. What is the difference between the mean, median, and mode? How are they used to measure the\n",
    "central tendency of a dataset?"
   ]
  },
  {
   "cell_type": "markdown",
   "id": "f1cfe78e-4275-40f1-9f3f-ee113708b562",
   "metadata": {},
   "source": [
    "The mean, median, and mode are all measures of central tendency, but they each represent the center of a dataset in different ways:\n",
    "\n",
    "### 1. **Mean**\n",
    "- **Definition**: The mean is the arithmetic average of a set of numbers.\n",
    "- **Calculation**: Add all the values in the dataset and divide by the number of values.\n",
    "- **Usage**: The mean is useful for datasets without extreme values (outliers). It considers all data points, making it sensitive to outliers, which can skew the result. It's often used in normally distributed data where the values are symmetrically distributed around the center.\n",
    "\n",
    "### 2. **Median**\n",
    "- **Definition**: The median is the middle value in an ordered dataset.\n",
    "- **Calculation**: Arrange the data in ascending or descending order, and find the middle value. If the dataset has an even number of values, the median is the average of the two middle numbers.\n",
    "- **Usage**: The median is useful when the dataset has outliers or is skewed, as it is not affected by extremely high or low values. It represents the point where half the data lies below and half lies above.\n",
    "\n",
    "### 3. **Mode**\n",
    "- **Definition**: The mode is the most frequently occurring value in a dataset.\n",
    "- **Calculation**: Identify the value(s) that appear most frequently.\n",
    "- **Usage**: The mode is useful for categorical data where you want to know the most common category. It can also be used for numerical data, particularly when the dataset has multiple peaks (bimodal or multimodal distributions).\n",
    "\n",
    "### **Key Differences and Usage in Measuring Central Tendency**\n",
    "- **Mean** is best for datasets with a normal distribution and no outliers, giving a comprehensive measure by including all data points.\n",
    "- **Median** is preferred for skewed distributions or when outliers are present, as it better represents the center of the data by focusing on the middle.\n",
    "- **Mode** is ideal for identifying the most common value, particularly in categorical data, or when the dataset has multiple repeated values. \n",
    "\n",
    "Each measure provides a different perspective on the \"center\" of the data, and the choice of which to use depends on the specific characteristics of the dataset."
   ]
  },
  {
   "cell_type": "markdown",
   "id": "5d091c3f-5642-417b-9aeb-324b0b76d3ad",
   "metadata": {},
   "source": [
    "Q3. Measure the three measures of central tendency for the given height data:\n",
    "[178,177,176,177,178.2,178,175,179,180,175,178.9,176.2,177,172.5,178,176.5]"
   ]
  },
  {
   "cell_type": "code",
   "execution_count": 1,
   "id": "5f833ae1-d173-4d25-ad53-87241eedfc18",
   "metadata": {},
   "outputs": [
    {
     "data": {
      "text/plain": [
       "(177.01875, 177.0, 177.0)"
      ]
     },
     "execution_count": 1,
     "metadata": {},
     "output_type": "execute_result"
    }
   ],
   "source": [
    "import numpy as np\n",
    "from scipy import stats\n",
    "\n",
    "# Given height data\n",
    "height_data = [178, 177, 176, 177, 178.2, 178, 175, 179, 180, 175, 178.9, 176.2, 177, 172.5, 178, 176.5]\n",
    "\n",
    "# Calculating the three measures of central tendency\n",
    "mean_height = np.mean(height_data)\n",
    "median_height = np.median(height_data)\n",
    "mode_height = stats.mode(height_data, keepdims=True)[0][0]\n",
    "\n",
    "mean_height, median_height, mode_height\n"
   ]
  },
  {
   "cell_type": "markdown",
   "id": "8868432f-a92a-40bd-b08e-f6e01756cc4a",
   "metadata": {},
   "source": [
    "For the given height data:\n",
    "\n",
    "Mean: 177.02 (approximately)\n",
    "Median: 177.0\n",
    "Mode: 177.0\n",
    "These values indicate that the central tendency of the dataset is clustered around 177 cm, with both the median and mode being exactly 177 cm. The mean is slightly above 177 cm, reflecting the overall average height in the dataset."
   ]
  },
  {
   "cell_type": "markdown",
   "id": "66f6768b-7670-43b4-9356-f88405a1fce9",
   "metadata": {},
   "source": [
    "Q4. Find the standard deviation for the given data:\n",
    "[178,177,176,177,178.2,178,175,179,180,175,178.9,176.2,177,172.5,178,176.5]"
   ]
  },
  {
   "cell_type": "code",
   "execution_count": 2,
   "id": "8356fb83-3309-4b30-914a-eabe65e2df0d",
   "metadata": {},
   "outputs": [
    {
     "data": {
      "text/plain": [
       "1.7885814036548633"
      ]
     },
     "execution_count": 2,
     "metadata": {},
     "output_type": "execute_result"
    }
   ],
   "source": [
    "# Calculating the standard deviation for the given height data\n",
    "standard_deviation = np.std(height_data)\n",
    "\n",
    "standard_deviation\n"
   ]
  },
  {
   "cell_type": "markdown",
   "id": "faec68f8-d971-45cd-9ef8-765540515c98",
   "metadata": {},
   "source": [
    "The standard deviation for the given height data is approximately **1.79**. This value indicates the average amount by which the individual heights differ from the mean height of the dataset."
   ]
  },
  {
   "cell_type": "markdown",
   "id": "4319598a-a52e-4fc6-b7d2-42af4ef7d4bb",
   "metadata": {},
   "source": [
    "Q5. How are measures of dispersion such as range, variance, and standard deviation used to describe\n",
    "the spread of a dataset? Provide an example."
   ]
  },
  {
   "cell_type": "markdown",
   "id": "db4a8a20-fb91-47f7-9c8c-d0c7b5396642",
   "metadata": {},
   "source": [
    "Measures of dispersion, such as range, variance, and standard deviation, describe the spread or variability of a dataset. They help us understand how much the data points differ from each other and from the central tendency (mean, median, or mode). Here's how each measure is used:\n",
    "\n",
    "### 1. **Range**\n",
    "- **Definition**: The range is the difference between the maximum and minimum values in a dataset.\n",
    "- **Usage**: The range provides a simple measure of the spread by showing the extent of the data. However, it only considers the two extreme values and does not account for the distribution of the other data points.\n",
    "- **Example**: If the heights in a dataset range from 172.5 cm to 180 cm, the range is \\(180 - 172.5 = 7.5\\) cm.\n",
    "\n",
    "### 2. **Variance**\n",
    "- **Definition**: Variance measures the average of the squared differences from the mean. It quantifies the overall spread of the data by considering how far each data point is from the mean.\n",
    "- **Usage**: Variance is useful for understanding the overall dispersion in a dataset, but because it involves squaring the differences, it can be harder to interpret directly, especially in terms of the original units.\n",
    "- **Example**: For a dataset of heights, the variance will tell us how much the heights vary around the mean height, on average. A high variance indicates a wide spread of heights, while a low variance indicates that most heights are close to the mean.\n",
    "\n",
    "### 3. **Standard Deviation**\n",
    "- **Definition**: The standard deviation is the square root of the variance. It represents the average distance of each data point from the mean, in the same units as the original data.\n",
    "- **Usage**: The standard deviation is widely used because it is easier to interpret than variance—it gives a measure of spread in the same units as the data. It tells us how much the data points typically deviate from the mean.\n",
    "- **Example**: If the standard deviation of the heights in a dataset is 1.79 cm, this means that, on average, each height is about 1.79 cm away from the mean height.\n",
    "\n",
    "### **Example: Understanding Spread in a Dataset**\n",
    "Consider two datasets of student exam scores:\n",
    "\n",
    "- **Dataset A**: [85, 86, 87, 88, 89]\n",
    "- **Dataset B**: [60, 70, 80, 90, 100]\n",
    "\n",
    "Both datasets might have the same mean (e.g., 87), but their spreads are different.\n",
    "\n",
    "- **Range**: \n",
    "  - Dataset A: \\(89 - 85 = 4\\)\n",
    "  - Dataset B: \\(100 - 60 = 40\\)\n",
    "  \n",
    "  Dataset B has a much wider range, indicating greater variability in scores.\n",
    "\n",
    "- **Variance and Standard Deviation**:\n",
    "  - Dataset A: Low variance and standard deviation, as all scores are close to the mean.\n",
    "  - Dataset B: High variance and standard deviation, as scores are spread out over a wide range.\n",
    "\n",
    "These measures help us understand that while both datasets have the same central tendency (mean), Dataset B has a much greater spread, indicating more variability among student scores."
   ]
  },
  {
   "cell_type": "markdown",
   "id": "6ad23daf-7666-4d45-ae0c-9a5e54a19bcd",
   "metadata": {},
   "source": [
    "Q6. What is a Venn diagram?"
   ]
  },
  {
   "cell_type": "markdown",
   "id": "328ce802-a129-4d5d-b797-4b6e3d5774a8",
   "metadata": {},
   "source": [
    "A **Venn diagram** is a visual tool used to illustrate the relationships between different sets. It consists of overlapping circles, where each circle represents a set, and the areas of overlap between circles represent the common elements shared by the sets. Venn diagrams are commonly used in logic, mathematics, statistics, and set theory to show intersections, unions, and differences between sets.\n",
    "\n",
    "### Key Components:\n",
    "- **Circles**: Each circle represents a set of items or elements.\n",
    "- **Overlapping Areas**: The regions where circles overlap show the elements that are common to the sets involved.\n",
    "- **Non-overlapping Areas**: Parts of a circle that do not overlap with others represent elements that are unique to that set.\n",
    "\n",
    "### Example:\n",
    "Consider two sets:\n",
    "- Set A: {1, 2, 3, 4}\n",
    "- Set B: {3, 4, 5, 6}\n",
    "\n",
    "In a Venn diagram:\n",
    "- One circle represents Set A and another circle represents Set B.\n",
    "- The overlapping area between the two circles would contain the elements {3, 4}, which are common to both sets.\n",
    "- The non-overlapping parts of the circles would show {1, 2} (unique to Set A) and {5, 6} (unique to Set B).\n",
    "\n",
    "### Uses:\n",
    "- **Logic**: To illustrate logical relationships and operations like AND, OR, and NOT.\n",
    "- **Set Theory**: To show unions, intersections, and complements of sets.\n",
    "- **Probability**: To visualize events and their probabilities.\n",
    "- **Comparison**: To compare and contrast different groups or categories.\n",
    "\n",
    "Venn diagrams are helpful in making abstract relationships more concrete and easier to understand visually."
   ]
  },
  {
   "cell_type": "markdown",
   "id": "f7e19159-663b-4354-97b3-95c9aa76137f",
   "metadata": {},
   "source": [
    "Q7. For the two given sets A = (2,3,4,5,6,7) & B = (0,2,6,8,10). Find:\n",
    "(i) A ∩ B\n",
    "(ii) A ⋃ B"
   ]
  },
  {
   "cell_type": "markdown",
   "id": "4dd285d1-b2e6-4a3f-9b53-0d5a07094889",
   "metadata": {},
   "source": [
    "A = (2,3,4,5,6,7) B = (0,2,6,8,10)\n",
    "\n",
    "A ∩ B : (A intersection B)\n",
    "This represents the A intersection B which means all the common elements between A and B.\n",
    "The output of the intersections of the above set will be (2,6)\n",
    "A ⋃ B : (A union B)\n",
    "This represents the A union B which means all the elements of A and B ie,distinct elements.\n",
    "The output of the union of the above set will be (0,2,3,4,5,6,7,8,10)"
   ]
  },
  {
   "cell_type": "code",
   "execution_count": 3,
   "id": "a41712c4-502b-45d2-bc5e-24094d0fb09b",
   "metadata": {},
   "outputs": [
    {
     "name": "stdout",
     "output_type": "stream",
     "text": [
      "Intersection of A and B is :  {2, 6}\n",
      "Union of A and B is :  {0, 2, 3, 4, 5, 6, 7, 8, 10}\n"
     ]
    }
   ],
   "source": [
    "A = {2,3,4,5,6,7}\n",
    "B = {0,2,6,8,10}\n",
    "\n",
    "a_intersection_b = A.intersection(B)\n",
    "print(\"Intersection of A and B is : \",a_intersection_b)\n",
    "a_union_b = A.union(B)\n",
    "print(\"Union of A and B is : \",a_union_b)"
   ]
  },
  {
   "cell_type": "markdown",
   "id": "bd5e8672-5ce6-43f9-936e-16a3727af7cd",
   "metadata": {},
   "source": [
    "Q8. What do you understand about skewness in data?"
   ]
  },
  {
   "cell_type": "markdown",
   "id": "a98ed377-2cfa-4851-b5e1-d2c0b45637e7",
   "metadata": {},
   "source": [
    "Skewness is a statistical term that refers to the asymmetry or lack of symmetry in the distribution of a dataset. In a symmetrical distribution, the data is evenly distributed around the mean, with the left and right sides of the distribution mirroring each other. However, in a skewed distribution, the data is concentrated more towards one tail of the distribution, resulting in a longer tail on one side and a shorter tail on the other.\n",
    "\n",
    "Skewness is an essential concept in data analysis as it helps to understand the shape and characteristics of a dataset. There are three types of skewness:\n",
    "\n",
    "1. Positive Skewness (Right Skewness): In a positively skewed distribution, the majority of the data is concentrated towards the lower values (left side) of the distribution, and the tail extends to the right. This results in a longer right tail and a shorter left tail. The mean is typically greater than the median in positively skewed data.\n",
    "Here the Mean > Median >Mode\n",
    "Example of Positive Skewness:\n",
    "Consider the distribution of household incomes in a country. Most households might have lower incomes, with a few extremely high-income households creating a long right tail.\n",
    "2. Negative Skewness (Left Skewness): In a negatively skewed distribution, the majority of the data is concentrated towards the higher values (right side) of the distribution, and the tail extends to the left. This results in a longer left tail and a shorter right tail. The mean is typically less than the median in negatively skewed data.\n",
    "Here the Mean < Median < Mode\n",
    "Example of Negative Skewness:\n",
    "Consider the distribution of test scores in a difficult exam. Most students might score higher marks, but a few students might perform poorly, leading to a long left tail.\n",
    "3. Zero Skewness (Symmetrical/Gaussian Distribution): In a symmetrical distribution, the data is evenly distributed around the mean, and there is no skewness. The left and right sides of the distribution mirror each other, and the mean and median are approximately equal.\n",
    "Here the Mean = Median = Mode\n",
    "Example of Zero Skewness:\n",
    "The distribution of heights in a population, where most people have average heights and the distribution is symmetrical around the mean height."
   ]
  },
  {
   "cell_type": "markdown",
   "id": "c6042ce8-7232-43a4-b7bf-a937c7fae5ce",
   "metadata": {},
   "source": [
    "Q9. If a data is right skewed then what will be the position of median with respect to mean?"
   ]
  },
  {
   "cell_type": "markdown",
   "id": "220c2aa3-0188-481e-90c4-1adf49c3af1d",
   "metadata": {},
   "source": [
    "If a dataset is right-skewed, the median will be positioned to the left of the mean ie the value of median will be smaller than mean.\n",
    "\n",
    "In a right-skewed distribution, the majority of the data is concentrated towards the lower values, resulting in a long tail extending to the right. This elongated tail on the right side is caused by a few extremely high values that pull the mean towards the right. As a result, the mean gets inflated by the presence of these high values, causing it to be larger than the median.\n",
    "\n",
    "The median, on the other hand, is less influenced by extreme values or outliers because it represents the middle value of the dataset when the data is ordered. It is not affected by the specific values in the tail of the distribution.\n",
    "\n",
    "Therefore, in a right-skewed distribution, where the tail is longer on the right, the median will be closer to the bulk of the data on the left side, and it will be to the left of the mean."
   ]
  },
  {
   "cell_type": "markdown",
   "id": "47147d7f-d52b-4cb3-8ded-a6cb77b541cd",
   "metadata": {},
   "source": [
    "Q10. Explain the difference between covariance and correlation. How are these measures used in\n",
    "statistical analysis?"
   ]
  },
  {
   "cell_type": "markdown",
   "id": "afff3950-ae94-4776-83ec-7531a7acf1da",
   "metadata": {},
   "source": [
    "Covariance and Correlation are useful measures in statistical analysis to assess the relationship between two variables. Covariance gives the direction of the relationship, while correlation provides a standardized measure of both direction and strength.\n",
    "\n",
    "Covariance:\n",
    "Covariance measures the degree to which two variables change together. It indicates whether the variables increase or decrease simultaneously. A positive covariance indicates that as one variable increases, the other tends to increase as well. Conversely, a negative covariance indicates that as one variable increases, the other tends to decrease. However, covariance alone does not provide information about the strength or direction of the relationship.\n",
    "\n",
    "Formula for Covariance (for a sample): Cov(X, Y) = Σ((Xi - X̄)(Yi - Ȳ)) / (n - 1)\n",
    "\n",
    "Where:\n",
    "\n",
    "Cov(X, Y) is the covariance between variables X and Y.\n",
    "Xi and Yi are individual data points in the X and Y datasets, respectively.\n",
    "X̄ and Ȳ are the sample means of the X and Y datasets, respectively.\n",
    "n is the number of data points in the datasets.\n",
    "\n",
    "Correlation:\n",
    "Correlation, on the other hand, is a standardized measure that provides the strength and direction of the relationship between two variables. It normalizes the covariance by dividing it by the product of the standard deviations of the two variables, resulting in a value between -1 and +1. A correlation of +1 indicates a perfect positive linear relationship, -1 indicates a perfect negative linear relationship, and 0 indicates no linear relationship.\n",
    "\n",
    "Formula for Correlation (for a sample): Corr(X, Y) = Cov(X, Y) / (sX * sY)\n",
    "\n",
    "Where:\n",
    "\n",
    "Corr(X, Y) is the correlation coefficient between variables X and Y.\n",
    "Cov(X, Y) is the covariance between variables X and Y.\n",
    "sX and sY are the sample standard deviations of variables X and Y, respectively.\n",
    "Both covariance and correlation are used to analyze the relationship between two variables in a dataset:\n",
    "\n",
    "Covariance: Covariance provides a measure of the direction of the relationship (positive or negative) between two variables. However, the value of covariance itself does not give information about the strength of the relationship or its significance, making it less interpretable than correlation.\n",
    "\n",
    "Correlation: Correlation provides a standardized measure of the strength and direction of the linear relationship between two variables. It is widely used because it is scale-independent, making it easier to interpret and compare across different datasets. Positive correlation values indicate that the variables move together, while negative correlation values indicate that they move in opposite directions. A correlation close to +1 or -1 indicates a strong linear relationship, while a correlation close to 0 suggests a weak or no linear relationship."
   ]
  },
  {
   "cell_type": "markdown",
   "id": "2ee144a3-e4a6-47f3-92cc-250e2e354b03",
   "metadata": {},
   "source": [
    "Q11. What is the formula for calculating the sample mean? Provide an example calculation for a\n",
    "dataset."
   ]
  },
  {
   "cell_type": "markdown",
   "id": "3cb04ed0-94dd-4972-a7e3-65d0c610089b",
   "metadata": {},
   "source": [
    "The formula for calculating the sample mean is:\n",
    "\n",
    "Sample Mean (x̄) = (Sum of all data points) / (Number of data points)\n",
    "\n",
    "In mathematical notation: x̄ = (Σ Xi) / n\n",
    "\n",
    "Where:\n",
    "\n",
    "x̄ is the sample mean.\n",
    "Σ represents the summation symbol (sum of all data points).\n",
    "Xi represents individual data points in the dataset.\n",
    "n is the number of data points in the sample.\n",
    "Example : Taking the grades of a sample student = [81,79,90,98,92]\n",
    "\n",
    "Number of samples (n) = 5\n",
    "\n",
    "Mean = (81+79+90+98+92)/5 = 440/5 = 88\n",
    "Therefore the Mean of the sample data is 88"
   ]
  },
  {
   "cell_type": "markdown",
   "id": "8354eb49-29cf-4eb7-b5d9-46373cc7e551",
   "metadata": {},
   "source": [
    "Q12. For a normal distribution data what is the relationship between its measure of central tendency?"
   ]
  },
  {
   "cell_type": "markdown",
   "id": "d184d0aa-7352-4999-82c1-f56f4d705ff3",
   "metadata": {},
   "source": [
    "For a normal distribution, the three measures of central tendency, namely the mean, median, and mode, are all equal to each other. In a perfectly symmetrical normal distribution, the data is evenly distributed around the center, resulting in the same value for each measure of central tendency.\n",
    "\n",
    "Mean = Median = Mode\n",
    "\n",
    "The relationship between the measures of central tendency in a normal distribution is as follows:\n",
    "\n",
    "Mean: The mean of a normal distribution is located at the center of the distribution, and it is equal to the median and the mode.\n",
    "\n",
    "Median: The median of a normal distribution is also located at the center of the distribution, and it is equal to the mean and the mode.\n",
    "\n",
    "Mode: The mode of a normal distribution is the peak point of the curve, and it is equal to both the mean and the median.\n",
    "\n",
    "This equality between the mean, median, and mode in a normal distribution is a characteristic of its symmetry. The symmetrical shape of the normal distribution curve is bell-shaped, and half of the data lies on either side of the mean, resulting in the median being the same as the mean and mode."
   ]
  },
  {
   "cell_type": "markdown",
   "id": "78fbb587-8872-4d0c-917b-12a26737d5f9",
   "metadata": {},
   "source": [
    "Q13. How is covariance different from correlation?"
   ]
  },
  {
   "cell_type": "markdown",
   "id": "6be975a7-3cb6-491f-bbd2-ea97343846df",
   "metadata": {},
   "source": [
    "Covariance and Correlation are useful measures in statistical analysis to assess the relationship between two variables. Covariance gives the direction of the relationship, while correlation provides a standardized measure of both direction and strength.\n",
    "\n",
    "Covariance:\n",
    "Covariance measures the degree to which two variables change together. It indicates whether the variables increase or decrease simultaneously. A positive covariance indicates that as one variable increases, the other tends to increase as well. Conversely, a negative covariance indicates that as one variable increases, the other tends to decrease. However, covariance alone does not provide information about the strength or direction of the relationship.\n",
    "\n",
    "Formula for Covariance (for a sample): Cov(X, Y) = Σ((Xi - X̄)(Yi - Ȳ)) / (n - 1)\n",
    "\n",
    "Where:\n",
    "\n",
    "Cov(X, Y) is the covariance between variables X and Y.\n",
    "Xi and Yi are individual data points in the X and Y datasets, respectively.\n",
    "X̄ and Ȳ are the sample means of the X and Y datasets, respectively.\n",
    "n is the number of data points in the datasets.\n",
    "\n",
    "Correlation:\n",
    "Correlation, on the other hand, is a standardized measure that provides the strength and direction of the relationship between two variables. It normalizes the covariance by dividing it by the product of the standard deviations of the two variables, resulting in a value between -1 and +1. A correlation of +1 indicates a perfect positive linear relationship, -1 indicates a perfect negative linear relationship, and 0 indicates no linear relationship.\n",
    "\n",
    "Formula for Correlation (for a sample): Corr(X, Y) = Cov(X, Y) / (sX * sY)\n",
    "\n",
    "Where:\n",
    "\n",
    "Corr(X, Y) is the correlation coefficient between variables X and Y.\n",
    "Cov(X, Y) is the covariance between variables X and Y.\n",
    "sX and sY are the sample standard deviations of variables X and Y, respectively.\n",
    "Covariance and Correlation are useful measures in statistical analysis to assess the relationship between two variables. Covariance gives the direction of the relationship, while correlation provides a standardized measure of both direction and strength."
   ]
  },
  {
   "cell_type": "markdown",
   "id": "073894af-f48b-4e09-8140-cfb1f67d154f",
   "metadata": {},
   "source": [
    "Q14. How do outliers affect measures of central tendency and dispersion? Provide an example."
   ]
  },
  {
   "cell_type": "markdown",
   "id": "bbf6550d-6bbd-4d2a-8501-1254c7513d3d",
   "metadata": {},
   "source": [
    "Outliers can have a significant impact on measures of central tendency and dispersion in a dataset. An outlier is an extreme value that is unusually distant from the rest of the data points. When present in a dataset, outliers can distort the typical characteristics of the data, affecting both the central tendency and the spread of the data."
   ]
  },
  {
   "cell_type": "code",
   "execution_count": 4,
   "id": "6aa23513-9239-46cf-bf7e-848836c942b7",
   "metadata": {},
   "outputs": [],
   "source": [
    "import numpy as np\n",
    "from scipy import stats\n",
    "data1 = [178,177,176,177,178.2,178,175,179,180,175,178.9,176.2,177,172.5,178,176.5,220]\n",
    "data2 = [178,177,176,177,178.2,178,175,179,180,175,178.9,176.2,177,172.5,178,176.5,220,210,204]\n",
    "data3 = [178,177,176,177,178.2,178,175,179,180,175,178.9,176.2,177,172.5,178,176.5]"
   ]
  },
  {
   "cell_type": "code",
   "execution_count": 5,
   "id": "2ce272ff-2213-4e3c-9b74-93bccc5b92e4",
   "metadata": {},
   "outputs": [
    {
     "name": "stdout",
     "output_type": "stream",
     "text": [
      "Mean Of Data3 :  177.01875\n",
      "Mean Of Data1 :  179.54705882352943\n",
      "Mean Of Data2 :  182.43684210526317\n"
     ]
    }
   ],
   "source": [
    "print(\"Mean Of Data3 : \",np.mean(data3))\n",
    "print(\"Mean Of Data1 : \",np.mean(data1))\n",
    "print(\"Mean Of Data2 : \",np.mean(data2))"
   ]
  },
  {
   "cell_type": "code",
   "execution_count": 6,
   "id": "a5ed4b2e-d514-45db-b7fc-599fa4dcafbc",
   "metadata": {},
   "outputs": [
    {
     "name": "stdout",
     "output_type": "stream",
     "text": [
      "Median of Data3 :  177.0\n",
      "Median of Data2 :  178.0\n",
      "Median of Data1 :  177.0\n"
     ]
    }
   ],
   "source": [
    "print(\"Median of Data3 : \",np.median(data3))\n",
    "print(\"Median of Data2 : \",np.median(data2))\n",
    "print(\"Median of Data1 : \",np.median(data1))"
   ]
  },
  {
   "cell_type": "code",
   "execution_count": 7,
   "id": "0de3f8bc-13d2-4ba0-a59c-eaaa08fdbd58",
   "metadata": {},
   "outputs": [
    {
     "name": "stdout",
     "output_type": "stream",
     "text": [
      "Mode of Data3 :  ModeResult(mode=array([177.]), count=array([3]))\n",
      "Mode of Data2 :  ModeResult(mode=array([177.]), count=array([3]))\n",
      "Mode of Data1 :  ModeResult(mode=array([177.]), count=array([3]))\n"
     ]
    },
    {
     "name": "stderr",
     "output_type": "stream",
     "text": [
      "/tmp/ipykernel_95/440783010.py:1: FutureWarning: Unlike other reduction functions (e.g. `skew`, `kurtosis`), the default behavior of `mode` typically preserves the axis it acts along. In SciPy 1.11.0, this behavior will change: the default value of `keepdims` will become False, the `axis` over which the statistic is taken will be eliminated, and the value None will no longer be accepted. Set `keepdims` to True or False to avoid this warning.\n",
      "  print(\"Mode of Data3 : \",stats.mode(data3))\n",
      "/tmp/ipykernel_95/440783010.py:2: FutureWarning: Unlike other reduction functions (e.g. `skew`, `kurtosis`), the default behavior of `mode` typically preserves the axis it acts along. In SciPy 1.11.0, this behavior will change: the default value of `keepdims` will become False, the `axis` over which the statistic is taken will be eliminated, and the value None will no longer be accepted. Set `keepdims` to True or False to avoid this warning.\n",
      "  print(\"Mode of Data2 : \",stats.mode(data2))\n",
      "/tmp/ipykernel_95/440783010.py:3: FutureWarning: Unlike other reduction functions (e.g. `skew`, `kurtosis`), the default behavior of `mode` typically preserves the axis it acts along. In SciPy 1.11.0, this behavior will change: the default value of `keepdims` will become False, the `axis` over which the statistic is taken will be eliminated, and the value None will no longer be accepted. Set `keepdims` to True or False to avoid this warning.\n",
      "  print(\"Mode of Data1 : \",stats.mode(data1))\n"
     ]
    }
   ],
   "source": [
    "print(\"Mode of Data3 : \",stats.mode(data3))\n",
    "print(\"Mode of Data2 : \",stats.mode(data2))\n",
    "print(\"Mode of Data1 : \",stats.mode(data1))"
   ]
  },
  {
   "cell_type": "markdown",
   "id": "c61f517c-f464-4f4d-aa7a-c2547051dcd3",
   "metadata": {},
   "source": [
    "Here we observe that :\n",
    "\n",
    "The Mean is the one which is most affected with outliers.There is a significant change in mean with the increase in the presence of outliers.\n",
    "The Mean of the data without outliers is 177.01\n",
    "The Mean of the data with 1 outlier is 179.43\n",
    "The Mean of the data with 3 outlier is 182.54\n",
    "The Median is not much affected with the presence of outliers in the data but the affect is significantly smaller compared to mean\n",
    "\n",
    "The Median of the data without outliers is 177.00\n",
    "The Median of the data with 1 outlier is 177.00\n",
    "The Median of the data with 3 outliers is 178.00\n",
    "The Mode is not affected with the presence of outliers in the data\n",
    "\n",
    "The Mode of the data without outliers is 177.00\n",
    "The Mode of the data with 1 outlier is 177.00\n",
    "The Mode of the data with 3 outliers is 177.010"
   ]
  },
  {
   "cell_type": "code",
   "execution_count": null,
   "id": "9cb13b55-f3a3-448a-af0b-33a2a5889f79",
   "metadata": {},
   "outputs": [],
   "source": []
  }
 ],
 "metadata": {
  "kernelspec": {
   "display_name": "Python 3 (ipykernel)",
   "language": "python",
   "name": "python3"
  },
  "language_info": {
   "codemirror_mode": {
    "name": "ipython",
    "version": 3
   },
   "file_extension": ".py",
   "mimetype": "text/x-python",
   "name": "python",
   "nbconvert_exporter": "python",
   "pygments_lexer": "ipython3",
   "version": "3.10.8"
  }
 },
 "nbformat": 4,
 "nbformat_minor": 5
}
