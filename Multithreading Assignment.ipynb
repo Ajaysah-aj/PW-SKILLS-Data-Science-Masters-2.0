{
 "cells": [
  {
   "cell_type": "markdown",
   "id": "d3b9c98c-7d8c-443d-b8e6-5dd707ddec13",
   "metadata": {},
   "source": [
    "Q1). What is multithreading in python?Why is it used? Name the module used to handle threads in python."
   ]
  },
  {
   "cell_type": "markdown",
   "id": "3a351c27-776c-4392-968e-f238f6ec5dbc",
   "metadata": {},
   "source": [
    "Multithreading in Python refers to the ability to run multiple threads (smaller units of a process) concurrently within a single process. A thread is the smallest unit of a process, and multithreading allows different parts of a program to run simultaneously, potentially improving performance, especially in I/O-bound or high-latency tasks.\n",
    "\n",
    "Why is Multithreading Used?\n",
    "Concurrency: Multithreading allows a program to perform multiple operations at the same time, improving efficiency, especially for tasks that involve waiting, such as reading/writing to a file or network operations.\n",
    "\n",
    "Improved Performance: In I/O-bound applications, where operations are frequently waiting for input/output, multithreading can significantly improve performance by running other threads while one is waiting.\n",
    "\n",
    "Responsiveness: In applications with a graphical user interface (GUI), multithreading helps keep the interface responsive by delegating long-running tasks to a background thread.\n",
    "\n",
    "Limitations:\n",
    "Global Interpreter Lock (GIL): Python has a Global Interpreter Lock (GIL) that prevents multiple native threads from executing Python bytecodes at once. This means that for CPU-bound tasks, where the threads are competing for CPU resources, multithreading may not provide a performance boost. In such cases, multiprocessing or other parallel processing techniques are often preferred.\n",
    "Module Used to Handle Threads in Python:\n",
    "threading Module: This is the standard Python module for creating and managing threads. It provides a way to create, start, and manage multiple threads in a Python program."
   ]
  },
  {
   "cell_type": "code",
   "execution_count": 1,
   "id": "1f86117f-cbe6-4cef-8d9e-04268a0f7c46",
   "metadata": {},
   "outputs": [
    {
     "name": "stdout",
     "output_type": "stream",
     "text": [
      "0\n",
      "1\n",
      "2\n",
      "3\n",
      "4\n"
     ]
    }
   ],
   "source": [
    "import threading\n",
    "\n",
    "def print_numbers():\n",
    "    for i in range(5):\n",
    "        print(i)\n",
    "\n",
    "# Create a thread\n",
    "thread = threading.Thread(target=print_numbers)\n",
    "\n",
    "# Start the thread\n",
    "thread.start()\n",
    "\n",
    "# Wait for the thread to complete\n",
    "thread.join()\n"
   ]
  },
  {
   "cell_type": "markdown",
   "id": "899a287d-0b75-403d-80da-38deeaf0ca56",
   "metadata": {},
   "source": [
    "Q2. Why threading module used? Write the use of the following functions\n",
    "1. activeCount()\n",
    "2. currentThread()\n",
    "3. enumerate()"
   ]
  },
  {
   "cell_type": "markdown",
   "id": "6f302662-7b8e-4951-9ea1-bb9386267bd2",
   "metadata": {},
   "source": [
    "The threading module in Python is used to create and manage threads, allowing a program to run multiple operations concurrently. This module provides an easy way to work with threads, making it possible to run different parts of a program simultaneously, which is especially useful for I/O-bound tasks and improving the responsiveness of applications."
   ]
  },
  {
   "cell_type": "markdown",
   "id": "1fd1d034-57f4-42ec-bf3a-0529db8f4128",
   "metadata": {},
   "source": [
    "Use of Specific Functions in the threading Module:"
   ]
  },
  {
   "cell_type": "markdown",
   "id": "617df66c-6ed8-4a8b-92af-a7aa1c1f941b",
   "metadata": {},
   "source": [
    "1. activeCount():\n",
    "\n",
    "Purpose: This function returns the number of Thread objects currently alive (i.e., threads that have been started and not yet finished).\n",
    "Usage: It is helpful when you need to check how many threads are currently running in your program."
   ]
  },
  {
   "cell_type": "code",
   "execution_count": 2,
   "id": "30a781ce-a428-4bab-9704-1e49c302a35c",
   "metadata": {},
   "outputs": [
    {
     "name": "stdout",
     "output_type": "stream",
     "text": [
      "Active threads count: 8\n"
     ]
    },
    {
     "name": "stderr",
     "output_type": "stream",
     "text": [
      "/tmp/ipykernel_740/4187572996.py:4: DeprecationWarning: activeCount() is deprecated, use active_count() instead\n",
      "  print(\"Active threads count:\", threading.activeCount())\n"
     ]
    }
   ],
   "source": [
    "import threading\n",
    "\n",
    "# Example\n",
    "print(\"Active threads count:\", threading.activeCount())\n"
   ]
  },
  {
   "cell_type": "markdown",
   "id": "b9d4234e-1c15-4d34-846c-42e0e26719c1",
   "metadata": {},
   "source": [
    "2. currentThread():\n",
    "\n",
    "Purpose: This function returns the Thread object corresponding to the caller's thread of control. In other words, it gives you a reference to the thread from which it is called.\n",
    "Usage: Useful when you need to perform operations or access properties of the currently running thread."
   ]
  },
  {
   "cell_type": "code",
   "execution_count": 3,
   "id": "f1fc66ba-3211-466c-9cc8-67549911e6bd",
   "metadata": {},
   "outputs": [
    {
     "name": "stdout",
     "output_type": "stream",
     "text": [
      "Current thread: MainThread\n"
     ]
    },
    {
     "name": "stderr",
     "output_type": "stream",
     "text": [
      "/tmp/ipykernel_740/3449884585.py:4: DeprecationWarning: currentThread() is deprecated, use current_thread() instead\n",
      "  current = threading.currentThread()\n",
      "/tmp/ipykernel_740/3449884585.py:5: DeprecationWarning: getName() is deprecated, get the name attribute instead\n",
      "  print(\"Current thread:\", current.getName())\n"
     ]
    }
   ],
   "source": [
    "import threading\n",
    "\n",
    "# Example\n",
    "current = threading.currentThread()\n",
    "print(\"Current thread:\", current.getName())\n"
   ]
  },
  {
   "cell_type": "markdown",
   "id": "3a5ef967-49b3-43ab-8046-20e86b39dd85",
   "metadata": {},
   "source": [
    "3. enumerate():\n",
    "\n",
    "Purpose: This function returns a list of all Thread objects currently alive, excluding terminated threads and dummy thread objects.\n",
    "Usage: It is useful when you need to get a list of all active threads and possibly perform operations on them, such as printing their names or checking their statuses."
   ]
  },
  {
   "cell_type": "code",
   "execution_count": 4,
   "id": "1c1ee621-ded3-4087-8b61-69343def6603",
   "metadata": {},
   "outputs": [
    {
     "name": "stdout",
     "output_type": "stream",
     "text": [
      "All active threads:\n",
      "MainThread\n",
      "IOPub\n",
      "Heartbeat\n",
      "Thread-3 (_watch_pipe_fd)\n",
      "Thread-4 (_watch_pipe_fd)\n",
      "Control\n",
      "IPythonHistorySavingThread\n",
      "Thread-2\n"
     ]
    },
    {
     "name": "stderr",
     "output_type": "stream",
     "text": [
      "/tmp/ipykernel_740/1355185314.py:7: DeprecationWarning: getName() is deprecated, get the name attribute instead\n",
      "  print(thread.getName())\n"
     ]
    }
   ],
   "source": [
    "import threading\n",
    "\n",
    "# Example\n",
    "threads = threading.enumerate()\n",
    "print(\"All active threads:\")\n",
    "for thread in threads:\n",
    "    print(thread.getName())\n"
   ]
  },
  {
   "cell_type": "markdown",
   "id": "9686e4ca-901e-4acb-897a-521a42df4d1a",
   "metadata": {},
   "source": [
    "Q3. Explain the following functions\n",
    "1. run()\n",
    "2. start()\n",
    "3. join()\n",
    "4. isAlive()"
   ]
  },
  {
   "cell_type": "markdown",
   "id": "14654063-6652-41da-b935-944919e13548",
   "metadata": {},
   "source": [
    "1. run():\n",
    "Purpose: The run() method is where the thread’s activity is defined. When a thread is started by calling its start() method, the run() method is executed in a separate thread of control.\n",
    "Usage: You typically override this method in a subclass to define what the thread should do.\n",
    "Note: You don’t call run() directly; instead, you use the start() method, which in turn calls run()."
   ]
  },
  {
   "cell_type": "code",
   "execution_count": 5,
   "id": "af70e7ec-f2bf-4437-8ad7-a7410e873158",
   "metadata": {},
   "outputs": [
    {
     "name": "stdout",
     "output_type": "stream",
     "text": [
      "Thread is running\n"
     ]
    }
   ],
   "source": [
    "import threading\n",
    "\n",
    "class MyThread(threading.Thread):\n",
    "    def run(self):\n",
    "        print(\"Thread is running\")\n",
    "\n",
    "thread = MyThread()\n",
    "thread.start()  # This internally calls thread.run()\n"
   ]
  },
  {
   "cell_type": "markdown",
   "id": "7711f5b6-4e18-440e-851b-ee9f7a1ed11a",
   "metadata": {},
   "source": [
    "2. start():\n",
    "Purpose: The start() method begins the thread’s activity. It arranges for the thread’s run() method to be invoked in a separate thread of control.\n",
    "Usage: This method is called to start a new thread. You should always use start() instead of run() directly because start() handles the thread’s lifecycle properly.\n",
    "Note: After calling start(), the thread moves from the \"new\" state to the \"runnable\" state, and eventually, the run() method is executed."
   ]
  },
  {
   "cell_type": "code",
   "execution_count": 6,
   "id": "3f834f59-dcaa-4652-909f-eb88a50cc241",
   "metadata": {},
   "outputs": [
    {
     "name": "stdout",
     "output_type": "stream",
     "text": [
      "Hello from the thread\n"
     ]
    }
   ],
   "source": [
    "import threading\n",
    "\n",
    "def print_hello():\n",
    "    print(\"Hello from the thread\")\n",
    "\n",
    "thread = threading.Thread(target=print_hello)\n",
    "thread.start()  # Starts the thread and calls print_hello\n"
   ]
  },
  {
   "cell_type": "markdown",
   "id": "61d9c769-29d8-4614-b791-4b696fad34a7",
   "metadata": {},
   "source": [
    "3. join():\n",
    "Purpose: The join() method blocks the calling thread until the thread on which join() was called terminates (completes execution). This is often used to ensure that a thread has completed its work before proceeding in the program.\n",
    "Usage: It’s useful when you want to wait for a thread to finish before moving on to other parts of the code.\n",
    "Note: You can optionally pass a timeout value to join(timeout) to specify how long to wait."
   ]
  },
  {
   "cell_type": "code",
   "execution_count": 7,
   "id": "2e309026-fbca-47e5-b71b-885224a915b5",
   "metadata": {},
   "outputs": [
    {
     "name": "stdout",
     "output_type": "stream",
     "text": [
      "0\n",
      "1\n",
      "2\n",
      "3\n",
      "4\n",
      "Thread has finished\n"
     ]
    }
   ],
   "source": [
    "import threading\n",
    "\n",
    "def print_numbers():\n",
    "    for i in range(5):\n",
    "        print(i)\n",
    "\n",
    "thread = threading.Thread(target=print_numbers)\n",
    "thread.start()\n",
    "thread.join()  # Waits until thread completes before continuing\n",
    "print(\"Thread has finished\")\n"
   ]
  },
  {
   "cell_type": "markdown",
   "id": "bd34f2b0-0bb9-4ea7-b177-cad43aaa939d",
   "metadata": {},
   "source": [
    "4. isAlive():\n",
    "Purpose: The isAlive() method checks whether a thread is still running. It returns True if the thread is still active (i.e., started but not yet terminated) and False otherwise.\n",
    "Usage: Useful for checking the status of a thread, especially in cases where you need to know if the thread has finished its task.\n",
    "Note: In Python 3.9 and later, isAlive() has been replaced with is_alive()."
   ]
  },
  {
   "cell_type": "code",
   "execution_count": 8,
   "id": "b7715d7e-c8f7-40dd-8d39-b4cdb2d51115",
   "metadata": {},
   "outputs": [
    {
     "name": "stdout",
     "output_type": "stream",
     "text": [
      "0\n",
      "1\n",
      "2\n",
      "3\n",
      "4\n"
     ]
    },
    {
     "ename": "AttributeError",
     "evalue": "'Thread' object has no attribute 'isAlive'",
     "output_type": "error",
     "traceback": [
      "\u001b[0;31m---------------------------------------------------------------------------\u001b[0m",
      "\u001b[0;31mAttributeError\u001b[0m                            Traceback (most recent call last)",
      "Cell \u001b[0;32mIn[8], line 10\u001b[0m\n\u001b[1;32m      7\u001b[0m thread \u001b[38;5;241m=\u001b[39m threading\u001b[38;5;241m.\u001b[39mThread(target\u001b[38;5;241m=\u001b[39mprint_numbers)\n\u001b[1;32m      8\u001b[0m thread\u001b[38;5;241m.\u001b[39mstart()\n\u001b[0;32m---> 10\u001b[0m \u001b[38;5;28;01mif\u001b[39;00m \u001b[43mthread\u001b[49m\u001b[38;5;241;43m.\u001b[39;49m\u001b[43misAlive\u001b[49m():\n\u001b[1;32m     11\u001b[0m     \u001b[38;5;28mprint\u001b[39m(\u001b[38;5;124m\"\u001b[39m\u001b[38;5;124mThread is still running\u001b[39m\u001b[38;5;124m\"\u001b[39m)\n\u001b[1;32m     12\u001b[0m \u001b[38;5;28;01melse\u001b[39;00m:\n",
      "\u001b[0;31mAttributeError\u001b[0m: 'Thread' object has no attribute 'isAlive'"
     ]
    }
   ],
   "source": [
    "import threading\n",
    "\n",
    "def print_numbers():\n",
    "    for i in range(5):\n",
    "        print(i)\n",
    "\n",
    "thread = threading.Thread(target=print_numbers)\n",
    "thread.start()\n",
    "\n",
    "if thread.isAlive():\n",
    "    print(\"Thread is still running\")\n",
    "else:\n",
    "    print(\"Thread has finished\")\n"
   ]
  },
  {
   "cell_type": "markdown",
   "id": "2ce71b14-f844-40c0-9bbe-002a501f86b8",
   "metadata": {},
   "source": [
    "Q4. Write a python program to create two threads. Thread one must print the list of squares and thread\n",
    "two must print the list of cubes."
   ]
  },
  {
   "cell_type": "code",
   "execution_count": 9,
   "id": "110045cf-6a7d-4704-a034-569e1092843c",
   "metadata": {},
   "outputs": [
    {
     "name": "stdout",
     "output_type": "stream",
     "text": [
      "Squares:\n",
      "1\n",
      "4\n",
      "9\n",
      "16\n",
      "25\n",
      "Cubes:\n",
      "1\n",
      "8\n",
      "27\n",
      "64\n",
      "125\n"
     ]
    }
   ],
   "source": [
    "import threading\n",
    "\n",
    "# Function to print squares of numbers\n",
    "def print_squares(numbers):\n",
    "    print(\"Squares:\")\n",
    "    for number in numbers:\n",
    "        print(number ** 2)\n",
    "\n",
    "# Function to print cubes of numbers\n",
    "def print_cubes(numbers):\n",
    "    print(\"Cubes:\")\n",
    "    for number in numbers:\n",
    "        print(number ** 3)\n",
    "\n",
    "# List of numbers to work with\n",
    "numbers = [1, 2, 3, 4, 5]\n",
    "\n",
    "# Create threads\n",
    "thread1 = threading.Thread(target=print_squares, args=(numbers,))\n",
    "thread2 = threading.Thread(target=print_cubes, args=(numbers,))\n",
    "\n",
    "# Start threads\n",
    "thread1.start()\n",
    "thread2.start()\n",
    "\n",
    "# Wait for both threads to complete\n",
    "thread1.join()\n",
    "thread2.join()\n"
   ]
  },
  {
   "cell_type": "markdown",
   "id": "73ba1c40-b43d-4ed8-8e30-5f17c3fde036",
   "metadata": {},
   "source": [
    "Q5. State advantages and disadvantages of multithreading."
   ]
  },
  {
   "cell_type": "markdown",
   "id": "cdde2e1a-de7b-4137-8aca-7f19a4f7258d",
   "metadata": {},
   "source": [
    "   * Advantages of Multithreading\n",
    "1. Improved Responsiveness:\n",
    "Multithreading allows a program to remain responsive, especially in applications with graphical user interfaces (GUIs) or those performing long-running operations. For instance, a GUI can remain responsive to user inputs while performing background tasks in separate threads.\n",
    "\n",
    "2. Concurrency:\n",
    "It enables concurrent execution of tasks, which can improve the efficiency of programs that involve waiting for I/O operations, such as reading from or writing to files, network communications, or user inputs.\n",
    "\n",
    "3. Resource Sharing:\n",
    "Threads within the same process share the same memory space, which makes communication and data sharing between threads more straightforward and less resource-intensive compared to inter-process communication.\n",
    "\n",
    "4. Better CPU Utilization:\n",
    "On multi-core systems, threads can be scheduled on different cores, allowing parallel execution of tasks and potentially improving overall performance for suitable workloads.\n",
    "\n",
    "5. Simplified Program Structure:\n",
    "For certain types of problems, multithreading can simplify the design of the program by dividing the work into separate threads, making the program logic cleaner and more modular.\n",
    "\n",
    "     *Disadvantages of Multithreading\n",
    "1. Complexity:\n",
    "Multithreading introduces complexity in program design and debugging. Managing multiple threads, ensuring proper synchronization, and handling concurrent access to shared resources can be challenging and error-prone.\n",
    "\n",
    "2. Concurrency Issues:\n",
    "Problems such as race conditions, deadlocks, and resource starvation can arise when threads access shared resources. Proper synchronization mechanisms (e.g., locks, semaphores) are needed to avoid these issues, which can complicate the code.\n",
    "\n",
    "3. Overhead:\n",
    "Creating and managing threads involves overhead. The operating system needs to manage context switching between threads, which can lead to performance penalties if not managed carefully.\n",
    "\n",
    "4. Global Interpreter Lock (GIL) in Python:\n",
    "In Python, the Global Interpreter Lock (GIL) can limit the effectiveness of multithreading for CPU-bound tasks. The GIL ensures that only one thread executes Python bytecode at a time, which can reduce the performance benefits of multithreading in such cases. For CPU-bound tasks, multiprocessing or other parallelism strategies might be preferred.\n",
    "\n",
    "5. Debugging Difficulty:\n",
    "Multithreaded programs can be harder to debug due to non-deterministic behavior. Bugs might only appear under certain conditions or timings, making them difficult to reproduce and fix.\n",
    "In summary, while multithreading can offer significant advantages in terms of responsiveness and resource sharing, it also comes with complexities and potential issues that need to be carefully managed."
   ]
  },
  {
   "cell_type": "markdown",
   "id": "0709811c-b7d3-4b69-b581-b83b21e2dba9",
   "metadata": {},
   "source": [
    "Q6. Explain deadlocks and race conditions."
   ]
  },
  {
   "cell_type": "markdown",
   "id": "d9c6ce8f-14eb-4cd0-ac1b-e2677f65148e",
   "metadata": {},
   "source": [
    "    *Deadlocks\n",
    "Definition: A deadlock is a situation in which two or more threads or processes are unable to proceed because each is waiting for the other to release resources or locks. In other words, the threads are in a state of indefinite waiting, resulting in a halt in their execution.\n",
    "\n",
    "Causes:\n",
    "\n",
    "Mutual Exclusion: At least one resource must be held in a non-shareable mode, meaning only one thread or process can hold the resource at a time.\n",
    "Hold and Wait: A thread or process is holding at least one resource and is waiting to acquire additional resources held by other threads.\n",
    "No Preemption: Resources cannot be forcibly taken from threads holding them; they must be released voluntarily.\n",
    "Circular Wait: There is a circular chain of threads or processes, where each one is waiting for a resource that the next one in the chain holds.\n",
    "Example: Consider two threads, Thread A and Thread B.\n",
    "\n",
    "Thread A holds Resource 1 and waits for Resource 2.\n",
    "Thread B holds Resource 2 and waits for Resource 1.\n",
    "In this scenario, both threads are waiting indefinitely for each other’s resources, causing a deadlock.\n",
    "\n",
    "Prevention and Avoidance:\n",
    "\n",
    "Prevention: Ensure that at least one of the necessary conditions for deadlock is not met (e.g., avoiding hold and wait by requiring threads to request all resources at once).\n",
    "Avoidance: Use algorithms like Banker's Algorithm to dynamically check whether resource allocation will lead to a safe state.\n",
    "Detection and Recovery: Allow deadlocks to occur but have mechanisms to detect them and take actions to recover, such as killing one of the threads.\n",
    "\n",
    "\n",
    "    *Race Conditions\n",
    "Definition: A race condition occurs when the outcome of a program depends on the non-deterministic timing or order of execution of concurrent threads or processes. It arises when multiple threads access shared resources without proper synchronization, leading to unpredictable and often erroneous behavior.\n",
    "\n",
    "Causes:\n",
    "\n",
    "Lack of Synchronization: When multiple threads access and modify shared resources without proper locking mechanisms, it can lead to inconsistent or incorrect results.\n",
    "Interleaving of Operations: The order in which threads interleave their operations can affect the final outcome. For instance, if two threads modify a shared variable without synchronization, the final value may not be what was expected.\n",
    "\n",
    "If two threads run this increment function concurrently without synchronization, they may both read the same initial value of counter before incrementing it, leading to missed updates. As a result, counter may not reach the expected value of 2000.\n",
    "\n",
    "Prevention and Avoidance:\n",
    "\n",
    "Synchronization: Use synchronization mechanisms like locks (threading.Lock), semaphores, or mutexes to control access to shared resources and prevent concurrent modifications.\n",
    "Atomic Operations: Use atomic operations or thread-safe data structures provided by the language or libraries to ensure that operations on shared resources are performed in an indivisible manner."
   ]
  },
  {
   "cell_type": "code",
   "execution_count": 10,
   "id": "e1df97de-444e-49fd-bf49-37cfde2e8a29",
   "metadata": {},
   "outputs": [],
   "source": [
    "counter = 0\n",
    "\n",
    "def increment():\n",
    "    global counter\n",
    "    for _ in range(1000):\n",
    "        counter += 1\n"
   ]
  },
  {
   "cell_type": "markdown",
   "id": "09c42a70-d51d-4ae1-9fb1-f0e9231a4415",
   "metadata": {},
   "source": [
    "Summary\n",
    "Deadlocks occur when threads are stuck waiting for each other’s resources, leading to a standstill in execution.\n",
    "Race Conditions occur when threads interfere with each other due to unsynchronized access to shared resources, leading to unpredictable results."
   ]
  }
 ],
 "metadata": {
  "kernelspec": {
   "display_name": "Python 3 (ipykernel)",
   "language": "python",
   "name": "python3"
  },
  "language_info": {
   "codemirror_mode": {
    "name": "ipython",
    "version": 3
   },
   "file_extension": ".py",
   "mimetype": "text/x-python",
   "name": "python",
   "nbconvert_exporter": "python",
   "pygments_lexer": "ipython3",
   "version": "3.10.8"
  }
 },
 "nbformat": 4,
 "nbformat_minor": 5
}
