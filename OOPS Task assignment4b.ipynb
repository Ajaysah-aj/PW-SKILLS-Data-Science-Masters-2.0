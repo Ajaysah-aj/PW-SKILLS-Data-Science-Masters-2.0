{
 "cells": [
  {
   "cell_type": "markdown",
   "id": "93b7503e-e3f8-43c2-a115-dc6be255bf96",
   "metadata": {},
   "source": [
    "Q1, Create a vehicle class with an init method having instance variables as name_of_vehicle, max_speed\n",
    "and average_of_vehicle."
   ]
  },
  {
   "cell_type": "code",
   "execution_count": 1,
   "id": "6712e896-6fa1-4bb9-80a8-c11e58ada7b9",
   "metadata": {},
   "outputs": [
    {
     "name": "stdout",
     "output_type": "stream",
     "text": [
      "Vehicle Name: Toyota Camry, Max Speed: 240 km/h, Average Speed: 20 km/h\n"
     ]
    }
   ],
   "source": [
    "class Vehicle:\n",
    "    def __init__(self, name_of_vehicle, max_speed, average_of_vehicle):\n",
    "        # Initialize instance variables\n",
    "        self.name_of_vehicle = name_of_vehicle\n",
    "        self.max_speed = max_speed\n",
    "        self.average_of_vehicle = average_of_vehicle\n",
    "\n",
    "    def display_info(self):\n",
    "        return (f\"Vehicle Name: {self.name_of_vehicle}, \"\n",
    "                f\"Max Speed: {self.max_speed} km/h, \"\n",
    "                f\"Average Speed: {self.average_of_vehicle} km/h\")\n",
    "\n",
    "# Creating an object of the Vehicle class\n",
    "my_vehicle = Vehicle(\"Toyota Camry\", 240, 20)\n",
    "\n",
    "# Accessing the instance variables and method\n",
    "print(my_vehicle.display_info())\n"
   ]
  },
  {
   "cell_type": "markdown",
   "id": "4f60124e-ad09-4225-830e-cccd98cecae5",
   "metadata": {},
   "source": [
    "Q2. Create a child class car from the vehicle class created in Que 1, which will inherit the vehicle class.\n",
    "Create a method named seating_capacity which takes capacity as an argument and returns the name of\n",
    "the vehicle and its seating capacity."
   ]
  },
  {
   "cell_type": "code",
   "execution_count": 2,
   "id": "1d4e83f5-6df9-4b5e-9a80-4f24edf9df8b",
   "metadata": {},
   "outputs": [
    {
     "name": "stdout",
     "output_type": "stream",
     "text": [
      "Vehicle Name: Toyota Camry, Max Speed: 240 km/h, Average Speed: 20 km/h\n",
      "Toyota Camry has a seating capacity of 5 people.\n"
     ]
    }
   ],
   "source": [
    "# Parent class\n",
    "class Vehicle:\n",
    "    def __init__(self, name_of_vehicle, max_speed, average_of_vehicle):\n",
    "        # Initialize instance variables\n",
    "        self.name_of_vehicle = name_of_vehicle\n",
    "        self.max_speed = max_speed\n",
    "        self.average_of_vehicle = average_of_vehicle\n",
    "\n",
    "    def display_info(self):\n",
    "        return (f\"Vehicle Name: {self.name_of_vehicle}, \"\n",
    "                f\"Max Speed: {self.max_speed} km/h, \"\n",
    "                f\"Average Speed: {self.average_of_vehicle} km/h\")\n",
    "\n",
    "# Child class\n",
    "class Car(Vehicle):\n",
    "    def __init__(self, name_of_vehicle, max_speed, average_of_vehicle):\n",
    "        # Initialize parent class\n",
    "        super().__init__(name_of_vehicle, max_speed, average_of_vehicle)\n",
    "    \n",
    "    def seating_capacity(self, capacity):\n",
    "        return f\"{self.name_of_vehicle} has a seating capacity of {capacity} people.\"\n",
    "\n",
    "# Creating an object of the Car class\n",
    "my_car = Car(\"Toyota Camry\", 240, 20)\n",
    "\n",
    "# Accessing methods from the parent and child classes\n",
    "print(my_car.display_info())  # Output: Vehicle Name: Toyota Camry, Max Speed: 240 km/h, Average Speed: 20 km/h\n",
    "print(my_car.seating_capacity(5))  # Output: Toyota Camry has a seating capacity of 5 people.\n"
   ]
  },
  {
   "cell_type": "markdown",
   "id": "f9148706-082a-4db9-a896-23e39df97d10",
   "metadata": {},
   "source": [
    "Q3. What is multiple inheritance? Write a python code to demonstrate multiple inheritance.\n"
   ]
  },
  {
   "cell_type": "markdown",
   "id": "539e6125-66a2-458c-a060-09e6c2b4396a",
   "metadata": {},
   "source": [
    "Multiple Inheritance is a feature in object-oriented programming where a class (subclass) can inherit attributes and methods from more than one parent class (superclasses). This allows the subclass to combine functionalities from multiple parent classes.\n",
    "\n",
    "Key Points:\n",
    "Combines Multiple Superclasses: A subclass can inherit from multiple parent classes, incorporating their attributes and methods.\n",
    "Method Resolution Order (MRO): When multiple inheritance is used, Python follows a specific method resolution order to determine which method to call if methods with the same name exist in multiple parent classes."
   ]
  },
  {
   "cell_type": "code",
   "execution_count": 3,
   "id": "8b03afd6-a85d-4829-802c-b14b7011de50",
   "metadata": {},
   "outputs": [
    {
     "name": "stdout",
     "output_type": "stream",
     "text": [
      "Engine started\n",
      "Playing music\n",
      "Car model: Toyota Camry\n"
     ]
    }
   ],
   "source": [
    "# Parent class 1\n",
    "class Engine:\n",
    "    def start_engine(self):\n",
    "        return \"Engine started\"\n",
    "\n",
    "# Parent class 2\n",
    "class MusicSystem:\n",
    "    def play_music(self):\n",
    "        return \"Playing music\"\n",
    "\n",
    "# Child class that inherits from both Engine and MusicSystem\n",
    "class Car(Engine, MusicSystem):\n",
    "    def __init__(self, model):\n",
    "        self.model = model\n",
    "\n",
    "    def car_info(self):\n",
    "        return f\"Car model: {self.model}\"\n",
    "\n",
    "# Creating an object of the Car class\n",
    "my_car = Car(\"Toyota Camry\")\n",
    "\n",
    "# Accessing methods from both parent classes and the child class\n",
    "print(my_car.start_engine())  # Output: Engine started\n",
    "print(my_car.play_music())    # Output: Playing music\n",
    "print(my_car.car_info())      # Output: Car model: Toyota Camry\n"
   ]
  },
  {
   "cell_type": "markdown",
   "id": "5153685b-954b-403d-82a7-29916cdd2991",
   "metadata": {},
   "source": [
    "Q4. What are getter and setter in python? Create a class and create a getter and a setter method in this\n",
    "class."
   ]
  },
  {
   "cell_type": "markdown",
   "id": "095e9f56-b99a-48f6-8c3c-6244edb8e304",
   "metadata": {},
   "source": [
    "Getters and Setters are methods used in object-oriented programming to access and modify the private attributes of a class. They are often used to control access to the attributes and to enforce encapsulation.\n",
    "\n",
    "Key Points:\n",
    "Getter: A method used to access the value of a private attribute.\n",
    "Setter: A method used to modify the value of a private attribute.\n",
    "Encapsulation: Getters and setters help in hiding the internal representation of an object and provide a controlled way of accessing and updating attributes."
   ]
  },
  {
   "cell_type": "code",
   "execution_count": 5,
   "id": "4a524d8e-226f-4a2e-8eae-01bbf42ab369",
   "metadata": {},
   "outputs": [
    {
     "name": "stdout",
     "output_type": "stream",
     "text": [
      "Ajay\n",
      "24\n",
      "Saurav\n",
      "23\n",
      "Age must be a positive integer\n"
     ]
    }
   ],
   "source": [
    "class Person:\n",
    "    def __init__(self, name, age):\n",
    "        self._name = name  # Private attribute (by convention)\n",
    "        self._age = age    # Private attribute (by convention)\n",
    "\n",
    "    # Getter method for name\n",
    "    @property\n",
    "    def name(self):\n",
    "        return self._name\n",
    "\n",
    "    # Setter method for name\n",
    "    @name.setter\n",
    "    def name(self, value):\n",
    "        if isinstance(value, str):\n",
    "            self._name = value\n",
    "        else:\n",
    "            raise ValueError(\"Name must be a string\")\n",
    "\n",
    "    # Getter method for age\n",
    "    @property\n",
    "    def age(self):\n",
    "        return self._age\n",
    "\n",
    "    # Setter method for age\n",
    "    @age.setter\n",
    "    def age(self, value):\n",
    "        if isinstance(value, int) and value > 0:\n",
    "            self._age = value\n",
    "        else:\n",
    "            raise ValueError(\"Age must be a positive integer\")\n",
    "\n",
    "# Creating an object of the Person class\n",
    "person = Person(\"Ajay\", 24)\n",
    "\n",
    "# Accessing attributes using getters\n",
    "print(person.name)  # Output: Alice\n",
    "print(person.age)   # Output: 30\n",
    "\n",
    "# Modifying attributes using setters\n",
    "person.name = \"Saurav\"\n",
    "person.age = 23\n",
    "\n",
    "# Accessing updated attributes\n",
    "print(person.name)  # Output: Bob\n",
    "print(person.age)   # Output: 35\n",
    "\n",
    "# Trying to set invalid values\n",
    "try:\n",
    "    person.age = -5\n",
    "except ValueError as e:\n",
    "    print(e)  # Output: Age must be a positive integer\n"
   ]
  },
  {
   "cell_type": "markdown",
   "id": "8db1c680-863b-40db-9066-eb703613757c",
   "metadata": {},
   "source": [
    "Q5.What is method overriding in python? Write a python code to demonstrate method overriding.\n"
   ]
  },
  {
   "cell_type": "markdown",
   "id": "2792ed58-1718-4a7c-b652-eac89ce0e3fd",
   "metadata": {},
   "source": [
    "Method Overriding in Python is a feature that allows a subclass to provide a specific implementation of a method that is already defined in its superclass. When a method in a subclass has the same name and parameters as a method in the superclass, the method in the subclass overrides the method in the superclass.\n",
    "\n",
    "Key Points:\n",
    "Polymorphism: Method overriding is a key aspect of polymorphism, where a subclass provides a different implementation of a method defined in its superclass.\n",
    "Same Method Signature: The overriding method in the subclass must have the same name and parameter list as the method in the superclass."
   ]
  },
  {
   "cell_type": "code",
   "execution_count": 6,
   "id": "86cecccd-8946-4db3-ab4c-ac5cd32d9b58",
   "metadata": {},
   "outputs": [
    {
     "name": "stdout",
     "output_type": "stream",
     "text": [
      "Bark\n",
      "Meow\n"
     ]
    }
   ],
   "source": [
    "# Superclass\n",
    "class Animal:\n",
    "    def make_sound(self):\n",
    "        return \"Some generic animal sound\"\n",
    "\n",
    "# Subclass\n",
    "class Dog(Animal):\n",
    "    def make_sound(self):\n",
    "        return \"Bark\"\n",
    "\n",
    "# Subclass\n",
    "class Cat(Animal):\n",
    "    def make_sound(self):\n",
    "        return \"Meow\"\n",
    "\n",
    "# Creating objects of the subclasses\n",
    "dog = Dog()\n",
    "cat = Cat()\n",
    "\n",
    "# Calling the overridden methods\n",
    "print(dog.make_sound())  # Output: Bark\n",
    "print(cat.make_sound())  # Output: Meow\n"
   ]
  },
  {
   "cell_type": "code",
   "execution_count": null,
   "id": "05ed93c5-dc2d-42c0-96c1-615837b14614",
   "metadata": {},
   "outputs": [],
   "source": []
  }
 ],
 "metadata": {
  "kernelspec": {
   "display_name": "Python 3 (ipykernel)",
   "language": "python",
   "name": "python3"
  },
  "language_info": {
   "codemirror_mode": {
    "name": "ipython",
    "version": 3
   },
   "file_extension": ".py",
   "mimetype": "text/x-python",
   "name": "python",
   "nbconvert_exporter": "python",
   "pygments_lexer": "ipython3",
   "version": "3.10.8"
  }
 },
 "nbformat": 4,
 "nbformat_minor": 5
}
