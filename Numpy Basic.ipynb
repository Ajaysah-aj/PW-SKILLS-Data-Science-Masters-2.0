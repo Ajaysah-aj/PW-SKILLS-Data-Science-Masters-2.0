{
 "cells": [
  {
   "cell_type": "markdown",
   "id": "b9e35916-5d6e-434c-b85e-5617c9093ffa",
   "metadata": {},
   "source": [
    "Consider the below code to answer further questions:\r\n",
    "import numpy as np\r\n",
    "list_ = [ ‘1’ , ’2’ , ‘3’ , ‘4’ , ‘5’ ]\r\n",
    "array_list = np.array(object = list_)\r\n",
    "Q1. Is there any difference in the data type of variables list_ and array_list? If there is then write a code\r\n",
    "to print the data types of both the variables."
   ]
  },
  {
   "cell_type": "code",
   "execution_count": 1,
   "id": "6195576e-e4a9-49a9-9317-86f013499ad6",
   "metadata": {},
   "outputs": [],
   "source": [
    "import numpy as np\n",
    "list_ = [ '1' , '2' , '3' , '4' , '5' ]\n",
    "array_list = np.array(object = list_)"
   ]
  },
  {
   "cell_type": "code",
   "execution_count": 3,
   "id": "3e8bf48c-a5d4-40b4-a208-8207effe197a",
   "metadata": {},
   "outputs": [
    {
     "name": "stdout",
     "output_type": "stream",
     "text": [
      "Type of list_ Variable :  <class 'list'>\n",
      "Type of array_list Variable :  <class 'numpy.ndarray'>\n",
      "Data Type of elements in array_list Variable :  <U1\n"
     ]
    }
   ],
   "source": [
    "print(\"Type of list_ Variable : \",type(list_))\n",
    "print(\"Type of array_list Variable : \",type(array_list))\n",
    "print(\"Data Type of elements in array_list Variable : \",array_list.dtype)"
   ]
  },
  {
   "cell_type": "markdown",
   "id": "d6a56399-708e-4733-b3bd-b6385de1660b",
   "metadata": {},
   "source": [
    "Q2. Write a code to print the data type of each and every element of both the variables list_ and\r\n",
    "arra_list."
   ]
  },
  {
   "cell_type": "code",
   "execution_count": 5,
   "id": "d870ce49-999d-4661-98be-0cb6ba445f9b",
   "metadata": {},
   "outputs": [
    {
     "name": "stdout",
     "output_type": "stream",
     "text": [
      "Type of list_ 1 Variable : <class 'str'>\n",
      "Type of list_ 2 Variable : <class 'str'>\n",
      "Type of list_ 3 Variable : <class 'str'>\n",
      "Type of list_ 4 Variable : <class 'str'>\n",
      "Type of list_ 5 Variable : <class 'str'>\n",
      "Type of array_list 1 Variable : <class 'numpy.str_'>\n",
      "Type of array_list 2 Variable : <class 'numpy.str_'>\n",
      "Type of array_list 3 Variable : <class 'numpy.str_'>\n",
      "Type of array_list 4 Variable : <class 'numpy.str_'>\n",
      "Type of array_list 5 Variable : <class 'numpy.str_'>\n"
     ]
    }
   ],
   "source": [
    "for i in list_:\n",
    "    print(f\"Type of list_ {i} Variable : {type(i)}\")\n",
    "    \n",
    "for j in array_list:\n",
    "    print(f\"Type of array_list {j} Variable : {type(j)}\")"
   ]
  },
  {
   "cell_type": "markdown",
   "id": "1529006f-ddda-4663-b32e-8686ac6ee16a",
   "metadata": {},
   "source": [
    "Q3. Considering the following changes in the variable, array_list:\r\n",
    "array_list = np.array(object = list_, dtype = int)\r\n",
    "Will there be any difference in the data type of the elements present in both the variables, list_ and\r\n",
    "arra_list? If so then print the data types of each and every element present in both the variables, list_\r\n",
    "and arra_list.\r\n",
    "Consider the below code to answer further questions:\r\n",
    "import numpy as np\r\n",
    "num_list = [ [ 1 , 2 , 3 ] , [ 4 , 5 , 6 ] ]\r\n",
    "num_array = np.array(object = num_list)"
   ]
  },
  {
   "cell_type": "code",
   "execution_count": 7,
   "id": "8de9e836-66ad-446d-af5a-f9292ac93de9",
   "metadata": {},
   "outputs": [],
   "source": [
    "import numpy as np\n",
    "num_list = [ [ 1 , 2 , 3 ] , [ 4 , 5 , 6 ] ]\n",
    "num_array = np.array(object = num_list)\n",
    "array_list = np.array(object=list_,dtype=int)"
   ]
  },
  {
   "cell_type": "code",
   "execution_count": 9,
   "id": "368f49ca-9d56-45b7-bd82-620ff16399ae",
   "metadata": {},
   "outputs": [
    {
     "name": "stdout",
     "output_type": "stream",
     "text": [
      "Type of list_ 1 Variable : <class 'str'>\n",
      "Type of list_ 2 Variable : <class 'str'>\n",
      "Type of list_ 3 Variable : <class 'str'>\n",
      "Type of list_ 4 Variable : <class 'str'>\n",
      "Type of list_ 5 Variable : <class 'str'>\n",
      "Type of array_list 1 Variable : <class 'numpy.int32'>\n",
      "Type of array_list 2 Variable : <class 'numpy.int32'>\n",
      "Type of array_list 3 Variable : <class 'numpy.int32'>\n",
      "Type of array_list 4 Variable : <class 'numpy.int32'>\n",
      "Type of array_list 5 Variable : <class 'numpy.int32'>\n"
     ]
    }
   ],
   "source": [
    "for i in list_:\n",
    "    print(f\"Type of list_ {i} Variable : {type(i)}\")\n",
    "    \n",
    "for j in array_list:\n",
    "    print(f\"Type of array_list {j} Variable : {type(j)}\")"
   ]
  },
  {
   "cell_type": "code",
   "execution_count": null,
   "id": "d4d2ba72-38b2-445c-9cac-00d1094ab244",
   "metadata": {},
   "outputs": [],
   "source": [
    "Q4. Write a code to find the following characteristics of variable, num_array:\n",
    "(i) shape\n",
    "(ii) size"
   ]
  },
  {
   "cell_type": "markdown",
   "id": "e4dc6f6c-ceea-43f9-b60b-4bcec61dbcf5",
   "metadata": {},
   "source": [
    "shape attribute:\r\n",
    "The shape attribute of a NumPy array returns a tuple representing the dimensions of the array.\r\n",
    "It provides the number of elements along each axis (dimension) of the array.\r\n",
    "The length of the shape tuple corresponds to the number of dimensions (axes) of the array.\r\n",
    "The shape attribute is helpful in understanding the structure and dimensions of multi-dimensional arrays.\r\n",
    "The shape attribute can be accessed using the .shape notation.\r\n",
    "\r\n",
    "size attribute:\r\n",
    "The size attribute of a NumPy array returns the total number of elements present in the array.\r\n",
    "It represents the total size or length of the array when considering all its dimensions.\r\n",
    "The size attribute is similar to the len() function used for Python lists, but it works on multi-dimensional arrays as well.\r\n",
    "It is a scalar value (integer) representing the total count of elements in the array.\r\n",
    "The size attribute can be accessed using the .size notation."
   ]
  },
  {
   "cell_type": "code",
   "execution_count": 11,
   "id": "069be54b-971b-4fe1-a206-daae5aed0dc3",
   "metadata": {},
   "outputs": [
    {
     "data": {
      "text/plain": [
       "array([[1, 2, 3],\n",
       "       [4, 5, 6]])"
      ]
     },
     "execution_count": 11,
     "metadata": {},
     "output_type": "execute_result"
    }
   ],
   "source": [
    "num_array"
   ]
  },
  {
   "cell_type": "code",
   "execution_count": 13,
   "id": "5afa2af4-3ed5-45af-93a4-c450feeec730",
   "metadata": {},
   "outputs": [
    {
     "data": {
      "text/plain": [
       "(2, 3)"
      ]
     },
     "execution_count": 13,
     "metadata": {},
     "output_type": "execute_result"
    }
   ],
   "source": [
    "num_array.shape"
   ]
  },
  {
   "cell_type": "code",
   "execution_count": 15,
   "id": "e03b2f46-976b-4c24-b5d2-a401ce34df7e",
   "metadata": {},
   "outputs": [
    {
     "data": {
      "text/plain": [
       "6"
      ]
     },
     "execution_count": 15,
     "metadata": {},
     "output_type": "execute_result"
    }
   ],
   "source": [
    "num_array.size"
   ]
  },
  {
   "cell_type": "markdown",
   "id": "97a10941-c945-4a34-9e16-04fe1521338d",
   "metadata": {},
   "source": [
    "Q5. Write a code to create numpy array of 3*3 matrix containing zeros only, using a numpy array\r\n",
    "creation function.\r\n",
    "[Hint: The size of the array will be 9 and the shape will be (3,3).]"
   ]
  },
  {
   "cell_type": "markdown",
   "id": "fbbec6db-d1e1-48bf-b732-7d4a6bb26787",
   "metadata": {},
   "source": [
    "np.zeros() is a function used to create an array filled with zeros.\r\n",
    "The function allows you to specify the shape and data type of the array you want to create.\r\n",
    "It is particularly useful when you want to initialize an array with all elements set to zero."
   ]
  },
  {
   "cell_type": "code",
   "execution_count": 17,
   "id": "53aee2b2-1f68-4223-9c45-edb69859c5e7",
   "metadata": {},
   "outputs": [],
   "source": [
    "arr = np.zeros((3,3))"
   ]
  },
  {
   "cell_type": "code",
   "execution_count": 19,
   "id": "6e631bf5-1f62-43c5-900c-10267ba489ea",
   "metadata": {},
   "outputs": [
    {
     "data": {
      "text/plain": [
       "array([[0., 0., 0.],\n",
       "       [0., 0., 0.],\n",
       "       [0., 0., 0.]])"
      ]
     },
     "execution_count": 19,
     "metadata": {},
     "output_type": "execute_result"
    }
   ],
   "source": [
    "arr"
   ]
  },
  {
   "cell_type": "code",
   "execution_count": 21,
   "id": "d3231e8f-97ac-4947-acfc-8fb9da33fe35",
   "metadata": {},
   "outputs": [
    {
     "data": {
      "text/plain": [
       "9"
      ]
     },
     "execution_count": 21,
     "metadata": {},
     "output_type": "execute_result"
    }
   ],
   "source": [
    "arr.size"
   ]
  },
  {
   "cell_type": "code",
   "execution_count": 23,
   "id": "acb24057-d2b2-45d7-887f-0c8cdf801dcb",
   "metadata": {},
   "outputs": [
    {
     "data": {
      "text/plain": [
       "(3, 3)"
      ]
     },
     "execution_count": 23,
     "metadata": {},
     "output_type": "execute_result"
    }
   ],
   "source": [
    "arr.shape"
   ]
  },
  {
   "cell_type": "markdown",
   "id": "337a4e13-bf6e-4a09-970e-6bfb7071f546",
   "metadata": {},
   "source": [
    "Q6. Create an identity matrix of shape (5,5) using numpy functions?\r\n",
    "[Hint: An identity matrix is a matrix containing 1 diagonally and other elements will be 0.]"
   ]
  },
  {
   "cell_type": "markdown",
   "id": "6513ed5b-14fd-49d9-ac71-c7e33588aac0",
   "metadata": {},
   "source": [
    "np.eye() is a function used to create an identity matrix, which is a square matrix with ones on the main diagonal (from the top-left to the bottom-right) and zeros elsewhere.\n",
    "The identity matrix is denoted by \"I\" or \"𝐈\" and has a unique property that when multiplied with any other matrix, it leaves the other matrix unchanged"
   ]
  },
  {
   "cell_type": "code",
   "execution_count": 25,
   "id": "91362377-7269-4d0d-88fe-0fb0f1bbf773",
   "metadata": {},
   "outputs": [],
   "source": [
    "arr1 = np.eye(5)"
   ]
  },
  {
   "cell_type": "code",
   "execution_count": 27,
   "id": "389b9a4c-4b3b-47a2-b8ce-f7ac43dbeac3",
   "metadata": {},
   "outputs": [
    {
     "data": {
      "text/plain": [
       "array([[1., 0., 0., 0., 0.],\n",
       "       [0., 1., 0., 0., 0.],\n",
       "       [0., 0., 1., 0., 0.],\n",
       "       [0., 0., 0., 1., 0.],\n",
       "       [0., 0., 0., 0., 1.]])"
      ]
     },
     "execution_count": 27,
     "metadata": {},
     "output_type": "execute_result"
    }
   ],
   "source": [
    "arr1"
   ]
  },
  {
   "cell_type": "code",
   "execution_count": 29,
   "id": "680af245-4aa8-440b-ab5f-b58b46150311",
   "metadata": {},
   "outputs": [
    {
     "data": {
      "text/plain": [
       "(5, 5)"
      ]
     },
     "execution_count": 29,
     "metadata": {},
     "output_type": "execute_result"
    }
   ],
   "source": [
    "arr1.shape"
   ]
  },
  {
   "cell_type": "code",
   "execution_count": 31,
   "id": "2282edd1-31f7-45a5-a354-a66ded280c1f",
   "metadata": {},
   "outputs": [
    {
     "data": {
      "text/plain": [
       "25"
      ]
     },
     "execution_count": 31,
     "metadata": {},
     "output_type": "execute_result"
    }
   ],
   "source": [
    "arr1.size"
   ]
  },
  {
   "cell_type": "code",
   "execution_count": null,
   "id": "fb51c585-babe-4b7f-9a2d-66e88a0f9ceb",
   "metadata": {},
   "outputs": [],
   "source": []
  }
 ],
 "metadata": {
  "kernelspec": {
   "display_name": "Python 3 (ipykernel)",
   "language": "python",
   "name": "python3"
  },
  "language_info": {
   "codemirror_mode": {
    "name": "ipython",
    "version": 3
   },
   "file_extension": ".py",
   "mimetype": "text/x-python",
   "name": "python",
   "nbconvert_exporter": "python",
   "pygments_lexer": "ipython3",
   "version": "3.12.4"
  }
 },
 "nbformat": 4,
 "nbformat_minor": 5
}
