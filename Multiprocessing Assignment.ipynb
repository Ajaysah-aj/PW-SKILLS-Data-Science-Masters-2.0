{
 "cells": [
  {
   "cell_type": "markdown",
   "id": "1d645e35-3db8-42b5-8ad7-c4f6560f2edb",
   "metadata": {},
   "source": [
    "Q1. What is multiprocessing in python? Why is it useful?"
   ]
  },
  {
   "cell_type": "markdown",
   "id": "a6b47075-4842-457f-9c71-6198c7dcd60a",
   "metadata": {},
   "source": [
    "Multiprocessing in Python refers to a way of running multiple processes simultaneously. Each process has its own Python interpreter and memory space, which allows for parallel execution of tasks.\n",
    "\n",
    "Why is Multiprocessing Useful?\n",
    "1.Bypassing the Global Interpreter Lock (GIL): Python's GIL allows only one thread to execute Python bytecode at a time in a single process. This can be a limitation for CPU-bound tasks. Multiprocessing creates separate processes, each with its own Python interpreter and GIL, enabling true parallelism.\n",
    "\n",
    "2.Improving Performance for CPU-bound Tasks: If your task is CPU-intensive (e.g., computations or data processing), multiprocessing can improve performance by distributing the workload across multiple CPU cores.\n",
    "\n",
    "3.Isolation of Processes: Each process runs independently, so a crash or failure in one process doesn’t affect others. This can enhance the robustness of your application.\n",
    "\n",
    "4.Utilizing Multiple Cores: Modern CPUs have multiple cores. Multiprocessing can help you make use of these cores efficiently by running processes concurrently."
   ]
  },
  {
   "cell_type": "code",
   "execution_count": 1,
   "id": "dc050646-cc7a-4870-86b7-0a0e62d474fe",
   "metadata": {},
   "outputs": [
    {
     "name": "stdout",
     "output_type": "stream",
     "text": [
      "Worker: 0\n",
      "Worker: 1Worker: 2\n",
      "\n",
      "Worker: 3\n",
      "Worker: 4\n"
     ]
    }
   ],
   "source": [
    "#Example\n",
    "import multiprocessing\n",
    "\n",
    "def worker(num):\n",
    "    print(f'Worker: {num}')\n",
    "\n",
    "if __name__ == '__main__':\n",
    "    processes = []\n",
    "    for i in range(5):\n",
    "        p = multiprocessing.Process(target=worker, args=(i,))\n",
    "        processes.append(p)\n",
    "        p.start()\n",
    "\n",
    "    for p in processes:\n",
    "        p.join()\n"
   ]
  },
  {
   "cell_type": "markdown",
   "id": "debe95af-d217-4cdb-9e8c-deae913ecef4",
   "metadata": {},
   "source": [
    "Q2. What are the differences between multiprocessing and multithreading?"
   ]
  },
  {
   "cell_type": "markdown",
   "id": "7ba32a81-f9f5-4bf4-82fc-aec12d2b3a2f",
   "metadata": {},
   "source": [
    "Multiprocessing and multithreading are both techniques for achieving concurrent execution, but they differ in how they handle tasks and system resources. Here’s a comparison:\n",
    "\n",
    "1. Concepts\n",
    "Multiprocessing: Involves running multiple processes concurrently. Each process has its own memory space and Python interpreter. Processes are independent and do not share memory directly.\n",
    "\n",
    "Multithreading: Involves running multiple threads within a single process. Threads share the same memory space and Python interpreter, but they can execute code concurrently.\n",
    "\n",
    "2. Global Interpreter Lock (GIL)\n",
    "Multiprocessing: Bypasses the GIL because each process runs in its own Python interpreter. This allows true parallelism on multi-core systems for CPU-bound tasks.\n",
    "\n",
    "Multithreading: Constrained by the GIL in CPython (the standard Python implementation). Although threads can run concurrently, only one thread can execute Python bytecode at a time in a single process. This can limit performance improvements for CPU-bound tasks.\n",
    "\n",
    "3. Memory and Data Sharing\n",
    "Multiprocessing: Each process has its own memory space, so processes do not share data directly. Communication between processes requires inter-process communication (IPC) mechanisms like queues, pipes, or shared memory.\n",
    "\n",
    "Multithreading: Threads share the same memory space, which allows them to easily share data. However, this also introduces potential issues with data consistency and thread safety, requiring synchronization mechanisms like locks, semaphores, or condition variables.\n",
    "\n",
    "4. Overhead\n",
    "Multiprocessing: Has more overhead in terms of memory and process creation. Each process requires its own memory and resources, and starting processes is generally more expensive compared to threads.\n",
    "\n",
    "Multithreading: Threads have lower overhead compared to processes because they share the same memory space and resources. Creating and managing threads is usually cheaper than processes.\n",
    "\n",
    "5. Fault Isolation\n",
    "Multiprocessing: Processes are more isolated from each other. A crash in one process does not affect others. This can lead to greater robustness in applications.\n",
    "\n",
    "Multithreading: Threads within the same process are less isolated. A crash or error in one thread can potentially impact the entire process and other threads.\n",
    "\n",
    "6. Use Cases\n",
    "Multiprocessing: Best suited for CPU-bound tasks where parallel processing can lead to performance improvements, such as heavy computations or data processing.\n",
    "\n",
    "Multithreading: Often used for I/O-bound tasks where threads can perform operations while waiting for I/O, such as network requests or file operations. It can also be useful for tasks that benefit from concurrent execution but do not require parallel processing."
   ]
  },
  {
   "cell_type": "markdown",
   "id": "66c754ff-f373-40c1-b413-42fa7f2adba5",
   "metadata": {},
   "source": [
    "EXAMPLE COMPARISION:"
   ]
  },
  {
   "cell_type": "code",
   "execution_count": 2,
   "id": "63f6ab46-d229-4b78-b805-15d3595accc4",
   "metadata": {},
   "outputs": [
    {
     "name": "stdout",
     "output_type": "stream",
     "text": [
      "Process: 0\n",
      "Process: 1\n",
      "Process: 2\n",
      "Process: 3\n",
      "Process: 4\n"
     ]
    }
   ],
   "source": [
    "#Multiprocessing Example\n",
    "from multiprocessing import Process\n",
    "\n",
    "def task(num):\n",
    "    print(f'Process: {num}')\n",
    "\n",
    "if __name__ == '__main__':\n",
    "    processes = [Process(target=task, args=(i,)) for i in range(5)]\n",
    "    for p in processes:\n",
    "        p.start()\n",
    "    for p in processes:\n",
    "        p.join()\n"
   ]
  },
  {
   "cell_type": "code",
   "execution_count": 3,
   "id": "0461d654-62b2-46f1-b23f-353130f7ac3b",
   "metadata": {},
   "outputs": [
    {
     "name": "stdout",
     "output_type": "stream",
     "text": [
      "Thread: 0\n",
      "Thread: 1\n",
      "Thread: 2\n",
      "Thread: 3\n",
      "Thread: 4\n"
     ]
    }
   ],
   "source": [
    "#Multithreading Example\n",
    "from threading import Thread\n",
    "\n",
    "def task(num):\n",
    "    print(f'Thread: {num}')\n",
    "\n",
    "if __name__ == '__main__':\n",
    "    threads = [Thread(target=task, args=(i,)) for i in range(5)]\n",
    "    for t in threads:\n",
    "        t.start()\n",
    "    for t in threads:\n",
    "        t.join()\n"
   ]
  },
  {
   "cell_type": "markdown",
   "id": "804759cb-fbb2-448e-983d-a70d51358699",
   "metadata": {},
   "source": [
    "In summary, multiprocessing is more suited for CPU-bound tasks and applications requiring isolation between tasks, while multithreading is useful for I/O-bound tasks and scenarios where shared memory access is beneficial."
   ]
  },
  {
   "cell_type": "markdown",
   "id": "4d0b7ed0-6089-4906-adba-0e4c48df957f",
   "metadata": {},
   "source": [
    "Q3. Write a python code to create a process using the multiprocessing module."
   ]
  },
  {
   "cell_type": "code",
   "execution_count": 4,
   "id": "65e73b28-ee9d-4e57-85f3-fd87a056b536",
   "metadata": {},
   "outputs": [
    {
     "name": "stdout",
     "output_type": "stream",
     "text": [
      "Process 0 started\n",
      "Process 1 started\n",
      "Process 2 started\n",
      "Process 0 finished\n",
      "Process 1 finished\n",
      "Process 2 finished\n",
      "All processes have finished.\n"
     ]
    }
   ],
   "source": [
    "import multiprocessing\n",
    "import time\n",
    "\n",
    "def worker(num):\n",
    "    \"\"\"Function to be executed in the child process.\"\"\"\n",
    "    print(f'Process {num} started')\n",
    "    time.sleep(2)  # Simulate a time-consuming task\n",
    "    print(f'Process {num} finished')\n",
    "\n",
    "if __name__ == '__main__':\n",
    "    # Create a list to hold the process objects\n",
    "    processes = []\n",
    "\n",
    "    # Create and start 3 processes\n",
    "    for i in range(3):\n",
    "        # Create a Process object, specifying the target function and its arguments\n",
    "        p = multiprocessing.Process(target=worker, args=(i,))\n",
    "        processes.append(p)  # Add the process to the list\n",
    "        p.start()  # Start the process\n",
    "\n",
    "    # Wait for all processes to complete\n",
    "    for p in processes:\n",
    "        p.join()\n",
    "\n",
    "    print('All processes have finished.')\n"
   ]
  },
  {
   "cell_type": "markdown",
   "id": "0b70641f-0916-44f6-af36-709c52abe3b3",
   "metadata": {},
   "source": [
    "Q4. What is a multiprocessing pool in python? Why is it used?\n"
   ]
  },
  {
   "cell_type": "markdown",
   "id": "b6492dfa-9a2d-4e99-8c6e-20f21de68456",
   "metadata": {},
   "source": [
    "A multiprocessing pool in Python is a way to manage and distribute tasks across multiple processes more efficiently. The multiprocessing.Pool class provides a high-level interface for parallel processing, allowing you to create a pool of worker processes to execute tasks concurrently.\n",
    "\n",
    "Key Features of a Multiprocessing Pool:\n",
    "1. Task Distribution: The pool automatically distributes tasks to available worker processes, which helps in parallelizing the workload.\n",
    "\n",
    "2. Process Management: It manages the creation, synchronization, and cleanup of worker processes, simplifying the handling of concurrent tasks.\n",
    "\n",
    "3. Load Balancing: The pool ensures that tasks are evenly distributed among worker processes, which can improve performance and resource utilization.\n",
    "\n",
    "4. Simplified Interface: It provides convenient methods for mapping functions to multiple inputs, such as map, imap, and apply, making parallel execution easier to implement.\n",
    "\n",
    "Why Use a Multiprocessing Pool?\n",
    "1. Improved Performance: By leveraging multiple processes, a pool can significantly speed up tasks that are CPU-bound or require parallel processing.\n",
    "\n",
    "2. Efficient Resource Utilization: It helps in making better use of multiple CPU cores, which can lead to more efficient processing and faster execution.\n",
    "\n",
    "3. Code Simplicity: The pool abstracts much of the complexity involved in creating and managing processes, providing a simpler and cleaner interface for parallel execution.\n",
    "\n",
    "4. Flexibility: It supports various methods for task distribution and can handle different types of workload patterns, including function mapping and asynchronous processing."
   ]
  },
  {
   "cell_type": "code",
   "execution_count": 5,
   "id": "0c673993-dbfb-4677-83ee-e9e710c3143e",
   "metadata": {},
   "outputs": [
    {
     "name": "stdout",
     "output_type": "stream",
     "text": [
      "Computing square of 1Computing square of 4Computing square of 2Computing square of 3\n",
      "\n",
      "\n",
      "\n",
      "Computing square of 5Computing square of 6\n",
      "Computing square of 7Computing square of 8\n",
      "\n",
      "\n",
      "Computing square of 9Computing square of 10\n",
      "\n",
      "Results: [1, 4, 9, 16, 25, 36, 49, 64, 81, 100]\n"
     ]
    }
   ],
   "source": [
    "import multiprocessing\n",
    "import time\n",
    "\n",
    "def square(n):\n",
    "    \"\"\"Function to compute the square of a number.\"\"\"\n",
    "    print(f'Computing square of {n}')\n",
    "    time.sleep(1)  # Simulate a time-consuming computation\n",
    "    return n * n\n",
    "\n",
    "if __name__ == '__main__':\n",
    "    # Create a pool with 4 worker processes\n",
    "    with multiprocessing.Pool(processes=4) as pool:\n",
    "        # List of numbers to compute the square of\n",
    "        numbers = [1, 2, 3, 4, 5, 6, 7, 8, 9, 10]\n",
    "\n",
    "        # Use map to distribute the task to the pool\n",
    "        results = pool.map(square, numbers)\n",
    "\n",
    "    # Print the results\n",
    "    print('Results:', results)\n"
   ]
  },
  {
   "cell_type": "markdown",
   "id": "857b3402-9c3b-403d-afdb-780dce25b493",
   "metadata": {},
   "source": [
    "Q5. How can we create a pool of worker processes in python using the multiprocessing module?\n"
   ]
  },
  {
   "cell_type": "markdown",
   "id": "6a5f4750-d9b7-44b1-a44f-03b5c495e560",
   "metadata": {},
   "source": [
    "To create a pool of worker processes in Python using the multiprocessing module, you use the multiprocessing.Pool class. The Pool class provides a convenient way to parallelize the execution of a function across multiple input values, distributing the workload among multiple worker processes.\n",
    "\n",
    "Here’s a step-by-step guide to creating and using a pool of worker processes:"
   ]
  },
  {
   "cell_type": "markdown",
   "id": "b6cdf5e8-6d23-415f-950a-a55d5096f94a",
   "metadata": {},
   "source": [
    "1. Import the Module\n",
    "First, import the multiprocessing module:"
   ]
  },
  {
   "cell_type": "code",
   "execution_count": 6,
   "id": "83a1aa7c-c97f-45bf-8ca9-3fb999f5a6b4",
   "metadata": {},
   "outputs": [],
   "source": [
    "import multiprocessing\n"
   ]
  },
  {
   "cell_type": "markdown",
   "id": "b6e6101a-7b99-47eb-ade6-53c921117147",
   "metadata": {},
   "source": [
    "2. Define the Worker Function\n",
    "Define the function that will be executed by each worker process. This function will perform the task you want to parallelize:"
   ]
  },
  {
   "cell_type": "code",
   "execution_count": 7,
   "id": "c242a3bb-ec95-47ac-a4e8-9645007d7131",
   "metadata": {},
   "outputs": [],
   "source": [
    "def worker_function(x):\n",
    "    \"\"\"Function to be executed by worker processes.\"\"\"\n",
    "    return x * x\n"
   ]
  },
  {
   "cell_type": "markdown",
   "id": "f8262bd7-1fcc-479b-a6da-68b75c3154b6",
   "metadata": {},
   "source": [
    "3. Create a Pool of Worker Processes\n",
    "Use the multiprocessing.Pool class to create a pool of worker processes. You can specify the number of worker processes with the processes parameter:"
   ]
  },
  {
   "cell_type": "code",
   "execution_count": 8,
   "id": "ba0c936f-38ab-4595-b2cf-5ffb7759794b",
   "metadata": {},
   "outputs": [
    {
     "name": "stdout",
     "output_type": "stream",
     "text": [
      "Results: [1, 4, 9, 16, 25, 36, 49, 64, 81, 100]\n"
     ]
    }
   ],
   "source": [
    "if __name__ == '__main__':\n",
    "    # Create a pool of 4 worker processes\n",
    "    with multiprocessing.Pool(processes=4) as pool:\n",
    "        # Define a list of inputs\n",
    "        inputs = [1, 2, 3, 4, 5, 6, 7, 8, 9, 10]\n",
    "\n",
    "        # Use the pool to apply the worker function to the inputs\n",
    "        results = pool.map(worker_function, inputs)\n",
    "\n",
    "    # Print the results\n",
    "    print('Results:', results)\n"
   ]
  },
  {
   "cell_type": "markdown",
   "id": "2b220843-9c4a-4097-aa87-b24dc735d449",
   "metadata": {},
   "source": [
    "Q6. Write a python program to create 4 processes, each process should print a different number using the\n",
    "multiprocessing module in python."
   ]
  },
  {
   "cell_type": "code",
   "execution_count": 9,
   "id": "bf8b1c1e-b68a-4276-8b05-107727b143de",
   "metadata": {},
   "outputs": [
    {
     "name": "stdout",
     "output_type": "stream",
     "text": [
      "Process printing number: 1\n",
      "Process printing number: 2\n",
      "Process printing number: 3\n",
      "Process printing number: 4\n",
      "All processes have finished.\n"
     ]
    }
   ],
   "source": [
    "import multiprocessing\n",
    "\n",
    "def print_number(num):\n",
    "    \"\"\"Function to print a given number.\"\"\"\n",
    "    print(f'Process printing number: {num}')\n",
    "\n",
    "if __name__ == '__main__':\n",
    "    # List of numbers to be printed\n",
    "    numbers = [1, 2, 3, 4]\n",
    "    \n",
    "    # Create a list to hold the process objects\n",
    "    processes = []\n",
    "\n",
    "    # Create and start 4 processes\n",
    "    for num in numbers:\n",
    "        # Create a Process object\n",
    "        p = multiprocessing.Process(target=print_number, args=(num,))\n",
    "        processes.append(p)  # Add the process to the list\n",
    "        p.start()  # Start the process\n",
    "\n",
    "    # Wait for all processes to complete\n",
    "    for p in processes:\n",
    "        p.join()\n",
    "\n",
    "    print('All processes have finished.')\n"
   ]
  },
  {
   "cell_type": "code",
   "execution_count": null,
   "id": "74baf9e1-4e6e-4450-b212-76377a7d4883",
   "metadata": {},
   "outputs": [],
   "source": []
  }
 ],
 "metadata": {
  "kernelspec": {
   "display_name": "Python 3 (ipykernel)",
   "language": "python",
   "name": "python3"
  },
  "language_info": {
   "codemirror_mode": {
    "name": "ipython",
    "version": 3
   },
   "file_extension": ".py",
   "mimetype": "text/x-python",
   "name": "python",
   "nbconvert_exporter": "python",
   "pygments_lexer": "ipython3",
   "version": "3.10.8"
  }
 },
 "nbformat": 4,
 "nbformat_minor": 5
}
