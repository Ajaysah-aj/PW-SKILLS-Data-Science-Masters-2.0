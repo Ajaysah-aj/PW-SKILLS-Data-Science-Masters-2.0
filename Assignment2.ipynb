{
 "cells": [
  {
   "cell_type": "code",
   "execution_count": null,
   "id": "e3600cdf-ea5b-4d17-a893-4ed3f695417f",
   "metadata": {},
   "outputs": [],
   "source": [
    "#Q1. How do you comment code in Python? What are the different types of comments?"
   ]
  },
  {
   "cell_type": "markdown",
   "id": "80f490e5-961c-4396-8d5e-b9e54e0190ea",
   "metadata": {},
   "source": [
    "In Python, we comment code by using the # symbol. Anything following # on the same line is considered a comment and is ignored by the Python interpreter."
   ]
  },
  {
   "cell_type": "markdown",
   "id": "fb8dbdde-2818-469e-a083-2cfab0c1d751",
   "metadata": {},
   "source": [
    "There are two main types of comments in Python:\n",
    "\n",
    "1. Single-Line Comments\n",
    "Single-line comments start with a # symbol and continue to the end of the line.\n",
    "Anything following the # on that line is ignored by the Python interpreter."
   ]
  },
  {
   "cell_type": "code",
   "execution_count": null,
   "id": "0e849dae-b5d1-40de-bd8a-1c79778a5c44",
   "metadata": {},
   "outputs": [],
   "source": [
    "Example:"
   ]
  },
  {
   "cell_type": "code",
   "execution_count": 1,
   "id": "14e3ac5d-3778-4fbe-a291-ca40c8717fe9",
   "metadata": {},
   "outputs": [],
   "source": [
    "# This is a single-line comment\n",
    "x = 5  # This comment is inline with code"
   ]
  },
  {
   "cell_type": "markdown",
   "id": "4b1e2bf0-fb56-486b-a1a6-5287e9301deb",
   "metadata": {},
   "source": [
    "2. Multi-Line Comments\n",
    "Python does not have a built-in multi-line comment syntax like some other languages. However, you can create multi-line comments by using multiple single-line comments or using triple quotes (although the latter is technically a string, not a comment).\n",
    "a. Multiple Single-Line Comments:\n",
    "\n",
    "Use # at the beginning of each line.\n"
   ]
  },
  {
   "cell_type": "markdown",
   "id": "784b612e-7308-402c-9d64-dcf044f4d7ae",
   "metadata": {},
   "source": [
    "Example:"
   ]
  },
  {
   "cell_type": "code",
   "execution_count": 3,
   "id": "da0d94ef-aa8e-4dee-b2eb-af84aafd3d75",
   "metadata": {},
   "outputs": [],
   "source": [
    "# This is a multi-line comment\n",
    "# written using multiple single-line comments"
   ]
  },
  {
   "cell_type": "markdown",
   "id": "2dc36121-0f65-4a5f-8570-bc3fe0e80f20",
   "metadata": {},
   "source": [
    "b. Triple-Quoted Strings:\n",
    "\n",
    "Triple quotes (''' or \"\"\") can be used to create multi-line string literals. When not assigned to a variable, these can serve as a block comment, although technically they are string literals and not comments.\n",
    "Example:"
   ]
  },
  {
   "cell_type": "code",
   "execution_count": 2,
   "id": "8743203e-5722-4a7a-aa0a-51d3af91b66f",
   "metadata": {},
   "outputs": [
    {
     "data": {
      "text/plain": [
       "'\\nThis is a multi-line comment\\nusing triple quotes. Technically,\\nthis is a string literal, but it can be\\nused as a comment.\\n'"
      ]
     },
     "execution_count": 2,
     "metadata": {},
     "output_type": "execute_result"
    }
   ],
   "source": [
    "\"\"\"\n",
    "This is a multi-line comment\n",
    "using triple quotes. Technically,\n",
    "this is a string literal, but it can be\n",
    "used as a comment.\n",
    "\"\"\""
   ]
  },
  {
   "cell_type": "markdown",
   "id": "a1feb9bd-b580-466f-8d98-d33007eeb89d",
   "metadata": {},
   "source": [
    "Q2. What are variables in Python? How do you declare and assign values to variables?"
   ]
  },
  {
   "cell_type": "markdown",
   "id": "4966296a-0837-4d13-a648-8fa6d52e290c",
   "metadata": {},
   "source": [
    "A variable in Python is a name that is used to refer to memory locations where data is stored. Variables act as containers for storing data values.\n",
    "\n",
    "Declaring and Assigning Values to Variables\n",
    "In Python, we do not need to explicitly declare a variable before assigning a value to it. The declaration happens automatically when we assign a value to a variable.\n",
    "\n",
    "1. Variable Declaration and Assignment\n",
    "Syntax:\n",
    "variable_name = value"
   ]
  },
  {
   "cell_type": "code",
   "execution_count": 4,
   "id": "349e9855-24d4-4e96-aade-482ca0bdd68a",
   "metadata": {},
   "outputs": [],
   "source": [
    "x = 10          # x is a variable storing the integer value 10\n",
    "name = \"Ajay\"  # name is a variable storing the string \"Ajay\""
   ]
  },
  {
   "cell_type": "markdown",
   "id": "ef559827-ac91-42da-a9de-713e88ad1796",
   "metadata": {},
   "source": [
    "2. Variable Naming Rules\n",
    "Variable names must start with a letter (a-z, A-Z) or an underscore (_).\n",
    "The rest of the name can include letters, numbers (0-9), or underscores.\n",
    "Variable names are case-sensitive (name, Name, and NAME are different variables).\n",
    "Avoid using Python reserved keywords as variable names (e.g., class, def, if, etc.)."
   ]
  },
  {
   "cell_type": "markdown",
   "id": "e8016122-9ccb-481a-a78e-10df89b9dcef",
   "metadata": {},
   "source": [
    "Examples of valid variable names:"
   ]
  },
  {
   "cell_type": "code",
   "execution_count": 6,
   "id": "09e965cd-0f83-43ab-8e83-04ecaecc02c5",
   "metadata": {},
   "outputs": [],
   "source": [
    "age = 24\n",
    "_total = 100\n",
    "first_name = \"Ajay\"\n"
   ]
  },
  {
   "cell_type": "markdown",
   "id": "374ca3a9-01ed-4ea9-94ec-9d46a2ef724b",
   "metadata": {},
   "source": [
    "Examples of invalid variable names:"
   ]
  },
  {
   "cell_type": "code",
   "execution_count": 7,
   "id": "90edd7b3-ce41-42c1-a258-a2bcd27fdbbb",
   "metadata": {},
   "outputs": [
    {
     "ename": "SyntaxError",
     "evalue": "invalid decimal literal (2419192825.py, line 1)",
     "output_type": "error",
     "traceback": [
      "\u001b[0;36m  Cell \u001b[0;32mIn[7], line 1\u001b[0;36m\u001b[0m\n\u001b[0;31m    1st_place = \"Winner\"   # Invalid: starts with a number\u001b[0m\n\u001b[0m    ^\u001b[0m\n\u001b[0;31mSyntaxError\u001b[0m\u001b[0;31m:\u001b[0m invalid decimal literal\n"
     ]
    }
   ],
   "source": [
    "1st_place = \"Winner\"   # Invalid: starts with a number\n",
    "total$amount = 100.50  # Invalid: contains a special character ($)"
   ]
  },
  {
   "cell_type": "markdown",
   "id": "73cf919e-6d43-4475-a05d-6639eb0f5d03",
   "metadata": {},
   "source": [
    "3. Multiple Assignments"
   ]
  },
  {
   "cell_type": "code",
   "execution_count": 9,
   "id": "03f7c49e-3312-438c-8639-9dbdc3a85f4f",
   "metadata": {},
   "outputs": [],
   "source": [
    "a, b, c = 5, 10, 15      #we can assign values to multiple variables in a single line\n",
    "x = y = z = 20           #Or assign the same value to multiple variables"
   ]
  },
  {
   "cell_type": "markdown",
   "id": "a7ed73c1-47bf-47a8-ae89-c28b89e2eda8",
   "metadata": {},
   "source": [
    "Q3. How do you convert one data type to another in Python?\n",
    "\n",
    "In Python, we can convert one data type to another using type conversion functions. These functions allow we to explicitly change the type of a variable or value.\n",
    "\n",
    "Common Type Conversion Functions:"
   ]
  },
  {
   "cell_type": "markdown",
   "id": "0f60ed16-a303-4554-ac50-48e9661486b9",
   "metadata": {},
   "source": [
    "1.  'int()': Converts a value to an integer."
   ]
  },
  {
   "cell_type": "code",
   "execution_count": 10,
   "id": "15a1bc4d-9fa1-4760-8274-b7719f564518",
   "metadata": {},
   "outputs": [],
   "source": [
    "x = int(3.5)  # x becomes 3\n",
    "y = int(\"10\") # y becomes 10"
   ]
  },
  {
   "cell_type": "markdown",
   "id": "2733fc14-756c-4e36-af15-04e06058ab43",
   "metadata": {},
   "source": [
    "2.  'float()': Converts a value to a floating-point number."
   ]
  },
  {
   "cell_type": "code",
   "execution_count": 11,
   "id": "d7992487-ac6b-4276-83a3-5896e802b2da",
   "metadata": {},
   "outputs": [],
   "source": [
    "x = float(3)      # x becomes 3.0\n",
    "y = float(\"4.5\")  # y becomes 4.5"
   ]
  },
  {
   "cell_type": "markdown",
   "id": "b5c2ab41-7b7d-4198-a66f-fb84b3813610",
   "metadata": {},
   "source": [
    "3.  'str()': Converts a value to a string."
   ]
  },
  {
   "cell_type": "code",
   "execution_count": 12,
   "id": "95e7406d-67a3-4363-8bdf-a7c0af578ce8",
   "metadata": {},
   "outputs": [],
   "source": [
    "x = str(100)  # x becomes \"100\"\n",
    "y = str(4.5)  # y becomes \"4.5\""
   ]
  },
  {
   "cell_type": "markdown",
   "id": "6041209d-6ec9-4c54-8270-e34f6efbdc75",
   "metadata": {},
   "source": [
    "4.  'bool()': Converts a value to a boolean (True or False)."
   ]
  },
  {
   "cell_type": "code",
   "execution_count": 13,
   "id": "e2fec537-6592-49e1-a09d-beb47339c4dc",
   "metadata": {},
   "outputs": [],
   "source": [
    "x = bool(1)      # x becomes True\n",
    "y = bool(0)      # y becomes False\n",
    "z = bool(\"\")     # z becomes False"
   ]
  },
  {
   "cell_type": "markdown",
   "id": "4bde5327-d5f7-4981-8ec9-640bde2dc452",
   "metadata": {},
   "source": [
    "5.  'list()': Converts a value to a list."
   ]
  },
  {
   "cell_type": "code",
   "execution_count": 14,
   "id": "a1548e2a-f6c0-41e2-974d-188033449d4f",
   "metadata": {},
   "outputs": [],
   "source": [
    "x = list(\"abc\")  # x becomes ['a', 'b', 'c']\n",
    "y = list((1, 2, 3))  # y becomes [1, 2, 3]"
   ]
  },
  {
   "cell_type": "markdown",
   "id": "7b6a64cf-0e2a-4a5c-aeb2-5bb5f64017e9",
   "metadata": {},
   "source": [
    "6.  'tuple()': Converts a value to a tuple. "
   ]
  },
  {
   "cell_type": "code",
   "execution_count": 15,
   "id": "e8d22e46-4b1c-4029-9297-2d0658af83d4",
   "metadata": {},
   "outputs": [],
   "source": [
    "x = tuple([1, 2, 3])  # x becomes (1, 2, 3)\n",
    "y = tuple(\"abc\")       # y becomes ('a', 'b', 'c')"
   ]
  },
  {
   "cell_type": "markdown",
   "id": "b9e0147f-f047-449e-9201-3de6fd7278b2",
   "metadata": {},
   "source": [
    "7.  'set()': Converts a value to a set."
   ]
  },
  {
   "cell_type": "code",
   "execution_count": 16,
   "id": "9f693319-7046-4ca8-acb6-31921a0efba1",
   "metadata": {},
   "outputs": [],
   "source": [
    "x = set([1, 2, 2, 3])  # x becomes {1, 2, 3}\n",
    "y = set(\"hello\")        # y becomes {'h', 'e', 'l', 'o'}"
   ]
  },
  {
   "cell_type": "markdown",
   "id": "e2592451-c379-4031-8e38-0d0744b1a083",
   "metadata": {},
   "source": [
    "8.  'dict()': Converts a sequence of key-value pairs to a dictionary."
   ]
  },
  {
   "cell_type": "code",
   "execution_count": 17,
   "id": "08d9b948-3cbd-4722-8fc1-cdf0cce7929e",
   "metadata": {},
   "outputs": [],
   "source": [
    "x = dict([('a', 1), ('b', 2)])  # x becomes {'a': 1, 'b': 2}"
   ]
  },
  {
   "cell_type": "code",
   "execution_count": 18,
   "id": "11ac1f6f-9097-4c80-9cd6-c51e8c1e8b6d",
   "metadata": {},
   "outputs": [],
   "source": [
    "# Convert float to int\n",
    "a = 3.14\n",
    "b = int(a)  # b becomes 3\n",
    "\n",
    "# Convert int to string\n",
    "c = 100\n",
    "d = str(c)  # d becomes \"100\"\n",
    "\n",
    "# Convert string to float\n",
    "e = \"12.34\"\n",
    "f = float(e)  # f becomes 12.34\n",
    "\n",
    "# Convert list to tuple\n",
    "g = [1, 2, 3]\n",
    "h = tuple(g)  # h becomes (1, 2, 3)"
   ]
  },
  {
   "cell_type": "markdown",
   "id": "5177138b-f6a8-4127-81b3-deadf5c3782a",
   "metadata": {},
   "source": [
    "Q4. How do you write and execute a Python script from the command line?\n"
   ]
  },
  {
   "cell_type": "markdown",
   "id": "34723cb4-a267-4e90-94fe-48597854ea63",
   "metadata": {},
   "source": [
    "To write and execute a Python script from the command line, follow these steps:\n",
    "\n",
    "1. Write a Python Script\n",
    "Create a new text file with a .py extension using a text editor (e.g., Notepad, VS Code, Sublime Text).\n",
    "Write your Python code in the file.\n",
    "Example:\n",
    "\n",
    "python\n",
    "Copy code\n",
    "# hello.py\n",
    "print(\"Hello, World!\")\n",
    "2. Save the Python Script\n",
    "Save the file with a .py extension (e.g., hello.py).\n",
    "3. Open the Command Line Interface\n",
    "Windows: Open the Command Prompt (CMD) or PowerShell.\n",
    "macOS/Linux: Open the Terminal.\n",
    "4. Navigate to the Directory Containing the Script\n",
    "Use the cd command to change the directory to the location where your script is saved.\n",
    "Example:\n",
    "\n",
    "bash\n",
    "Copy code\n",
    "cd path/to/your/script\n",
    "If your script is saved on the Desktop, you might use:\n",
    "\n",
    "bash\n",
    "Copy code\n",
    "cd Desktop\n",
    "5. Execute the Python Script\n",
    "Once you’re in the directory where your script is located, run the script by typing python (or python3, depending on your Python installation) followed by the script’s filename.\n",
    "Example:\n",
    "\n",
    "bash\n",
    "Copy code\n",
    "python hello.py\n",
    "Or if you’re using Python 3 specifically:\n",
    "\n",
    "bash\n",
    "Copy code\n",
    "python3 hello.py\n",
    "After running the command, you should see the output in the command line:\n",
    "\n",
    "bash\n",
    "Copy code\n",
    "Hello, World!\n",
    "6. Verify Python Installation (Optional)\n",
    "If you’re unsure whether Python is installed, you can check by running:\n",
    "bash\n",
    "Copy code\n",
    "python --version\n",
    "If Python 3 is installed as python3, you can check by running:\n",
    "bash\n",
    "Copy code\n",
    "python3 --version"
   ]
  },
  {
   "cell_type": "code",
   "execution_count": 20,
   "id": "3cd7ad70-74a9-4465-9a2d-123ebf43926a",
   "metadata": {},
   "outputs": [
    {
     "name": "stdout",
     "output_type": "stream",
     "text": [
      "Hello, World!\n"
     ]
    }
   ],
   "source": [
    "# hello.py\n",
    "print(\"Hello, World!\")"
   ]
  },
  {
   "cell_type": "markdown",
   "id": "f7211bea-3290-4b55-810c-a4fb3eb92f04",
   "metadata": {},
   "source": [
    "Q5. Given a list my_list = [1, 2, 3, 4, 5], write the code to slice the list and obtain the sub-list [2, 3].\n"
   ]
  },
  {
   "cell_type": "markdown",
   "id": "117df73c-a4bb-4b0b-b244-918ed056a179",
   "metadata": {},
   "source": [
    "To obtain the sub-list [2, 3] from my_list = [1, 2, 3, 4, 5], you can use list slicing in Python.\n",
    "\n",
    "Slicing Syntax:\n",
    "python\n",
    "Copy code\n",
    "sub_list = my_list[start_index:end_index]\n",
    "start_index: The index where the slice starts (inclusive).\n",
    "end_index: The index where the slice ends (exclusive).\n",
    "Code to Slice the List:"
   ]
  },
  {
   "cell_type": "code",
   "execution_count": 21,
   "id": "a4ddb170-172f-419f-9c2b-ac00509aa9df",
   "metadata": {},
   "outputs": [
    {
     "name": "stdout",
     "output_type": "stream",
     "text": [
      "[2, 3]\n"
     ]
    }
   ],
   "source": [
    "my_list = [1, 2, 3, 4, 5]\n",
    "sub_list = my_list[1:3]\n",
    "print(sub_list)  # Output: [2, 3]"
   ]
  },
  {
   "cell_type": "markdown",
   "id": "19479465-fe1a-44ac-8bb0-afef3a802921",
   "metadata": {},
   "source": [
    "Q6. What is a complex number in mathematics, and how is it represented in Python?\n"
   ]
  },
  {
   "cell_type": "markdown",
   "id": "01af5a41-5405-405b-885a-318ebd104bd1",
   "metadata": {},
   "source": [
    "Complex Numbers in Mathematics\n",
    "A complex number is a number that has both a real part and an imaginary part. It is typically written in the form:\n",
    "z=a+bi\n",
    "a is the real part.\n",
    "b is the imaginary part.\n",
    "i is the imaginary part.\n",
    "Representation of Complex Numbers in Python\n",
    "In Python, complex numbers are represented using the complex data type. The syntax for defining a complex number is:\n",
    "z = a + bj\n",
    "a and b are real numbers.\n",
    "j is used to represent the imaginary unit (not i as in mathematics).\n"
   ]
  },
  {
   "cell_type": "code",
   "execution_count": 22,
   "id": "673afacb-5bb9-4933-b298-554b800c1cd6",
   "metadata": {},
   "outputs": [],
   "source": [
    "z = 3 + 4j  # z is a complex number with real part 3 and imaginary part 4"
   ]
  },
  {
   "cell_type": "code",
   "execution_count": 27,
   "id": "e98f2047-adfb-40d7-b2c7-6277e1317f1a",
   "metadata": {},
   "outputs": [],
   "source": [
    "z = 3 + 4j\n",
    "real_part = z.real       # real_part is 3.0\n",
    "imaginary_part = z.imag  # imaginary_part is 4.0"
   ]
  },
  {
   "cell_type": "code",
   "execution_count": 29,
   "id": "0d80762e-b242-457c-b607-ae954f00f333",
   "metadata": {},
   "outputs": [],
   "source": [
    "z1 = 3 + 4j\n",
    "z2 = 1 + 2j\n",
    "\n",
    "# Addition\n",
    "result = z1 + z2  # result is (4+6j)\n",
    "\n",
    "# Multiplication\n",
    "result = z1 * z2  # result is (-5+10j)\n",
    "\n",
    "# Conjugate\n",
    "conjugate = z1.conjugate()  # conjugate is (3-4j)"
   ]
  },
  {
   "cell_type": "markdown",
   "id": "750969d4-00c1-4db1-bd0f-2454148072f4",
   "metadata": {},
   "source": [
    "Q7. What is the correct way to declare a variable named age and assign the value 25 to it?\n"
   ]
  },
  {
   "cell_type": "code",
   "execution_count": 33,
   "id": "550219b0-eb3b-4032-95ff-9cbd4250c057",
   "metadata": {},
   "outputs": [],
   "source": [
    "#The correct way to declare a variable named age and assign the value 25 to it in Python is:\n"
   ]
  },
  {
   "cell_type": "code",
   "execution_count": 34,
   "id": "e0af3bdc-81aa-440d-b544-3c5abf419eee",
   "metadata": {},
   "outputs": [],
   "source": [
    "age = 25"
   ]
  },
  {
   "cell_type": "markdown",
   "id": "26caebb6-78f8-4b09-9cef-b8f869b1f1b5",
   "metadata": {},
   "source": [
    "Q8. Declare a variable named price and assign the value 9.99 to it. What data type does this variable\n",
    "belong to?\n"
   ]
  },
  {
   "cell_type": "markdown",
   "id": "77dcc4d0-ceca-4d77-a6fc-d10528cb7ff8",
   "metadata": {},
   "source": [
    "We can declare a variable named price and assign the value 9.99 to it as follows:"
   ]
  },
  {
   "cell_type": "code",
   "execution_count": 35,
   "id": "990cf42a-c33b-4ece-9664-c36196e2d825",
   "metadata": {},
   "outputs": [],
   "source": [
    "price = 9.99"
   ]
  },
  {
   "cell_type": "markdown",
   "id": "8e57341d-98e3-4c7e-8103-7c976c1d0384",
   "metadata": {},
   "source": [
    "Data Type:\n",
    "The data type of the variable price is float, which represents a floating-point number (a number with a decimal point)."
   ]
  },
  {
   "cell_type": "code",
   "execution_count": 36,
   "id": "36086030-977b-4c4a-8463-e6f6234d86d4",
   "metadata": {},
   "outputs": [
    {
     "name": "stdout",
     "output_type": "stream",
     "text": [
      "Price: 9.99\n",
      "Data type of 'price': <class 'float'>\n"
     ]
    }
   ],
   "source": [
    "price = 9.99  # Declare the variable 'price' and assign the value 9.99\n",
    "\n",
    "# Print the value and data type of 'price'\n",
    "print(\"Price:\", price)\n",
    "print(\"Data type of 'price':\", type(price))\n"
   ]
  },
  {
   "cell_type": "markdown",
   "id": "f99fdbd3-9a9a-4855-9245-1b8793759f53",
   "metadata": {},
   "source": [
    "Q9. Create a variable named name and assign your full name to it as a string. How would you print the\n",
    "value of this variable?\n"
   ]
  },
  {
   "cell_type": "code",
   "execution_count": 39,
   "id": "6fd80a15-b038-4752-9ff7-d7e0cf7d2233",
   "metadata": {},
   "outputs": [
    {
     "name": "stdout",
     "output_type": "stream",
     "text": [
      "AJAY SAH\n"
     ]
    }
   ],
   "source": [
    "name = \"AJAY SAH\"\n",
    "print(name)"
   ]
  },
  {
   "cell_type": "markdown",
   "id": "6d49fc47-8af7-44bb-b52c-fcd9a58f11b1",
   "metadata": {},
   "source": [
    "Q10. Given the string \"Hello, World!\", extract the substring \"World\".\n"
   ]
  },
  {
   "cell_type": "code",
   "execution_count": 40,
   "id": "1894041b-e383-41fd-8b73-058d01d8fadb",
   "metadata": {},
   "outputs": [
    {
     "name": "stdout",
     "output_type": "stream",
     "text": [
      "World\n"
     ]
    }
   ],
   "source": [
    "original_string = \"Hello, World!\"\n",
    "substring = original_string[7:12]\n",
    "print(substring)  # Output: World"
   ]
  },
  {
   "cell_type": "markdown",
   "id": "1b7a7382-4216-4797-b1ba-456d956a5447",
   "metadata": {},
   "source": [
    "Q11. Create a variable named \"is_student\" and assign it a boolean value indicating whether you are\n",
    "currently a student or not.\n"
   ]
  },
  {
   "cell_type": "code",
   "execution_count": 41,
   "id": "58b293ad-8d89-4976-9920-dd3ea4a8fcb3",
   "metadata": {},
   "outputs": [
    {
     "name": "stdout",
     "output_type": "stream",
     "text": [
      "True\n"
     ]
    }
   ],
   "source": [
    "is_student = True  # Change to False if you are not a student\n",
    "print(is_student)  # Output will be True or False based on the value assigned"
   ]
  },
  {
   "cell_type": "code",
   "execution_count": null,
   "id": "1147fea0-d4b6-46ed-8ee5-7984b3493dcd",
   "metadata": {},
   "outputs": [],
   "source": []
  }
 ],
 "metadata": {
  "kernelspec": {
   "display_name": "Python 3 (ipykernel)",
   "language": "python",
   "name": "python3"
  },
  "language_info": {
   "codemirror_mode": {
    "name": "ipython",
    "version": 3
   },
   "file_extension": ".py",
   "mimetype": "text/x-python",
   "name": "python",
   "nbconvert_exporter": "python",
   "pygments_lexer": "ipython3",
   "version": "3.10.8"
  }
 },
 "nbformat": 4,
 "nbformat_minor": 5
}
