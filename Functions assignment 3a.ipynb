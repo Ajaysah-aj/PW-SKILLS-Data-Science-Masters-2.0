{
 "cells": [
  {
   "cell_type": "markdown",
   "id": "a3c76b28-1359-484d-bf05-693a37702ae2",
   "metadata": {},
   "source": [
    "Q1. Which keyword is used to create a function? Create a function to return a list of odd numbers in the\n",
    "range of 1 to 25."
   ]
  },
  {
   "cell_type": "markdown",
   "id": "e11a6869-7659-4f87-9960-c5ae03234da9",
   "metadata": {},
   "source": [
    "The keyword used to create a function in Python is 'def'.\n"
   ]
  },
  {
   "cell_type": "code",
   "execution_count": 1,
   "id": "0b797638-812b-4bc3-928f-397001f69b07",
   "metadata": {},
   "outputs": [
    {
     "name": "stdout",
     "output_type": "stream",
     "text": [
      "[1, 3, 5, 7, 9, 11, 13, 15, 17, 19, 21, 23, 25]\n"
     ]
    }
   ],
   "source": [
    "def get_odd_numbers():\n",
    "    odd_numbers = [num for num in range(1, 26) if num % 2 != 0]\n",
    "    return odd_numbers\n",
    "\n",
    "# Call the function\n",
    "odd_numbers = get_odd_numbers()\n",
    "print(odd_numbers)\n"
   ]
  },
  {
   "cell_type": "markdown",
   "id": "3ed23008-6670-42b1-b7f2-4c9e6e4dccfd",
   "metadata": {},
   "source": [
    "Q2. Why *args and **kwargs is used in some functions? Create a function each for *args and **kwargs to\n",
    "demonstrate their use."
   ]
  },
  {
   "cell_type": "markdown",
   "id": "5564f647-84de-4709-8b50-6d0225410fd8",
   "metadata": {},
   "source": [
    "'*args': This allows you to pass a variable number of positional arguments to a function. It collects all the positional arguments passed to the function into a tuple.\n",
    "\n",
    "'**kwargs': This allows you to pass a variable number of keyword arguments (i.e., named arguments) to a function. It collects them into a dictionary."
   ]
  },
  {
   "cell_type": "code",
   "execution_count": 2,
   "id": "f3dc60e9-39c6-43a8-b8b8-0a2512d711a3",
   "metadata": {},
   "outputs": [
    {
     "name": "stdout",
     "output_type": "stream",
     "text": [
      "15\n"
     ]
    }
   ],
   "source": [
    "#Example of '*args' :\n",
    "def sum_all(*args):\n",
    "    total = sum(args)\n",
    "    return total\n",
    "\n",
    "# Call the function\n",
    "result = sum_all(1, 2, 3, 4, 5)\n",
    "print(result)\n"
   ]
  },
  {
   "cell_type": "code",
   "execution_count": 3,
   "id": "4c7a58b9-9e03-4057-ab9e-95bcbebc1bc9",
   "metadata": {},
   "outputs": [
    {
     "name": "stdout",
     "output_type": "stream",
     "text": [
      "name: Ajay\n",
      "age: 24\n",
      "occupation: Engineer\n"
     ]
    }
   ],
   "source": [
    "#Example of '**kwargs' :\n",
    "def print_details(**kwargs):\n",
    "    for key, value in kwargs.items():\n",
    "        print(f\"{key}: {value}\")\n",
    "\n",
    "# Call the function\n",
    "print_details(name=\"Ajay\", age=24, occupation=\"Engineer\")\n"
   ]
  },
  {
   "cell_type": "markdown",
   "id": "1ca5fd0a-e733-418a-a221-c5cac9f3010a",
   "metadata": {},
   "source": [
    "Q3. What is an iterator in python? Name the method used to initialise the iterator object and the method\n",
    "used for iteration. Use these methods to print the first five elements of the given list [2, 4, 6, 8, 10, 12, 14, 16,\n",
    "18, 20]."
   ]
  },
  {
   "cell_type": "markdown",
   "id": "b13b01cd-6cd2-4ad5-9af3-ee6030779e23",
   "metadata": {},
   "source": [
    "An iterator in Python is an object that contains a countable number of elements and can be iterated (looped) upon. It follows the iterator protocol, which consists of two methods:\n",
    "\n",
    "'__iter__()': This method initializes (or returns) the iterator object itself. It is called once to initialize the iterator.\n",
    "'__next__()': This method returns the next value in the sequence and moves the iterator to the next element. It raises a 'StopIteration' exception when there are no more elements to iterate."
   ]
  },
  {
   "cell_type": "code",
   "execution_count": 4,
   "id": "128a95e6-d934-4402-b1cf-04abfd2f71a5",
   "metadata": {},
   "outputs": [
    {
     "name": "stdout",
     "output_type": "stream",
     "text": [
      "2\n",
      "4\n",
      "6\n",
      "8\n",
      "10\n"
     ]
    }
   ],
   "source": [
    "#Example: Using an Iterator\n",
    "#Let's use these methods to print the first five elements of the given list [2, 4, 6, 8, 10, 12, 14, 16, 18, 20].\n",
    "# Given list\n",
    "numbers = [2, 4, 6, 8, 10, 12, 14, 16, 18, 20]\n",
    "\n",
    "# Get an iterator object using iter()\n",
    "iterator = iter(numbers)\n",
    "\n",
    "# Use a loop to get the first five elements using next()\n",
    "for _ in range(5):\n",
    "    print(next(iterator))\n"
   ]
  },
  {
   "cell_type": "markdown",
   "id": "817708ca-119d-4a51-b193-5b4f8ac454ee",
   "metadata": {},
   "source": [
    "Q4. What is a generator function in python? Why yield keyword is used? Give an example of a generator\n",
    "function."
   ]
  },
  {
   "cell_type": "markdown",
   "id": "e46f5331-7170-409e-84ad-6f3f19c03e8b",
   "metadata": {},
   "source": [
    "A generator function is a special type of function in Python that allows you to iterate over a sequence of values without having to store the entire sequence in memory at once. Instead of returning a single value using the return statement, a generator function uses the yield keyword to produce a series of values one at a time, which are then returned to the caller in the form of an iterator.\n",
    "\n",
    "The yield keyword is used in a generator function to temporarily suspend the function’s execution and return a value to the caller, but unlike return, the function's state is preserved. When the generator is iterated again, the function resumes execution from where it left off, continuing until the next yield statement is encountered or the function terminates."
   ]
  },
  {
   "cell_type": "code",
   "execution_count": 5,
   "id": "18164c94-1fa1-4797-9449-bfa22b30fee3",
   "metadata": {},
   "outputs": [
    {
     "name": "stdout",
     "output_type": "stream",
     "text": [
      "1\n",
      "4\n",
      "9\n",
      "16\n",
      "25\n"
     ]
    }
   ],
   "source": [
    "#Example of a Generator Function\n",
    "def generate_squares(n):\n",
    "    for i in range(1, n + 1):\n",
    "        yield i * i\n",
    "\n",
    "# Using the generator function\n",
    "squares = generate_squares(5)\n",
    "\n",
    "# Iterate over the generator and print the values\n",
    "for square in squares:\n",
    "    print(square)\n"
   ]
  },
  {
   "cell_type": "markdown",
   "id": "81d9099b-378e-491c-b9fd-ea51a7420a65",
   "metadata": {},
   "source": [
    "Q5. Create a generator function for prime numbers less than 1000. Use the next() method to print the\n",
    "first 20 prime numbers."
   ]
  },
  {
   "cell_type": "code",
   "execution_count": 6,
   "id": "f1ddf785-9433-4d1e-ab96-70204b95b183",
   "metadata": {},
   "outputs": [
    {
     "name": "stdout",
     "output_type": "stream",
     "text": [
      "2\n",
      "3\n",
      "5\n",
      "7\n",
      "11\n",
      "13\n",
      "17\n",
      "19\n",
      "23\n",
      "29\n",
      "31\n",
      "37\n",
      "41\n",
      "43\n",
      "47\n",
      "53\n",
      "59\n",
      "61\n",
      "67\n",
      "71\n"
     ]
    }
   ],
   "source": [
    "def generate_primes():\n",
    "    primes = []\n",
    "    for num in range(2, 1000):\n",
    "        is_prime = True\n",
    "        for prime in primes:\n",
    "            if prime * prime > num:\n",
    "                break\n",
    "            if num % prime == 0:\n",
    "                is_prime = False\n",
    "                break\n",
    "        if is_prime:\n",
    "            primes.append(num)\n",
    "            yield num\n",
    "\n",
    "# Create a prime number generator\n",
    "prime_generator = generate_primes()\n",
    "\n",
    "# Use the next() method to print the first 20 prime numbers\n",
    "for _ in range(20):\n",
    "    print(next(prime_generator))\n"
   ]
  },
  {
   "cell_type": "code",
   "execution_count": null,
   "id": "f3a6b17c-a9cb-4756-ad9f-7fc5a5eeb813",
   "metadata": {},
   "outputs": [],
   "source": []
  }
 ],
 "metadata": {
  "kernelspec": {
   "display_name": "Python 3 (ipykernel)",
   "language": "python",
   "name": "python3"
  },
  "language_info": {
   "codemirror_mode": {
    "name": "ipython",
    "version": 3
   },
   "file_extension": ".py",
   "mimetype": "text/x-python",
   "name": "python",
   "nbconvert_exporter": "python",
   "pygments_lexer": "ipython3",
   "version": "3.10.8"
  }
 },
 "nbformat": 4,
 "nbformat_minor": 5
}
