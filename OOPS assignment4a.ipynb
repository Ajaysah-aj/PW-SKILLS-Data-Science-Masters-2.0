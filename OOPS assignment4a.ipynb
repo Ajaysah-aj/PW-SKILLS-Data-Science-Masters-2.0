{
 "cells": [
  {
   "cell_type": "markdown",
   "id": "689ce895-1bd0-4116-9b26-e155166f319b",
   "metadata": {},
   "source": [
    "Q1. Explain Class and Object with respect to Object-Oriented Programming. Give a suitable example."
   ]
  },
  {
   "cell_type": "markdown",
   "id": "45f0b69d-b8f4-4e4e-9ae6-eda63f123ba7",
   "metadata": {},
   "source": [
    "Class and Object in Object-Oriented Programming (OOP)\n",
    "Class and Object are two fundamental concepts in Object-Oriented Programming (OOP).\n",
    "\n",
    "1. Class:\n",
    "A class is a blueprint or template for creating objects. It defines a set of attributes (data) and methods (functions) that the objects created from the class will have.\n",
    "A class can be thought of as a user-defined data type, and objects are instances of this data type.\n",
    "It encapsulates data and behavior into a single entity.\n",
    "2. Object:\n",
    "An object is an instance of a class. It is created from a class and inherits the attributes and methods defined in the class.\n",
    "Each object can have different values for the attributes defined in the class."
   ]
  },
  {
   "cell_type": "code",
   "execution_count": 3,
   "id": "fc6ae23a-f810-47d2-8ae7-0bc32ff716c1",
   "metadata": {},
   "outputs": [],
   "source": [
    "#Example of a Class:\n",
    "class Car:\n",
    "    def __init__(self, brand, model, year):\n",
    "        self.brand = brand\n",
    "        self.model = model\n",
    "        self.year = year\n",
    "    \n",
    "    def start_engine(self):\n",
    "        return f\"The engine of the {self.brand} {self.model} is now running.\"\n",
    "\n",
    "    def stop_engine(self):\n",
    "        return f\"The engine of the {self.brand} {self.model} has stopped.\"\n"
   ]
  },
  {
   "cell_type": "code",
   "execution_count": 4,
   "id": "45ad4ad1-8a67-4039-ac80-52ed1e430cbd",
   "metadata": {},
   "outputs": [
    {
     "name": "stdout",
     "output_type": "stream",
     "text": [
      "Toyota\n",
      "The engine of the Toyota Corolla is now running.\n"
     ]
    }
   ],
   "source": [
    "#Example of an Object:\n",
    "# Creating an object of the Car class\n",
    "my_car = Car(\"Toyota\", \"Corolla\", 2020)\n",
    "\n",
    "# Accessing attributes and methods\n",
    "print(my_car.brand)  # Output: Toyota\n",
    "print(my_car.start_engine())  # Output: The engine of the Toyota Corolla is now running.\n"
   ]
  },
  {
   "cell_type": "markdown",
   "id": "8cbfd3cc-4115-4f28-84a6-2ea2e8400d1b",
   "metadata": {},
   "source": [
    "Q2. Name the four pillars of OOPs.\n"
   ]
  },
  {
   "cell_type": "markdown",
   "id": "821b2dbf-e19c-4007-bda5-5d19cef9e20a",
   "metadata": {},
   "source": [
    "The four pillars of Object-Oriented Programming (OOP) are:\n",
    "\n",
    "1.Encapsulation:\n",
    "Encapsulation is the concept of bundling data (attributes) and methods (functions) that operate on the data into a single unit or class.\n",
    "It also involves restricting direct access to some of an object's components, which is known as information hiding. This is typically achieved using access modifiers like private, protected, and public in some programming languages.\n",
    "\n",
    "2.Abstraction:\n",
    "Abstraction is the concept of hiding the complex implementation details and showing only the essential features of an object. It allows programmers to focus on what an object does instead of how it does it.\n",
    "Abstraction is typically achieved using abstract classes and interfaces.\n",
    "\n",
    "3.Inheritance:\n",
    "Inheritance is the mechanism by which one class (called a subclass or child class) can inherit attributes and methods from another class (called a superclass or parent class). This allows for code reuse and the creation of a hierarchical relationship between classes.\n",
    "Inheritance supports the concept of \"is-a\" relationships, where the child class is a specialized version of the parent class.\n",
    "\n",
    "4.Polymorphism:\n",
    "Polymorphism allows objects of different classes to be treated as objects of a common superclass. It provides a way to perform a single action in different forms.\n",
    "Polymorphism can be achieved through method overriding (where a subclass provides a specific implementation of a method that is already defined in its superclass) and method overloading (where multiple methods have the same name but different parameters)."
   ]
  },
  {
   "cell_type": "markdown",
   "id": "c0927d43-9489-4e52-a4cf-01c49fcf6afb",
   "metadata": {},
   "source": [
    "Q3. Explain why the __init__() function is used. Give a suitable example.\n"
   ]
  },
  {
   "cell_type": "markdown",
   "id": "20397a3f-c370-473a-9819-b0fcaf43b2c2",
   "metadata": {},
   "source": [
    "The __init__() Function in Python\n",
    "The __init__() function is a special method in Python, known as a constructor. It is automatically called when a new instance (object) of a class is created. The primary purpose of the __init__() function is to initialize the object's attributes with specific values.\n",
    "\n",
    "Key Points about __init__():\n",
    "Initialization: The __init__() method is used to initialize the attributes of the object when it is created.\n",
    "Automatic Call: It is automatically invoked when you create a new object of the class.\n",
    "Custom Attributes: You can define custom attributes in __init__() to set up each object with unique data."
   ]
  },
  {
   "cell_type": "code",
   "execution_count": 6,
   "id": "94715390-7bbe-4d69-b56b-64a56d273faf",
   "metadata": {},
   "outputs": [
    {
     "name": "stdout",
     "output_type": "stream",
     "text": [
      "Ajay\n",
      "24\n",
      "Hello, my name is Ajay and I am 24 years old.\n"
     ]
    }
   ],
   "source": [
    "class Person:\n",
    "    def __init__(self, name, age):\n",
    "        # Initialize the object's attributes\n",
    "        self.name = name\n",
    "        self.age = age\n",
    "\n",
    "    def greet(self):\n",
    "        return f\"Hello, my name is {self.name} and I am {self.age} years old.\"\n",
    "\n",
    "# Creating an object of the Person class\n",
    "person1 = Person(\"Ajay\", 24)\n",
    "\n",
    "# Accessing attributes and methods\n",
    "print(person1.name)  # Output: Alice\n",
    "print(person1.age)   # Output: 30\n",
    "print(person1.greet())  # Output: Hello, my name is Alice and I am 30 years old.\n"
   ]
  },
  {
   "cell_type": "markdown",
   "id": "0b2f254e-6364-4b5e-be2d-d7869ce0a7a9",
   "metadata": {},
   "source": [
    "Q4. Why self is used in OOPs?\n"
   ]
  },
  {
   "cell_type": "markdown",
   "id": "b17e14a7-a6ba-4e65-9938-74ada8943169",
   "metadata": {},
   "source": [
    "In Object-Oriented Programming (OOP), self is a convention used in Python to refer to the instance of the class within its methods. It is used to access variables and methods associated with the instance.\n",
    "\n",
    "Key Points About self:\n",
    "Instance Reference:\n",
    "\n",
    "self represents the instance of the class. It allows methods to access attributes and other methods on the same object.\n",
    "When you call a method on an object, self refers to the object on which the method was called.\n",
    "Accessing Attributes and Methods:\n",
    "\n",
    "self is used to access instance variables and methods from within the class. This ensures that methods and attributes are bound to the specific instance of the class.\n",
    "Required as First Parameter:\n",
    "\n",
    "In Python, self must be the first parameter of any method in the class. It is not a keyword, but a naming convention. However, you could use any other name instead of self, though it is highly discouraged.\n",
    "Consistency:\n",
    "\n",
    "It provides a way to refer to the instance's attributes and methods without directly accessing them through the class name. This helps in maintaining consistency and clarity."
   ]
  },
  {
   "cell_type": "code",
   "execution_count": 7,
   "id": "c526ccf6-6d4e-440e-9c0a-2ab1c46a2db8",
   "metadata": {},
   "outputs": [
    {
     "name": "stdout",
     "output_type": "stream",
     "text": [
      "Car brand: Toyota, model: Corolla\n",
      "Car brand: Toyota, model: Camry\n"
     ]
    }
   ],
   "source": [
    "class Car:\n",
    "    def __init__(self, brand, model):\n",
    "        # Initialize attributes\n",
    "        self.brand = brand\n",
    "        self.model = model\n",
    "    \n",
    "    def display_info(self):\n",
    "        # Accessing attributes using self\n",
    "        return f\"Car brand: {self.brand}, model: {self.model}\"\n",
    "    \n",
    "    def update_model(self, new_model):\n",
    "        # Modifying attributes using self\n",
    "        self.model = new_model\n",
    "\n",
    "# Creating an object of the Car class\n",
    "my_car = Car(\"Toyota\", \"Corolla\")\n",
    "\n",
    "# Accessing methods and attributes\n",
    "print(my_car.display_info())  # Output: Car brand: Toyota, model: Corolla\n",
    "\n",
    "# Updating the model of the car\n",
    "my_car.update_model(\"Camry\")\n",
    "print(my_car.display_info())  # Output: Car brand: Toyota, model: Camry\n"
   ]
  },
  {
   "cell_type": "markdown",
   "id": "526386ed-3c63-47d2-a746-a35662a00567",
   "metadata": {},
   "source": [
    "Q5. What is inheritance? Give an example for each type of inheritance.\n"
   ]
  },
  {
   "cell_type": "markdown",
   "id": "09bcbaf3-0288-4f40-b881-c5f8a9917e8a",
   "metadata": {},
   "source": [
    "Inheritance in Object-Oriented Programming\n",
    "Inheritance is a fundamental concept in object-oriented programming that allows a class (called a subclass or child class) to inherit attributes and methods from another class (called a superclass or parent class). This promotes code reusability and establishes a hierarchical relationship between classes."
   ]
  },
  {
   "cell_type": "markdown",
   "id": "55d9239d-d127-4a0b-ae01-a5f86b24fc37",
   "metadata": {},
   "source": [
    "Types of Inheritance\n",
    "Single Inheritance:\n",
    "\n",
    "In single inheritance, a subclass inherits from a single superclass.\n",
    "\n"
   ]
  },
  {
   "cell_type": "code",
   "execution_count": 8,
   "id": "6f6b9d70-5821-469c-8413-6167ecf7d621",
   "metadata": {},
   "outputs": [
    {
     "name": "stdout",
     "output_type": "stream",
     "text": [
      "Animal sound\n",
      "Woof!\n"
     ]
    }
   ],
   "source": [
    "class Animal:\n",
    "    def speak(self):\n",
    "        return \"Animal sound\"\n",
    "\n",
    "class Dog(Animal):\n",
    "    def bark(self):\n",
    "        return \"Woof!\"\n",
    "\n",
    "# Creating an object of Dog\n",
    "my_dog = Dog()\n",
    "print(my_dog.speak())  # Output: Animal sound\n",
    "print(my_dog.bark())   # Output: Woof!\n"
   ]
  },
  {
   "cell_type": "markdown",
   "id": "66068bd2-2738-4f67-b165-67f9d84042a0",
   "metadata": {},
   "source": [
    "Multiple Inheritance:\n",
    "\n",
    "In multiple inheritance, a subclass inherits from more than one superclass."
   ]
  },
  {
   "cell_type": "code",
   "execution_count": 9,
   "id": "74e05613-3d83-4029-bcfe-34cf6e7a313e",
   "metadata": {},
   "outputs": [
    {
     "name": "stdout",
     "output_type": "stream",
     "text": [
      "Gardening\n",
      "Reading\n"
     ]
    }
   ],
   "source": [
    "class Father:\n",
    "    def skills(self):\n",
    "        return \"Gardening\"\n",
    "\n",
    "class Mother:\n",
    "    def skills(self):\n",
    "        return \"Cooking\"\n",
    "\n",
    "class Child(Father, Mother):\n",
    "    def hobbies(self):\n",
    "        return \"Reading\"\n",
    "\n",
    "# Creating an object of Child\n",
    "child = Child()\n",
    "print(child.skills())  # Output: Gardening (method resolution order gives priority to the first superclass)\n",
    "print(child.hobbies()) # Output: Reading\n"
   ]
  },
  {
   "cell_type": "code",
   "execution_count": null,
   "id": "33e83c02-223e-4c12-a376-8ec89b3fb558",
   "metadata": {},
   "outputs": [],
   "source": [
    "Multilevel Inheritance:\n",
    "\n",
    "In multilevel inheritance, a subclass inherits from another subclass."
   ]
  },
  {
   "cell_type": "code",
   "execution_count": 10,
   "id": "a70fd8ba-a4e6-4c0c-95a5-e6db38cef59c",
   "metadata": {},
   "outputs": [
    {
     "name": "stdout",
     "output_type": "stream",
     "text": [
      "Eating\n",
      "Breathing\n",
      "Woof!\n"
     ]
    }
   ],
   "source": [
    "class Animal:\n",
    "    def eat(self):\n",
    "        return \"Eating\"\n",
    "\n",
    "class Mammal(Animal):\n",
    "    def breathe(self):\n",
    "        return \"Breathing\"\n",
    "\n",
    "class Dog(Mammal):\n",
    "    def bark(self):\n",
    "        return \"Woof!\"\n",
    "\n",
    "# Creating an object of Dog\n",
    "my_dog = Dog()\n",
    "print(my_dog.eat())     # Output: Eating (inherited from Animal)\n",
    "print(my_dog.breathe()) # Output: Breathing (inherited from Mammal)\n",
    "print(my_dog.bark())    # Output: Woof! (defined in Dog)\n"
   ]
  },
  {
   "cell_type": "markdown",
   "id": "ddf6b0a0-3a87-48ec-bf8d-fddc9680706e",
   "metadata": {},
   "source": [
    "Hierarchical Inheritance:\n",
    "\n",
    "In hierarchical inheritance, multiple subclasses inherit from a single superclass."
   ]
  },
  {
   "cell_type": "code",
   "execution_count": 11,
   "id": "6dd0727d-c781-4711-a8b4-703c87701d80",
   "metadata": {},
   "outputs": [
    {
     "name": "stdout",
     "output_type": "stream",
     "text": [
      "Driving\n",
      "Beep!\n",
      "Driving\n",
      "Ring Ring!\n"
     ]
    }
   ],
   "source": [
    "class Vehicle:\n",
    "    def drive(self):\n",
    "        return \"Driving\"\n",
    "\n",
    "class Car(Vehicle):\n",
    "    def honk(self):\n",
    "        return \"Beep!\"\n",
    "\n",
    "class Bike(Vehicle):\n",
    "    def ring_bell(self):\n",
    "        return \"Ring Ring!\"\n",
    "\n",
    "# Creating objects of Car and Bike\n",
    "my_car = Car()\n",
    "my_bike = Bike()\n",
    "print(my_car.drive())    # Output: Driving\n",
    "print(my_car.honk())     # Output: Beep!\n",
    "print(my_bike.drive())   # Output: Driving\n",
    "print(my_bike.ring_bell()) # Output: Ring Ring!\n"
   ]
  },
  {
   "cell_type": "markdown",
   "id": "99134fc8-7078-4ecc-94ea-440326264ad8",
   "metadata": {},
   "source": [
    "Hybrid Inheritance:\n",
    "\n",
    "Hybrid inheritance is a combination of two or more types of inheritance. It can result in complex inheritance hierarchies."
   ]
  },
  {
   "cell_type": "code",
   "execution_count": 12,
   "id": "d9d088cc-12b4-493a-bbe7-9cb6f780a923",
   "metadata": {},
   "outputs": [
    {
     "name": "stdout",
     "output_type": "stream",
     "text": [
      "Eating\n",
      "Working\n",
      "Managing\n",
      "Directing\n"
     ]
    }
   ],
   "source": [
    "class Person:\n",
    "    def eat(self):\n",
    "        return \"Eating\"\n",
    "\n",
    "class Employee(Person):\n",
    "    def work(self):\n",
    "        return \"Working\"\n",
    "\n",
    "class Manager(Employee):\n",
    "    def manage(self):\n",
    "        return \"Managing\"\n",
    "\n",
    "class Director(Manager, Person):\n",
    "    def direct(self):\n",
    "        return \"Directing\"\n",
    "\n",
    "# Creating an object of Director\n",
    "director = Director()\n",
    "print(director.eat())    # Output: Eating\n",
    "print(director.work())   # Output: Working\n",
    "print(director.manage()) # Output: Managing\n",
    "print(director.direct()) # Output: Directing\n"
   ]
  },
  {
   "cell_type": "code",
   "execution_count": null,
   "id": "bff9d87a-f02c-4a5e-a155-d424acb3b821",
   "metadata": {},
   "outputs": [],
   "source": []
  }
 ],
 "metadata": {
  "kernelspec": {
   "display_name": "Python 3 (ipykernel)",
   "language": "python",
   "name": "python3"
  },
  "language_info": {
   "codemirror_mode": {
    "name": "ipython",
    "version": 3
   },
   "file_extension": ".py",
   "mimetype": "text/x-python",
   "name": "python",
   "nbconvert_exporter": "python",
   "pygments_lexer": "ipython3",
   "version": "3.10.8"
  }
 },
 "nbformat": 4,
 "nbformat_minor": 5
}
