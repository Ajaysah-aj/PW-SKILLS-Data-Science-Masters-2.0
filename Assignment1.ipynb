{
 "cells": [
  {
   "cell_type": "code",
   "execution_count": 11,
   "id": "7e0c77fe-5b22-4d1f-a2ac-cf40b0afa303",
   "metadata": {},
   "outputs": [],
   "source": [
    "#Q1.Create one variable containing following type of data : (i) string (ii) list (iii) float (iv) tuple\n",
    "a = \"Ajay\"\n",
    "b = [12,45,\"Sah\",True,\"abc\"]\n",
    "c = 15.89\n",
    "d = (20 , \"jay\" , 34+4j , [12,45,56] )"
   ]
  },
  {
   "cell_type": "code",
   "execution_count": 12,
   "id": "46e6cea7-f6c6-44c8-9184-afcb550fec1e",
   "metadata": {},
   "outputs": [
    {
     "data": {
      "text/plain": [
       "str"
      ]
     },
     "execution_count": 12,
     "metadata": {},
     "output_type": "execute_result"
    }
   ],
   "source": [
    "type(a)"
   ]
  },
  {
   "cell_type": "code",
   "execution_count": 13,
   "id": "0edd0585-ab28-453f-8753-66d032c270f2",
   "metadata": {},
   "outputs": [
    {
     "data": {
      "text/plain": [
       "list"
      ]
     },
     "execution_count": 13,
     "metadata": {},
     "output_type": "execute_result"
    }
   ],
   "source": [
    "type(b)"
   ]
  },
  {
   "cell_type": "code",
   "execution_count": 14,
   "id": "a02bc9c0-d74f-44cd-bb85-389f93de53dc",
   "metadata": {},
   "outputs": [
    {
     "data": {
      "text/plain": [
       "float"
      ]
     },
     "execution_count": 14,
     "metadata": {},
     "output_type": "execute_result"
    }
   ],
   "source": [
    "type(c)"
   ]
  },
  {
   "cell_type": "code",
   "execution_count": 15,
   "id": "b204b883-e696-419e-a61e-edc75b28f46e",
   "metadata": {},
   "outputs": [
    {
     "data": {
      "text/plain": [
       "tuple"
      ]
     },
     "execution_count": 15,
     "metadata": {},
     "output_type": "execute_result"
    }
   ],
   "source": [
    "type(d)"
   ]
  },
  {
   "cell_type": "code",
   "execution_count": null,
   "id": "8e4b3273-d5d7-40b5-b677-f550927baa7a",
   "metadata": {},
   "outputs": [],
   "source": [
    "#Q2.Given are some following variables containing data: (i) var1 = ‘ ‘ (ii) var2 = ‘[ DS , ML , Python]’ (iii) var3 = [ ‘DS’ , ’ML’ , ‘Python’ ] (iv) var4 = 1. What will be the data type of the above given variable."
   ]
  },
  {
   "cell_type": "code",
   "execution_count": 16,
   "id": "2dc72de7-8482-41f3-a17b-6e6168d7bb25",
   "metadata": {},
   "outputs": [],
   "source": [
    "var1 = ' '\n",
    "var2 = '[ DS , ML , Python]'\n",
    "var3 = [ 'DS' , 'ML' , 'Python' ]\n",
    "var4 = 1."
   ]
  },
  {
   "cell_type": "code",
   "execution_count": 17,
   "id": "7492842d-41fd-43fb-b00c-db86e458f650",
   "metadata": {},
   "outputs": [
    {
     "data": {
      "text/plain": [
       "str"
      ]
     },
     "execution_count": 17,
     "metadata": {},
     "output_type": "execute_result"
    }
   ],
   "source": [
    "type(var1)"
   ]
  },
  {
   "cell_type": "code",
   "execution_count": 18,
   "id": "9e333355-fbd7-4efc-9c50-c49bcaeab7d2",
   "metadata": {},
   "outputs": [
    {
     "data": {
      "text/plain": [
       "str"
      ]
     },
     "execution_count": 18,
     "metadata": {},
     "output_type": "execute_result"
    }
   ],
   "source": [
    "type(var2)"
   ]
  },
  {
   "cell_type": "code",
   "execution_count": 19,
   "id": "7ce1ddab-c17a-4e2a-8e11-3c8af94daec1",
   "metadata": {},
   "outputs": [
    {
     "data": {
      "text/plain": [
       "list"
      ]
     },
     "execution_count": 19,
     "metadata": {},
     "output_type": "execute_result"
    }
   ],
   "source": [
    "type(var3)"
   ]
  },
  {
   "cell_type": "code",
   "execution_count": 20,
   "id": "76d03b9a-0a86-4eb9-b6ea-af5f7ad94c45",
   "metadata": {},
   "outputs": [
    {
     "data": {
      "text/plain": [
       "float"
      ]
     },
     "execution_count": 20,
     "metadata": {},
     "output_type": "execute_result"
    }
   ],
   "source": [
    "type(var4)"
   ]
  },
  {
   "cell_type": "code",
   "execution_count": 21,
   "id": "6c836076-d041-4042-b289-e4f726caec6c",
   "metadata": {},
   "outputs": [],
   "source": [
    "#Q3.Explain the use of the following operators using an example: (i) / (ii) % (iii) // (iv) **"
   ]
  },
  {
   "cell_type": "code",
   "execution_count": 23,
   "id": "cbbe0a77-8a5b-4b17-8211-b5effc0b57fc",
   "metadata": {},
   "outputs": [
    {
     "data": {
      "text/plain": [
       "22.5"
      ]
     },
     "execution_count": 23,
     "metadata": {},
     "output_type": "execute_result"
    }
   ],
   "source": [
    "# / is the division operator\n",
    "45 / 2"
   ]
  },
  {
   "cell_type": "code",
   "execution_count": 25,
   "id": "80b636e8-647b-4141-9095-bb8dbceed4b1",
   "metadata": {},
   "outputs": [
    {
     "data": {
      "text/plain": [
       "1"
      ]
     },
     "execution_count": 25,
     "metadata": {},
     "output_type": "execute_result"
    }
   ],
   "source": [
    "# % is the modulus operator tell us the remainder of the division\n",
    "45 % 2"
   ]
  },
  {
   "cell_type": "code",
   "execution_count": 26,
   "id": "e4f19442-5c6d-491b-ae0a-5751b95cf5da",
   "metadata": {},
   "outputs": [
    {
     "data": {
      "text/plain": [
       "34"
      ]
     },
     "execution_count": 26,
     "metadata": {},
     "output_type": "execute_result"
    }
   ],
   "source": [
    "# // is the floor division returns the floor value after division\n",
    "69 // 2"
   ]
  },
  {
   "cell_type": "code",
   "execution_count": 27,
   "id": "85bae728-dc16-43bd-a7da-54da407f5602",
   "metadata": {},
   "outputs": [
    {
     "data": {
      "text/plain": [
       "8"
      ]
     },
     "execution_count": 27,
     "metadata": {},
     "output_type": "execute_result"
    }
   ],
   "source": [
    "# ** is the power operator \n",
    "2 **3"
   ]
  },
  {
   "cell_type": "code",
   "execution_count": null,
   "id": "68069320-db78-4aa4-ac00-114d1e7394db",
   "metadata": {},
   "outputs": [],
   "source": [
    "#Q4. Create a list of length 10 of your choice containing multiple types of data. Using for loop print the element and its data type."
   ]
  },
  {
   "cell_type": "code",
   "execution_count": 32,
   "id": "533f1a32-9dba-4bc6-9c7c-c4ba1e7a86ea",
   "metadata": {},
   "outputs": [],
   "source": [
    "l = [56,47,\"grapes\",\"mango\",638,92,12,\"metals\",63,\"sweet\"]"
   ]
  },
  {
   "cell_type": "code",
   "execution_count": 30,
   "id": "8e3e3b01-96dc-4d90-a5f8-b9f6f8cc4912",
   "metadata": {},
   "outputs": [
    {
     "data": {
      "text/plain": [
       "10"
      ]
     },
     "execution_count": 30,
     "metadata": {},
     "output_type": "execute_result"
    }
   ],
   "source": [
    "len(l)"
   ]
  },
  {
   "cell_type": "code",
   "execution_count": 33,
   "id": "33b56217-20d3-4a7e-bdca-598d47b51fd3",
   "metadata": {},
   "outputs": [
    {
     "name": "stdout",
     "output_type": "stream",
     "text": [
      "Element :  56 \n",
      "Data Type : <class 'int'>\n",
      "Element :  47 \n",
      "Data Type : <class 'int'>\n",
      "Element :  grapes \n",
      "Data Type : <class 'str'>\n",
      "Element :  mango \n",
      "Data Type : <class 'str'>\n",
      "Element :  638 \n",
      "Data Type : <class 'int'>\n",
      "Element :  92 \n",
      "Data Type : <class 'int'>\n",
      "Element :  12 \n",
      "Data Type : <class 'int'>\n",
      "Element :  metals \n",
      "Data Type : <class 'str'>\n",
      "Element :  63 \n",
      "Data Type : <class 'int'>\n",
      "Element :  sweet \n",
      "Data Type : <class 'str'>\n",
      "Sucessfuly iterated across all the elements\n"
     ]
    }
   ],
   "source": [
    "for i in l:\n",
    "    print(\"Element : \",i,\"\\nData Type :\",type(i))\n",
    "    \n",
    "else:\n",
    "    print(\"Sucessfuly iterated across all the elements\")"
   ]
  },
  {
   "cell_type": "code",
   "execution_count": null,
   "id": "469daafd-1fe6-44b7-8b11-3abd7160405c",
   "metadata": {},
   "outputs": [],
   "source": [
    "#Q5. Using a while loop, verify if the number A is purely divisible by number B and if so then how many times it can be divisible."
   ]
  },
  {
   "cell_type": "code",
   "execution_count": 35,
   "id": "33ed58e1-1f44-4c06-8e07-3b5a1a64bc67",
   "metadata": {},
   "outputs": [
    {
     "name": "stdout",
     "output_type": "stream",
     "text": [
      "52  is purely divisible by  13  and is divisible  4  times\n"
     ]
    }
   ],
   "source": [
    "a=52\n",
    "b=13\n",
    "\n",
    "\n",
    "while a%b==0 :\n",
    "    print(a,\" is purely divisible by \" , b ,\" and is divisible \" ,int((a/b)), \" times\")\n",
    "    break\n",
    "    \n",
    "else:\n",
    "    print(a ,\"is not purely divisible by \" ,b)"
   ]
  },
  {
   "cell_type": "code",
   "execution_count": null,
   "id": "90866c3d-38a8-439c-9a89-4b421f3fc421",
   "metadata": {},
   "outputs": [],
   "source": [
    "#Q6. Create a list containing 25 int type data. Using for loop and if-else condition print if the element is divisible by 3 or not."
   ]
  },
  {
   "cell_type": "code",
   "execution_count": 36,
   "id": "d20d7e34-f9ab-4863-a2ae-371a03399805",
   "metadata": {},
   "outputs": [
    {
     "name": "stdout",
     "output_type": "stream",
     "text": [
      "1 is not divisible by 3\n",
      "2 is not divisible by 3\n",
      "3 is divisible by 3\n",
      "4 is not divisible by 3\n",
      "5 is not divisible by 3\n",
      "6 is divisible by 3\n",
      "7 is not divisible by 3\n",
      "8 is not divisible by 3\n",
      "9 is divisible by 3\n",
      "10 is not divisible by 3\n",
      "11 is not divisible by 3\n",
      "12 is divisible by 3\n",
      "13 is not divisible by 3\n",
      "14 is not divisible by 3\n",
      "15 is divisible by 3\n",
      "16 is not divisible by 3\n",
      "17 is not divisible by 3\n",
      "18 is divisible by 3\n",
      "19 is not divisible by 3\n",
      "20 is not divisible by 3\n",
      "21 is divisible by 3\n",
      "22 is not divisible by 3\n",
      "23 is not divisible by 3\n",
      "24 is divisible by 3\n",
      "25 is not divisible by 3\n"
     ]
    }
   ],
   "source": [
    "for i in range(1,26) :\n",
    "    if (i%3 == 0):\n",
    "        print(f\"{i} is divisible by 3\")\n",
    "    else : \n",
    "        print(f\"{i} is not divisible by 3\")"
   ]
  },
  {
   "cell_type": "code",
   "execution_count": null,
   "id": "6c7c3b85-6b7a-4e3b-8c71-f0c6dd8b7f5e",
   "metadata": {},
   "outputs": [],
   "source": [
    "#Q7. What do you understand about mutable and immutable data types? Give examples for both showing this property.\n",
    "\n",
    "Mutable objects can be modified after its created whereas immutable objects cannot be modified once created."
   ]
  },
  {
   "cell_type": "code",
   "execution_count": 37,
   "id": "51f20e6c-52da-431e-91a2-c359d8c5b650",
   "metadata": {},
   "outputs": [],
   "source": [
    "name = \"Ajay\""
   ]
  },
  {
   "cell_type": "code",
   "execution_count": 38,
   "id": "9c6762e1-8bce-4a57-83d1-04aa647fa09d",
   "metadata": {},
   "outputs": [],
   "source": [
    "list = [12,\"apple\",\"kiwi\",\"mango\",10]"
   ]
  },
  {
   "cell_type": "code",
   "execution_count": 39,
   "id": "d0d88a1e-0ccf-45bd-9bac-4235eea96404",
   "metadata": {},
   "outputs": [
    {
     "data": {
      "text/plain": [
       "'a'"
      ]
     },
     "execution_count": 39,
     "metadata": {},
     "output_type": "execute_result"
    }
   ],
   "source": [
    "name[2]"
   ]
  },
  {
   "cell_type": "code",
   "execution_count": 40,
   "id": "e5fe1a8c-719f-4e7e-aae0-1b05d488c099",
   "metadata": {},
   "outputs": [
    {
     "data": {
      "text/plain": [
       "12"
      ]
     },
     "execution_count": 40,
     "metadata": {},
     "output_type": "execute_result"
    }
   ],
   "source": [
    "list[0]"
   ]
  },
  {
   "cell_type": "code",
   "execution_count": 41,
   "id": "6396149d-c214-461e-8ae3-26122a136df5",
   "metadata": {},
   "outputs": [],
   "source": [
    "list[0] =\"pear\" #lists are mutubale objects"
   ]
  },
  {
   "cell_type": "code",
   "execution_count": 42,
   "id": "d62ca96c-943b-4975-95ad-e62206ef1fe5",
   "metadata": {},
   "outputs": [
    {
     "data": {
      "text/plain": [
       "['pear', 'apple', 'kiwi', 'mango', 10]"
      ]
     },
     "execution_count": 42,
     "metadata": {},
     "output_type": "execute_result"
    }
   ],
   "source": [
    "list"
   ]
  },
  {
   "cell_type": "code",
   "execution_count": 43,
   "id": "b0c4ff51-fc56-4cce-acc3-eed8066c454d",
   "metadata": {},
   "outputs": [
    {
     "ename": "TypeError",
     "evalue": "'str' object does not support item assignment",
     "output_type": "error",
     "traceback": [
      "\u001b[0;31m---------------------------------------------------------------------------\u001b[0m",
      "\u001b[0;31mTypeError\u001b[0m                                 Traceback (most recent call last)",
      "Cell \u001b[0;32mIn[43], line 1\u001b[0m\n\u001b[0;32m----> 1\u001b[0m \u001b[43mname\u001b[49m\u001b[43m[\u001b[49m\u001b[38;5;241;43m2\u001b[39;49m\u001b[43m]\u001b[49m\u001b[38;5;241m=\u001b[39m\u001b[38;5;124m'\u001b[39m\u001b[38;5;124mn\u001b[39m\u001b[38;5;124m'\u001b[39m \u001b[38;5;66;03m#strings are immutable objects thats why there is error when we try to chnage the index value however we can modify value by using string functions\u001b[39;00m\n",
      "\u001b[0;31mTypeError\u001b[0m: 'str' object does not support item assignment"
     ]
    }
   ],
   "source": [
    "name[2]='n' #strings are immutable objects thats why there is error when we try to chnage the index value however we can modify value by using string functions"
   ]
  },
  {
   "cell_type": "code",
   "execution_count": null,
   "id": "99ba6918-7ab4-4bab-896d-9b6b3f999044",
   "metadata": {},
   "outputs": [],
   "source": []
  }
 ],
 "metadata": {
  "kernelspec": {
   "display_name": "Python 3 (ipykernel)",
   "language": "python",
   "name": "python3"
  },
  "language_info": {
   "codemirror_mode": {
    "name": "ipython",
    "version": 3
   },
   "file_extension": ".py",
   "mimetype": "text/x-python",
   "name": "python",
   "nbconvert_exporter": "python",
   "pygments_lexer": "ipython3",
   "version": "3.10.8"
  }
 },
 "nbformat": 4,
 "nbformat_minor": 5
}
