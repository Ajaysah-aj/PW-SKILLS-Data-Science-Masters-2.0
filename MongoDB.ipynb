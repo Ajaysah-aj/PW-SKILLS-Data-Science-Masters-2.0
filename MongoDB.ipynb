{
 "cells": [
  {
   "cell_type": "markdown",
   "id": "72b8b198-36bd-47c4-8f0f-0bf9a4d97142",
   "metadata": {},
   "source": [
    "Q1. What is MongoDB? Explain non-relational databases in short. In which scenarios it is preferred to use\n",
    "MongoDB over SQL databases?"
   ]
  },
  {
   "cell_type": "markdown",
   "id": "4ffebd56-b86d-4d8c-9e6a-2b29a81da586",
   "metadata": {},
   "source": [
    "MongoDB is a NoSQL database that stores data in a flexible, JSON-like format called BSON (Binary JSON). It is designed for scalability and high performance. Unlike traditional relational databases, MongoDB uses collections and documents rather than tables and rows.\n",
    "\n",
    "Non-relational databases, or NoSQL databases, are designed to handle a variety of data models, including document-based, key-value pairs, column-family, and graph formats. They are often used for their flexibility, scalability, and ability to handle unstructured or semi-structured data.\n",
    "\n",
    "Scenarios where MongoDB is preferred over SQL databases:\n",
    "\n",
    "1.Unstructured or Semi-structured Data: MongoDB is ideal for applications dealing with complex, hierarchical, or semi-structured data, such as content management systems or user profiles.\n",
    "\n",
    "2.Scalability: MongoDB excels in scenarios requiring horizontal scaling across multiple servers. Its built-in sharding allows for distributing data across multiple nodes easily.\n",
    "\n",
    "3.Flexible Schema: When the data model is likely to evolve, MongoDB’s schema-less design allows for changes without impacting existing data.\n",
    "\n",
    "4.Rapid Development: Its flexible data model can speed up development cycles, especially when the application requires frequent changes to the data structure.\n",
    "\n",
    "5.Real-time Analytics: MongoDB can be used for applications needing real-time analytics or handling large volumes of data with varying structures, such as logging systems or big data applications.\n",
    "\n",
    "In contrast, SQL databases are often preferred for applications requiring strong consistency, complex transactions, and fixed schemas."
   ]
  },
  {
   "cell_type": "markdown",
   "id": "b9a2cf7c-7033-43d2-aa89-930b543a9f33",
   "metadata": {},
   "source": [
    "Q2. State and Explain the features of MongoDB."
   ]
  },
  {
   "cell_type": "markdown",
   "id": "76746674-33ba-49c5-a691-56e47e5248aa",
   "metadata": {},
   "source": [
    "MongoDB offers several key features that make it a popular choice for modern applications:\n",
    "\n",
    "1. Document-Oriented Storage: MongoDB stores data in flexible, JSON-like documents (BSON format), which can have varying structures. This allows for rich and hierarchical data representation.\n",
    "\n",
    "2. Schema Flexibility: Unlike traditional relational databases with fixed schemas, MongoDB's schema-less design means that documents in a collection can have different structures, making it easy to evolve your data model as needed.\n",
    "\n",
    "3. High Availability: MongoDB provides high availability through replica sets. A replica set is a group of MongoDB servers that maintain the same data set. If the primary server fails, a secondary server can automatically take over.\n",
    "\n",
    "4. Scalability: MongoDB supports horizontal scaling through sharding. Sharding involves distributing data across multiple servers (shards), allowing for the management of large datasets and high throughput operations.\n",
    "\n",
    "5. Indexing: MongoDB supports a variety of indexing options to improve query performance. This includes single-field indexes, compound indexes, geospatial indexes, and text indexes.\n",
    "\n",
    "6. Aggregation Framework: MongoDB includes a powerful aggregation framework for performing complex queries and data processing tasks. It allows for filtering, grouping, and transforming data within the database.\n",
    "\n",
    "7. Rich Query Language: MongoDB's query language supports a wide range of queries, including CRUD operations, as well as complex queries involving nested documents and arrays.\n",
    "\n",
    "8. Built-in Replication and Sharding: The database supports automatic replication and sharding. Replication provides data redundancy and high availability, while sharding helps manage large datasets and distribute load.\n",
    "\n",
    "9. GridFS: MongoDB includes GridFS for storing and retrieving large files, such as images, videos, and other binary data. GridFS divides files into chunks and stores them across multiple documents.\n",
    "\n",
    "10. Aggregation Pipelines: MongoDB's aggregation pipelines allow for processing data in stages, enabling powerful data transformations and analytics. Each stage of the pipeline performs an operation on the data.\n",
    "\n",
    "11. ACID Transactions: MongoDB supports multi-document ACID (Atomicity, Consistency, Isolation, Durability) transactions, ensuring reliable and consistent operations across multiple documents and collections.\n",
    "\n",
    "12. Geospatial Support: MongoDB has built-in support for geospatial data and queries, making it suitable for location-based services and applications.\n",
    "\n",
    "13. Flexible Data Model: The ability to store complex data structures, including arrays and nested documents, allows for more natural data modeling for certain use cases.\n",
    "\n",
    "These features make MongoDB a versatile database choice for applications that require flexible data modeling, scalability, and high performance."
   ]
  },
  {
   "cell_type": "markdown",
   "id": "fa79f10c-7af6-4ca1-9522-082d31334296",
   "metadata": {},
   "source": [
    "Q3. Write a code to connect MongoDB to Python. Also, create a database and a collection in MongoDB."
   ]
  },
  {
   "cell_type": "code",
   "execution_count": 1,
   "id": "2d673fed-de76-4da5-9db4-2381bbb1af16",
   "metadata": {},
   "outputs": [
    {
     "ename": "ModuleNotFoundError",
     "evalue": "No module named 'pymongo'",
     "output_type": "error",
     "traceback": [
      "\u001b[0;31m---------------------------------------------------------------------------\u001b[0m",
      "\u001b[0;31mModuleNotFoundError\u001b[0m                       Traceback (most recent call last)",
      "Cell \u001b[0;32mIn[1], line 1\u001b[0m\n\u001b[0;32m----> 1\u001b[0m \u001b[38;5;28;01mfrom\u001b[39;00m \u001b[38;5;21;01mpymongo\u001b[39;00m \u001b[38;5;28;01mimport\u001b[39;00m MongoClient\n\u001b[1;32m      3\u001b[0m \u001b[38;5;66;03m# Step 1: Connect to MongoDB server\u001b[39;00m\n\u001b[1;32m      4\u001b[0m client \u001b[38;5;241m=\u001b[39m MongoClient(\u001b[38;5;124m'\u001b[39m\u001b[38;5;124mmongodb://localhost:27017/\u001b[39m\u001b[38;5;124m'\u001b[39m)  \u001b[38;5;66;03m# Adjust the URI if needed\u001b[39;00m\n",
      "\u001b[0;31mModuleNotFoundError\u001b[0m: No module named 'pymongo'"
     ]
    }
   ],
   "source": [
    "from pymongo import MongoClient\n",
    "\n",
    "# Step 1: Connect to MongoDB server\n",
    "client = MongoClient('mongodb://localhost:27017/')  # Adjust the URI if needed\n",
    "\n",
    "# Step 2: Create a database\n",
    "db = client['mydatabase']  # Replace 'mydatabase' with your desired database name\n",
    "\n",
    "# Step 3: Create a collection\n",
    "collection = db['mycollection']  # Replace 'mycollection' with your desired collection name\n",
    "\n",
    "# Optional: Print the names of the databases and collections to verify\n",
    "print(\"Databases:\", client.list_database_names())\n",
    "print(\"Collections in 'mydatabase':\", db.list_collection_names())\n"
   ]
  },
  {
   "cell_type": "markdown",
   "id": "2b6a0d8b-c542-4e00-9723-72f12d1e1d1e",
   "metadata": {},
   "source": [
    "Q4. Using the database and the collection created in question number 3, write a code to insert one record,\n",
    "and insert many records. Use the find() and find_one() methods to print the inserted record."
   ]
  },
  {
   "cell_type": "code",
   "execution_count": null,
   "id": "1381fd56-1819-4fdd-a47d-7e9f45ee7604",
   "metadata": {},
   "outputs": [],
   "source": [
    "#Code to insert one record:\n",
    "from pymongo import MongoClient\n",
    "\n",
    "# Connect to MongoDB server\n",
    "client = MongoClient('mongodb://localhost:27017/')\n",
    "\n",
    "# Access the database and collection\n",
    "db = client['mydatabase']\n",
    "collection = db['mycollection']\n",
    "\n",
    "# Insert one record\n",
    "single_record = {\"name\": \"Ajay\", \"age\": 24, \"city\": \"Patna\"}\n",
    "result = collection.insert_one(single_record)\n",
    "\n",
    "# Print the inserted record ID\n",
    "print(\"Inserted record ID:\", result.inserted_id)\n",
    "\n",
    "# Retrieve and print the inserted record\n",
    "retrieved_record = collection.find_one({\"name\": \"Ajay\"})\n",
    "print(\"Retrieved record:\", retrieved_record)\n",
    "\n",
    "#Code to insert many records:\n",
    "# Insert many records\n",
    "multiple_records = [\n",
    "    {\"name\": \"Saurav\", \"age\": 23, \"city\": \"Noida\"},\n",
    "    {\"name\": \"Aditya\", \"age\": 24, \"city\": \"Mumbai\"},\n",
    "    {\"name\": \"Jayant\", \"age\": 24, \"city\": \"Indore\"}\n",
    "]\n",
    "result = collection.insert_many(multiple_records)\n",
    "\n",
    "# Print the IDs of the inserted records\n",
    "print(\"Inserted record IDs:\", result.inserted_ids)\n",
    "\n",
    "# Retrieve and print all records using find()\n",
    "all_records = collection.find()\n",
    "print(\"All records in 'mycollection':\")\n",
    "for record in all_records:\n",
    "    print(record)\n"
   ]
  },
  {
   "cell_type": "markdown",
   "id": "f39ed220-f56f-4248-a7da-abff85fdb9a3",
   "metadata": {},
   "source": [
    "Q5. Explain how you can use the find() method to query the MongoDB database. Write a simple code to\n",
    "demonstrate this."
   ]
  },
  {
   "cell_type": "markdown",
   "id": "edcbe72c-783d-42d6-a6c1-89ae103c8e50",
   "metadata": {},
   "source": [
    "The find() method in MongoDB is used to query a collection and retrieve documents that match a specified query filter. It returns a cursor that allows you to iterate over the resulting documents.\n",
    "\n",
    "How to Use find():\n",
    "1. Basic Query: Retrieves all documents in a collection if no query filter is provided.\n",
    "2. Query with Conditions: Filters documents based on specific criteria (e.g., fields and values).\n",
    "3. Projection: Limits the fields returned in the result set.\n",
    "4. Sorting: Orders the results based on specified fields.\n",
    "5. Limit and Skip: Controls the number of documents returned and skips over a specified number."
   ]
  },
  {
   "cell_type": "code",
   "execution_count": 1,
   "id": "ba248211-c9bc-4d71-a2be-cd629f9996a8",
   "metadata": {},
   "outputs": [
    {
     "ename": "ModuleNotFoundError",
     "evalue": "No module named 'pymongo'",
     "output_type": "error",
     "traceback": [
      "\u001b[0;31m---------------------------------------------------------------------------\u001b[0m",
      "\u001b[0;31mModuleNotFoundError\u001b[0m                       Traceback (most recent call last)",
      "Cell \u001b[0;32mIn[1], line 2\u001b[0m\n\u001b[1;32m      1\u001b[0m \u001b[38;5;66;03m#Example\u001b[39;00m\n\u001b[0;32m----> 2\u001b[0m \u001b[38;5;28;01mfrom\u001b[39;00m \u001b[38;5;21;01mpymongo\u001b[39;00m \u001b[38;5;28;01mimport\u001b[39;00m MongoClient\n\u001b[1;32m      4\u001b[0m \u001b[38;5;66;03m# Connect to MongoDB server\u001b[39;00m\n\u001b[1;32m      5\u001b[0m client \u001b[38;5;241m=\u001b[39m MongoClient(\u001b[38;5;124m'\u001b[39m\u001b[38;5;124mmongodb://localhost:27017/\u001b[39m\u001b[38;5;124m'\u001b[39m)\n",
      "\u001b[0;31mModuleNotFoundError\u001b[0m: No module named 'pymongo'"
     ]
    }
   ],
   "source": [
    "#Example\n",
    "from pymongo import MongoClient\n",
    "\n",
    "# Connect to MongoDB server\n",
    "client = MongoClient('mongodb://localhost:27017/')\n",
    "\n",
    "# Access the database and collection\n",
    "db = client['mydatabase']\n",
    "collection = db['mycollection']\n",
    "\n",
    "# Insert some example records (for demonstration purposes)\n",
    "collection.insert_many([\n",
    "    {\"name\": \"Ajay\", \"age\": 24, \"city\": \"Patna\"},\n",
    "    {\"name\": \"Saurav\", \"age\": 23, \"city\": \"Noida\"},\n",
    "    {\"name\": \"Sajan\", \"age\": 25, \"city\": \"New Delhi\"},\n",
    "    {\"name\": \"Ankit\", \"age\": 26, \"city\": \"Indore\"}\n",
    "])\n",
    "\n",
    "# Query: Find all documents where age is greater than 30\n",
    "query = {\"age\": {\"$gt\": 30}}\n",
    "results = collection.find(query)\n",
    "\n",
    "# Print the results\n",
    "print(\"Documents where age is greater than 30:\")\n",
    "for document in results:\n",
    "    print(document)\n",
    "\n",
    "# Query: Find documents and project only 'name' and 'city' fields\n",
    "projection = {\"_id\": 0, \"name\": 1, \"city\": 1}\n",
    "results = collection.find(query, projection)\n",
    "\n",
    "# Print the results with projection\n",
    "print(\"\\nDocuments where age is greater than 30 with projected fields:\")\n",
    "for document in results:\n",
    "    print(document)\n"
   ]
  },
  {
   "cell_type": "markdown",
   "id": "2e1be1e0-fa07-465b-908e-33f0d94ddc09",
   "metadata": {},
   "source": [
    "Q6. Explain the sort() method. Give an example to demonstrate sorting in MongoDB."
   ]
  },
  {
   "cell_type": "markdown",
   "id": "e0f746e6-61a6-458e-9ede-80c1b8cd50fc",
   "metadata": {},
   "source": [
    "sort() Method in MongoDB\n",
    "In MongoDB, the sort() method is used to arrange the documents in a collection in a specific order. This method can be applied to any field in the document and can sort the results either in ascending order (smallest to largest) or descending order (largest to smallest)."
   ]
  },
  {
   "cell_type": "code",
   "execution_count": null,
   "id": "62daada8-bf8c-42a7-bcfd-840ea5039716",
   "metadata": {},
   "outputs": [],
   "source": [
    "#Syntax\n",
    "db.collection.find().sort({field_name: direction})\n",
    "#Example in Python using PyMongo:\n",
    "from pymongo import MongoClient\n",
    "\n",
    "# Connect to the MongoDB server\n",
    "client = MongoClient(\"mongodb://localhost:27017/\")\n",
    "\n",
    "# Select the database\n",
    "db = client[\"school\"]\n",
    "\n",
    "# Select the collection\n",
    "collection = db[\"students\"]\n",
    "\n",
    "# Sort the documents by 'score' in descending order\n",
    "sorted_students = collection.find().sort(\"score\", -1)\n",
    "\n",
    "# Print the sorted documents\n",
    "for student in sorted_students:\n",
    "    print(student)\n"
   ]
  },
  {
   "cell_type": "markdown",
   "id": "4559fa38-b870-4237-9a32-7cddea4d93b4",
   "metadata": {},
   "source": [
    "Q7. Explain why delete_one(), delete_many(), and drop() is used."
   ]
  },
  {
   "cell_type": "markdown",
   "id": "4b90a5e6-780d-4110-b621-fa232e6d5269",
   "metadata": {},
   "source": [
    "In MongoDB, the methods delete_one(), delete_many(), and drop() are used to remove documents or entire collections from a database. Each method serves a specific purpose:"
   ]
  },
  {
   "cell_type": "markdown",
   "id": "76b704b0-b852-45c9-8bb1-29f31fa09540",
   "metadata": {},
   "source": [
    "1. delete_one()\n",
    "Purpose: Removes a single document that matches a specified filter.\n",
    "Usage: This method is used when you want to delete only the first document that matches the query criteria.\n"
   ]
  },
  {
   "cell_type": "code",
   "execution_count": null,
   "id": "31c241d5-2b16-46df-baba-0482bdc62313",
   "metadata": {},
   "outputs": [],
   "source": [
    "from pymongo import MongoClient\n",
    "\n",
    "# Connect to the MongoDB server\n",
    "client = MongoClient(\"mongodb://localhost:27017/\")\n",
    "\n",
    "# Select the database\n",
    "db = client[\"mydatabase\"]\n",
    "\n",
    "# Select the collection\n",
    "collection = db[\"mycollection\"]\n",
    "\n",
    "# Delete one document where the 'name' field is 'Ajay'\n",
    "result = collection.delete_one({\"name\": \"Ajay\"})\n",
    "\n",
    "# Output the number of documents deleted\n",
    "print(result.deleted_count)\n"
   ]
  },
  {
   "cell_type": "markdown",
   "id": "253eaa6e-44be-4523-9f0d-d84357718d79",
   "metadata": {},
   "source": [
    "2. delete_many()\n",
    "Purpose: Removes all documents that match a specified filter.\n",
    "Usage: This method is used when you want to delete multiple documents based on the query criteria."
   ]
  },
  {
   "cell_type": "code",
   "execution_count": null,
   "id": "5a83f3ba-6e23-4587-94de-56da57fd28f7",
   "metadata": {},
   "outputs": [],
   "source": [
    "from pymongo import MongoClient\n",
    "\n",
    "# Connect to the MongoDB server\n",
    "client = MongoClient(\"mongodb://localhost:27017/\")\n",
    "\n",
    "# Select the database\n",
    "db = client[\"mydatabase\"]\n",
    "\n",
    "# Select the collection\n",
    "collection = db[\"mycollection\"]\n",
    "\n",
    "# Delete all documents where the 'status' field is 'inactive'\n",
    "result = collection.delete_many({\"status\": \"inactive\"})\n",
    "\n",
    "# Output the number of documents deleted\n",
    "print(result.deleted_count)\n"
   ]
  },
  {
   "cell_type": "markdown",
   "id": "eab1e4a5-284f-4c30-afe5-9526fa5e27da",
   "metadata": {},
   "source": [
    "3. drop()\n",
    "Purpose: Removes an entire collection from the database.\n",
    "Usage: This method is used when you want to completely delete a collection and all its documents."
   ]
  },
  {
   "cell_type": "code",
   "execution_count": null,
   "id": "fc595c1b-e4b6-4351-b85c-6b0389fab57d",
   "metadata": {},
   "outputs": [],
   "source": [
    "from pymongo import MongoClient\n",
    "\n",
    "# Connect to the MongoDB server\n",
    "client = MongoClient(\"mongodb://localhost:27017/\")\n",
    "\n",
    "# Select the database\n",
    "db = client[\"mydatabase\"]\n",
    "\n",
    "# Select the collection\n",
    "collection = db[\"mycollection\"]\n",
    "\n",
    "# Drop the entire collection\n",
    "collection.drop()\n"
   ]
  }
 ],
 "metadata": {
  "kernelspec": {
   "display_name": "Python 3 (ipykernel)",
   "language": "python",
   "name": "python3"
  },
  "language_info": {
   "codemirror_mode": {
    "name": "ipython",
    "version": 3
   },
   "file_extension": ".py",
   "mimetype": "text/x-python",
   "name": "python",
   "nbconvert_exporter": "python",
   "pygments_lexer": "ipython3",
   "version": "3.10.8"
  }
 },
 "nbformat": 4,
 "nbformat_minor": 5
}
