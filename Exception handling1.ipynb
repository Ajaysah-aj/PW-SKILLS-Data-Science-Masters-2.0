{
 "cells": [
  {
   "cell_type": "markdown",
   "id": "44728333-8414-4746-8da2-981cc743a688",
   "metadata": {},
   "source": [
    "Q1. What is an Exception in Python? Write the difference between Exception and Syntax errors.\n"
   ]
  },
  {
   "cell_type": "markdown",
   "id": "d1be463c-b7ee-41d7-98ae-9da060466c2b",
   "metadata": {},
   "source": [
    "An exception in Python is a runtime error that occurs during the execution of a program. When an exception is raised, it disrupts the normal flow of the program and transfers control to the nearest exception handler, if one exists.\n",
    "The differences between exceptions and syntax errors:\n",
    "Exception:\n",
    "Definition: Exceptions are errors that occur during the execution of a program, such as dividing by zero or accessing a file that does not exist.\n",
    "Handling: Exceptions can be caught and handled using try and except blocks. This allows the program to continue running or to gracefully terminate.\n",
    "Examples: ZeroDivisionError, FileNotFoundError, IndexError.\n",
    "\n",
    "Syntax Error:\n",
    "Definition: Syntax errors occur when the code does not conform to the correct syntax rules of the Python language. These errors are detected by the Python interpreter before the program is executed.\n",
    "Handling: Syntax errors must be corrected in the code itself. They prevent the program from running until the syntax issues are resolved.\n",
    "Examples: Missing colons, mismatched parentheses, incorrect indentation."
   ]
  },
  {
   "cell_type": "markdown",
   "id": "fc6c168c-ee43-449e-b81f-662d369eab6c",
   "metadata": {},
   "source": [
    "Q2.What happened when exception is not handled? Explain with an example.\n"
   ]
  },
  {
   "cell_type": "markdown",
   "id": "f87c6eef-c57c-4cf9-9d4a-880f07688d82",
   "metadata": {},
   "source": [
    "When an exception is not handled, it propagates up the call stack until it reaches the top level of the program. If it remains unhandled by the time it reaches the top level, the program will terminate and display a traceback, which provides details about the exception and where it occurred."
   ]
  },
  {
   "cell_type": "code",
   "execution_count": 1,
   "id": "abfd2477-5d2e-44e0-b9e7-811bdce82380",
   "metadata": {},
   "outputs": [
    {
     "ename": "ZeroDivisionError",
     "evalue": "division by zero",
     "output_type": "error",
     "traceback": [
      "\u001b[0;31m---------------------------------------------------------------------------\u001b[0m",
      "\u001b[0;31mZeroDivisionError\u001b[0m                         Traceback (most recent call last)",
      "Cell \u001b[0;32mIn[1], line 8\u001b[0m\n\u001b[1;32m      5\u001b[0m     result \u001b[38;5;241m=\u001b[39m divide_numbers(\u001b[38;5;241m10\u001b[39m, \u001b[38;5;241m0\u001b[39m)\n\u001b[1;32m      6\u001b[0m     \u001b[38;5;28mprint\u001b[39m(\u001b[38;5;124mf\u001b[39m\u001b[38;5;124m\"\u001b[39m\u001b[38;5;124mResult is \u001b[39m\u001b[38;5;132;01m{\u001b[39;00mresult\u001b[38;5;132;01m}\u001b[39;00m\u001b[38;5;124m\"\u001b[39m)\n\u001b[0;32m----> 8\u001b[0m \u001b[43mmain\u001b[49m\u001b[43m(\u001b[49m\u001b[43m)\u001b[49m\n",
      "Cell \u001b[0;32mIn[1], line 5\u001b[0m, in \u001b[0;36mmain\u001b[0;34m()\u001b[0m\n\u001b[1;32m      4\u001b[0m \u001b[38;5;28;01mdef\u001b[39;00m \u001b[38;5;21mmain\u001b[39m():\n\u001b[0;32m----> 5\u001b[0m     result \u001b[38;5;241m=\u001b[39m \u001b[43mdivide_numbers\u001b[49m\u001b[43m(\u001b[49m\u001b[38;5;241;43m10\u001b[39;49m\u001b[43m,\u001b[49m\u001b[43m \u001b[49m\u001b[38;5;241;43m0\u001b[39;49m\u001b[43m)\u001b[49m\n\u001b[1;32m      6\u001b[0m     \u001b[38;5;28mprint\u001b[39m(\u001b[38;5;124mf\u001b[39m\u001b[38;5;124m\"\u001b[39m\u001b[38;5;124mResult is \u001b[39m\u001b[38;5;132;01m{\u001b[39;00mresult\u001b[38;5;132;01m}\u001b[39;00m\u001b[38;5;124m\"\u001b[39m)\n",
      "Cell \u001b[0;32mIn[1], line 2\u001b[0m, in \u001b[0;36mdivide_numbers\u001b[0;34m(a, b)\u001b[0m\n\u001b[1;32m      1\u001b[0m \u001b[38;5;28;01mdef\u001b[39;00m \u001b[38;5;21mdivide_numbers\u001b[39m(a, b):\n\u001b[0;32m----> 2\u001b[0m     \u001b[38;5;28;01mreturn\u001b[39;00m \u001b[43ma\u001b[49m\u001b[43m \u001b[49m\u001b[38;5;241;43m/\u001b[39;49m\u001b[43m \u001b[49m\u001b[43mb\u001b[49m\n",
      "\u001b[0;31mZeroDivisionError\u001b[0m: division by zero"
     ]
    }
   ],
   "source": [
    "def divide_numbers(a, b):\n",
    "    return a / b\n",
    "\n",
    "def main():\n",
    "    result = divide_numbers(10, 0)\n",
    "    print(f\"Result is {result}\")\n",
    "\n",
    "main()\n"
   ]
  },
  {
   "cell_type": "code",
   "execution_count": 2,
   "id": "37e73891-430d-46a3-a4f5-87162683b849",
   "metadata": {},
   "outputs": [
    {
     "name": "stdout",
     "output_type": "stream",
     "text": [
      "Error: Cannot divide by zero!\n"
     ]
    }
   ],
   "source": [
    "def divide_numbers(a, b):\n",
    "    return a / b\n",
    "\n",
    "def main():\n",
    "    try:\n",
    "        result = divide_numbers(10, 0)\n",
    "        print(f\"Result is {result}\")\n",
    "    except ZeroDivisionError:\n",
    "        print(\"Error: Cannot divide by zero!\")\n",
    "\n",
    "main()\n"
   ]
  },
  {
   "cell_type": "markdown",
   "id": "871f9c28-9ecd-4820-8e46-2bfee32877a8",
   "metadata": {},
   "source": [
    "Which python statements are used to catch and handle exceptions? Explain with an example."
   ]
  },
  {
   "cell_type": "markdown",
   "id": "6165f6b2-0f76-4f31-9ca9-7bfd00b20575",
   "metadata": {},
   "source": [
    "In Python, exceptions are caught and handled using try, except, else, and finally statements. Here's a brief overview of each:\n",
    "\n",
    "try: This block contains code that might raise an exception. If an exception occurs, Python looks for an appropriate except block to handle it.\n",
    "\n",
    "except: This block catches and handles exceptions raised in the try block. You can specify particular exceptions to catch or use a general except to catch all exceptions.\n",
    "\n",
    "else: This block runs if no exceptions are raised in the try block. It is optional and is useful for code that should execute only if the try block is successful.\n",
    "\n",
    "finally: This block runs regardless of whether an exception was raised or not. It is useful for cleanup actions, such as closing files or releasing resources. This block is also optional."
   ]
  },
  {
   "cell_type": "code",
   "execution_count": 3,
   "id": "8f886da7-c8fb-4e1f-9a35-e71dbaf14e5a",
   "metadata": {},
   "outputs": [
    {
     "name": "stdout",
     "output_type": "stream",
     "text": [
      "Result is 5.0\n",
      "Execution finished.\n"
     ]
    }
   ],
   "source": [
    "def divide_numbers(a, b):\n",
    "    return a / b\n",
    "\n",
    "def main():\n",
    "    try:\n",
    "        result = divide_numbers(10, 2)\n",
    "    except ZeroDivisionError:\n",
    "        print(\"Error: Cannot divide by zero!\")\n",
    "    except TypeError:\n",
    "        print(\"Error: Invalid input type!\")\n",
    "    else:\n",
    "        print(f\"Result is {result}\")\n",
    "    finally:\n",
    "        print(\"Execution finished.\")\n",
    "\n",
    "main()\n"
   ]
  },
  {
   "cell_type": "code",
   "execution_count": 4,
   "id": "bb2fe88d-01c3-4623-b54e-d667087f287c",
   "metadata": {},
   "outputs": [
    {
     "name": "stdout",
     "output_type": "stream",
     "text": [
      "Error: Cannot divide by zero!\n",
      "Execution finished.\n"
     ]
    }
   ],
   "source": [
    "def divide_numbers(a, b):\n",
    "    return a / b\n",
    "\n",
    "def main():\n",
    "    try:\n",
    "        result = divide_numbers(10, 0)\n",
    "    except ZeroDivisionError:\n",
    "        print(\"Error: Cannot divide by zero!\")\n",
    "    except TypeError:\n",
    "        print(\"Error: Invalid input type!\")\n",
    "    else:\n",
    "        print(f\"Result is {result}\")\n",
    "    finally:\n",
    "        print(\"Execution finished.\")\n",
    "\n",
    "main()\n"
   ]
  },
  {
   "cell_type": "markdown",
   "id": "c6886d69-0c87-454b-a17e-8270d9be9b45",
   "metadata": {},
   "source": [
    "Q4. Explain with an example:\n",
    "a. try and else\n",
    "b. finally\n",
    "c. raise"
   ]
  },
  {
   "cell_type": "markdown",
   "id": "bfc80f64-d3da-4f09-9b24-1deb374181b1",
   "metadata": {},
   "source": [
    "a. try and else\n",
    "The else block runs if no exceptions are raised in the try block. It is useful for code that should execute only if the try block is successful."
   ]
  },
  {
   "cell_type": "code",
   "execution_count": 5,
   "id": "cb968025-472d-4c7e-a492-52cb4a4ea878",
   "metadata": {},
   "outputs": [
    {
     "name": "stdout",
     "output_type": "stream",
     "text": [
      "Result is 5.0\n"
     ]
    }
   ],
   "source": [
    "def divide_numbers(a, b):\n",
    "    return a / b\n",
    "\n",
    "def main():\n",
    "    try:\n",
    "        result = divide_numbers(10, 2)\n",
    "    except ZeroDivisionError:\n",
    "        print(\"Error: Cannot divide by zero!\")\n",
    "    else:\n",
    "        print(f\"Result is {result}\")\n",
    "\n",
    "main()\n"
   ]
  },
  {
   "cell_type": "markdown",
   "id": "208fe9a2-4e79-4d8e-b20b-ac9bd485fa65",
   "metadata": {},
   "source": [
    "b. finally\n",
    "The finally block runs no matter what, whether an exception is raised or not. It is typically used for cleanup actions, like closing files or releasing resources."
   ]
  },
  {
   "cell_type": "code",
   "execution_count": 6,
   "id": "169bf6d6-06a7-4e23-b41c-306b2c31a04e",
   "metadata": {},
   "outputs": [
    {
     "name": "stdout",
     "output_type": "stream",
     "text": [
      "Result is 5.0\n"
     ]
    }
   ],
   "source": [
    "def open_file(file_name):\n",
    "    file = open(file_name, 'r')\n",
    "    try:\n",
    "        content = file.read()\n",
    "        print(content)\n",
    "    except FileNotFoundError:\n",
    "        print(\"File not found.\")\n",
    "    finally:\n",
    "        file.close()\n",
    "        print(\"File closed.\")\n",
    "\n",
    "main()\n"
   ]
  },
  {
   "cell_type": "markdown",
   "id": "2479a4c5-e955-4600-91b2-17fd0b5fb308",
   "metadata": {},
   "source": [
    "c. raise\n",
    "The raise statement is used to explicitly throw an exception. This can be useful for creating custom error conditions or re-raising caught exceptions."
   ]
  },
  {
   "cell_type": "code",
   "execution_count": 7,
   "id": "2a598f78-2178-42be-afb6-9486069cb644",
   "metadata": {},
   "outputs": [
    {
     "name": "stdout",
     "output_type": "stream",
     "text": [
      "Error: The number must be positive!\n"
     ]
    }
   ],
   "source": [
    "def check_positive(number):\n",
    "    if number <= 0:\n",
    "        raise ValueError(\"The number must be positive!\")\n",
    "    return number\n",
    "\n",
    "def main():\n",
    "    try:\n",
    "        num = check_positive(-5)\n",
    "        print(f\"Number is {num}\")\n",
    "    except ValueError as e:\n",
    "        print(f\"Error: {e}\")\n",
    "\n",
    "main()\n"
   ]
  },
  {
   "cell_type": "markdown",
   "id": "fcb111d0-3a39-4078-89eb-d96167932a77",
   "metadata": {},
   "source": [
    "Q5. What are Custom exceptions in Python? Why do we need Custom Exceptions? Explain with an example."
   ]
  },
  {
   "cell_type": "markdown",
   "id": "964ba137-f749-479a-8bfd-44280b3a9a6d",
   "metadata": {},
   "source": [
    "Custom exceptions in Python are user-defined exception classes that extend the base Exception class or one of its subclasses. They allow you to create more specific and meaningful error types that can provide additional context or functionality compared to built-in exceptions.\n",
    "\n",
    "Why We Need Custom Exceptions\n",
    "Clarity and Specificity: Custom exceptions provide a way to specify particular error conditions in your application. This makes error handling more precise and understandable.\n",
    "\n",
    "Improved Debugging: By using custom exceptions, you can create more descriptive error messages and manage specific error cases effectively, making debugging easier.\n",
    "\n",
    "Better Control: Custom exceptions allow you to define additional methods or properties that can be useful for handling errors in a specific way."
   ]
  },
  {
   "cell_type": "code",
   "execution_count": 8,
   "id": "5f84a7bf-ecc7-4175-a0e9-024ae75ca268",
   "metadata": {},
   "outputs": [
    {
     "name": "stdout",
     "output_type": "stream",
     "text": [
      "Error: Attempted to withdraw 150, but only 100 is available.\n"
     ]
    }
   ],
   "source": [
    "class InsufficientFundsError(Exception):\n",
    "    def __init__(self, message=\"Insufficient funds in the account\"):\n",
    "        self.message = message\n",
    "        super().__init__(self.message)\n",
    "\n",
    "class BankAccount:\n",
    "    def __init__(self, balance):\n",
    "        self.balance = balance\n",
    "\n",
    "    def withdraw(self, amount):\n",
    "        if amount > self.balance:\n",
    "            raise InsufficientFundsError(f\"Attempted to withdraw {amount}, but only {self.balance} is available.\")\n",
    "        self.balance -= amount\n",
    "        return self.balance\n",
    "\n",
    "def main():\n",
    "    account = BankAccount(100)\n",
    "    try:\n",
    "        account.withdraw(150)\n",
    "    except InsufficientFundsError as e:\n",
    "        print(f\"Error: {e}\")\n",
    "\n",
    "main()\n"
   ]
  },
  {
   "cell_type": "markdown",
   "id": "2953b705-6d7c-4403-a0ab-bae04c74f4e2",
   "metadata": {},
   "source": [
    "Q6. Create a custom Exception class.Use this class to handle an exception."
   ]
  },
  {
   "cell_type": "markdown",
   "id": "4fb2f149-3ed8-4178-a1e8-e8a90274c208",
   "metadata": {},
   "source": [
    "Custom Exception Class\n",
    "Let's create a custom exception called InvalidAgeError that we can use to handle invalid age values."
   ]
  },
  {
   "cell_type": "code",
   "execution_count": 9,
   "id": "42f80846-ac9c-4906-9b0b-18ed08665398",
   "metadata": {},
   "outputs": [],
   "source": [
    "#Custom Exception Class:\n",
    "class InvalidAgeError(Exception):\n",
    "    def __init__(self, age, message=\"Age must be between 0 and 120\"):\n",
    "        self.age = age\n",
    "        self.message = message\n",
    "        super().__init__(self.message)\n",
    "\n",
    "    def __str__(self):\n",
    "        return f'{self.age}: {self.message}'\n"
   ]
  },
  {
   "cell_type": "code",
   "execution_count": 10,
   "id": "d124f463-4564-4d0f-a441-068a556115cf",
   "metadata": {},
   "outputs": [
    {
     "name": "stdout",
     "output_type": "stream",
     "text": [
      "Age 25 is valid.\n",
      "Error: -1: Age must be between 0 and 120\n",
      "Error: 130: Age must be between 0 and 120\n",
      "Age 45 is valid.\n"
     ]
    }
   ],
   "source": [
    "#Using the Custom Exception\n",
    "#We’ll create a function that validates an age and raises our custom exception if the age is not within a valid range (0 to 120).\n",
    "class InvalidAgeError(Exception):\n",
    "    def __init__(self, age, message=\"Age must be between 0 and 120\"):\n",
    "        self.age = age\n",
    "        self.message = message\n",
    "        super().__init__(self.message)\n",
    "\n",
    "    def __str__(self):\n",
    "        return f'{self.age}: {self.message}'\n",
    "\n",
    "def validate_age(age):\n",
    "    if age < 0 or age > 120:\n",
    "        raise InvalidAgeError(age)\n",
    "    return f\"Age {age} is valid.\"\n",
    "\n",
    "def main():\n",
    "    ages = [25, -1, 130, 45]\n",
    "    for age in ages:\n",
    "        try:\n",
    "            print(validate_age(age))\n",
    "        except InvalidAgeError as e:\n",
    "            print(f\"Error: {e}\")\n",
    "\n",
    "main()\n"
   ]
  },
  {
   "cell_type": "code",
   "execution_count": null,
   "id": "30c9c5e9-bb0c-4742-92f1-1d9dc8fa54a2",
   "metadata": {},
   "outputs": [],
   "source": []
  }
 ],
 "metadata": {
  "kernelspec": {
   "display_name": "Python 3 (ipykernel)",
   "language": "python",
   "name": "python3"
  },
  "language_info": {
   "codemirror_mode": {
    "name": "ipython",
    "version": 3
   },
   "file_extension": ".py",
   "mimetype": "text/x-python",
   "name": "python",
   "nbconvert_exporter": "python",
   "pygments_lexer": "ipython3",
   "version": "3.10.8"
  }
 },
 "nbformat": 4,
 "nbformat_minor": 5
}
