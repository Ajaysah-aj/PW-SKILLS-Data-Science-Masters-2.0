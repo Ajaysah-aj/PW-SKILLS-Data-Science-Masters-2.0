{
 "cells": [
  {
   "cell_type": "markdown",
   "id": "52f4cbe1-f7b0-4f36-9d63-de8427a1864d",
   "metadata": {},
   "source": [
    "Q1. What is a database? Differentiate between SQL and NoSQL databases."
   ]
  },
  {
   "cell_type": "markdown",
   "id": "0e7ece3c-ec3b-4885-81ff-0b03d1bced24",
   "metadata": {},
   "source": [
    "A database is a structured collection of data that is stored and managed in a way that allows for efficient retrieval, manipulation, and management. Databases are essential for organizing large amounts of information and supporting various applications, from small personal projects to large enterprise systems.\n",
    "\n",
    "Types of Databases\n",
    "Databases can be broadly classified into two main types: SQL (Structured Query Language) and NoSQL (Not Only SQL).\n",
    "\n",
    "    Differentiation between SQL and NoSQL databases:\n",
    "\n",
    "1. Data Model\n",
    "SQL Databases:\n",
    "\n",
    "Relational: Data is organized into tables with rows and columns. Each table represents a different entity, and relationships between entities are defined using foreign keys.\n",
    "Schema-based: The structure of the data (tables, columns, data types) is predefined and fixed. Any changes to the schema require altering the database.\n",
    "NoSQL Databases:\n",
    "\n",
    "Non-relational: Data can be organized in various formats, such as key-value pairs, documents, columns, or graphs, depending on the type of NoSQL database.\n",
    "Schema-less: There is no fixed schema. Data can be stored in a flexible format and the structure can be modified without affecting the overall system.\n",
    "2. Query Language\n",
    "SQL Databases:\n",
    "\n",
    "Structured Query Language (SQL): A standardized language used to perform operations like querying, updating, inserting, and deleting data. SQL supports complex queries, joins, and transactions.\n",
    "NoSQL Databases:\n",
    "\n",
    "Varies: Query mechanisms differ by database type and implementation. They might use their own query languages (e.g., MongoDB Query Language) or APIs for data manipulation. Some NoSQL databases support SQL-like queries or use a combination of APIs and query languages.\n",
    "3. Schema Flexibility\n",
    "SQL Databases:\n",
    "\n",
    "Fixed Schema: Changes to the database schema require migration scripts and can be complex. The schema defines how data is structured and validated.\n",
    "NoSQL Databases:\n",
    "\n",
    "Flexible Schema: Data can be stored without a predefined schema. The schema can evolve as needed, allowing for more agile development and easier handling of unstructured or semi-structured data.\n",
    "4. Transactions and Consistency\n",
    "SQL Databases:\n",
    "\n",
    "ACID Compliance: SQL databases ensure transactions are atomic, consistent, isolated, and durable, providing strong data consistency and reliability.\n",
    "NoSQL Databases:\n",
    "\n",
    "Eventual Consistency: Many NoSQL databases prioritize availability and partition tolerance (as per the CAP theorem) over immediate consistency. They often provide eventual consistency, where data may not be immediately consistent across all nodes but will converge over time.\n",
    "5. Scalability\n",
    "SQL Databases:\n",
    "\n",
    "Vertical Scaling: Typically scaled by increasing the resources (CPU, RAM, storage) of a single server. This can be limiting and costly for very large databases or high-traffic applications.\n",
    "NoSQL Databases:\n",
    "\n",
    "Horizontal Scaling: Designed for distributing data across multiple servers or nodes. This makes it easier to handle large volumes of data and high traffic by adding more nodes to the cluster.\n",
    "6. Data Integrity and Relationships\n",
    "SQL Databases:\n",
    "\n",
    "Strong Data Integrity: Supports foreign keys and constraints to enforce relationships and data integrity. This helps maintain consistent and accurate data across tables.\n",
    "NoSQL Databases:\n",
    "\n",
    "Flexible Integrity: Data integrity constraints are typically more relaxed. Relationships between data entities are handled differently depending on the NoSQL type (e.g., embedded documents in document stores, or graph relationships in graph databases).\n",
    "7. Use Cases\n",
    "SQL Databases:\n",
    "\n",
    "Structured Data: Best suited for applications with complex queries and transactions, such as financial systems, customer relationship management (CRM) systems, and enterprise resource planning (ERP) systems.\n",
    "NoSQL Databases:\n",
    "\n",
    "Unstructured or Semi-structured Data: Ideal for applications requiring high scalability, flexibility, and the ability to handle large volumes of varied data, such as social networks, content management systems, real-time analytics, and IoT data."
   ]
  },
  {
   "cell_type": "markdown",
   "id": "1c77be81-7666-4cfa-9264-88b544ec9f1e",
   "metadata": {},
   "source": [
    "Q2. What is DDL? Explain why CREATE, DROP, ALTER, and TRUNCATE are used with an example."
   ]
  },
  {
   "cell_type": "markdown",
   "id": "27cc35c1-4651-4571-8e4a-0bfc1d2f0c51",
   "metadata": {},
   "source": [
    "DDL stands for Data Definition Language. It is a subset of SQL (Structured Query Language) used to define and manage the structure of database objects, such as tables, indexes, and schemas. DDL commands are used to create, modify, and delete database structures. Unlike DML (Data Manipulation Language) commands, which deal with the data within the structures, DDL commands handle the schema and structure."
   ]
  },
  {
   "cell_type": "markdown",
   "id": "00c5eba3-8b70-4823-9548-d905bc6ed489",
   "metadata": {},
   "source": [
    "Common DDL Commands:"
   ]
  },
  {
   "cell_type": "markdown",
   "id": "7d2cd505-bf1f-43ec-9501-77d5dca4bcc9",
   "metadata": {},
   "source": [
    "1. CREATE\n",
    "\n",
    "Purpose: To create new database objects such as tables, indexes, or schemas.\n",
    "\n",
    "Example: Creating a new table called Employees."
   ]
  },
  {
   "cell_type": "code",
   "execution_count": null,
   "id": "d2ad4a08-d3c3-470e-a312-f982944471d6",
   "metadata": {},
   "outputs": [],
   "source": [
    "CREATE TABLE Employees (\n",
    "    EmployeeID INT PRIMARY KEY,\n",
    "    FirstName VARCHAR(50),\n",
    "    LastName VARCHAR(50),\n",
    "    HireDate DATE\n",
    ");\n"
   ]
  },
  {
   "cell_type": "markdown",
   "id": "4bd2073d-1934-4b51-888e-7f491ada784c",
   "metadata": {},
   "source": [
    "2. DROP\n",
    "\n",
    "Purpose: To delete existing database objects like tables, indexes, or schemas. The DROP command removes the object and all of its data permanently.\n",
    "\n",
    "Example: Dropping the Employees table."
   ]
  },
  {
   "cell_type": "code",
   "execution_count": null,
   "id": "e9ae3f2e-dab2-4949-b0b1-8609f6d12537",
   "metadata": {},
   "outputs": [],
   "source": [
    "DROP TABLE Employees;\n"
   ]
  },
  {
   "cell_type": "markdown",
   "id": "dcc52a7a-a4ba-43b8-b984-d714f42359d7",
   "metadata": {},
   "source": [
    "3. ALTER\n",
    "\n",
    "Purpose: To modify the structure of an existing database object. This can include adding or deleting columns, changing column data types, or renaming objects.\n",
    "\n",
    "Example: Adding a new column to the Employees table."
   ]
  },
  {
   "cell_type": "code",
   "execution_count": null,
   "id": "965e2ac8-b20c-4f26-94f3-022d40be3957",
   "metadata": {},
   "outputs": [],
   "source": [
    "ALTER TABLE Employees\n",
    "ADD Email VARCHAR(100);\n"
   ]
  },
  {
   "cell_type": "markdown",
   "id": "9714e7ef-e480-44aa-adcd-cbd04e78e4ea",
   "metadata": {},
   "source": [
    "4. TRUNCATE\n",
    "\n",
    "Purpose: To remove all rows from a table without deleting the table itself. It is a fast way to clear data but does not allow for fine-grained row removal or rollback.\n",
    "\n",
    "Example: Truncating the Employees table."
   ]
  },
  {
   "cell_type": "code",
   "execution_count": null,
   "id": "eee761cf-ae17-4818-bf37-7c52676743a4",
   "metadata": {},
   "outputs": [],
   "source": [
    "TRUNCATE TABLE Employees;\n"
   ]
  },
  {
   "cell_type": "markdown",
   "id": "e700b516-03ff-4cd0-9e64-22edafdff44d",
   "metadata": {},
   "source": [
    "Q3. What is DML? Explain INSERT, UPDATE, and DELETE with an example."
   ]
  },
  {
   "cell_type": "markdown",
   "id": "dcb8e187-6920-4ec1-9c39-c899e38d2934",
   "metadata": {},
   "source": [
    "DML stands for Data Manipulation Language. It is a subset of SQL (Structured Query Language) used for managing and manipulating data within existing database structures. DML commands are used to insert, update, and delete data in tables, allowing you to work with the actual data stored in a database."
   ]
  },
  {
   "cell_type": "markdown",
   "id": "19c5915f-4512-4ec4-9331-259c4c8d2142",
   "metadata": {},
   "source": [
    "Common DML Commands"
   ]
  },
  {
   "cell_type": "markdown",
   "id": "6e390d0e-7259-49e9-9be6-46ef63df1ef9",
   "metadata": {},
   "source": [
    "1. INSERT\n",
    "\n",
    "Purpose: To add new rows of data into a table.\n",
    "\n",
    "Example: Inserting a new record into the Employees table."
   ]
  },
  {
   "cell_type": "code",
   "execution_count": null,
   "id": "fb5f1e95-9f61-40de-8e90-e0d7b94bd9ba",
   "metadata": {},
   "outputs": [],
   "source": [
    "INSERT INTO Employees (EmployeeID, FirstName, LastName, HireDate)\n",
    "VALUES (1, 'Ram', 'Shyam', '2024-08-01');\n"
   ]
  },
  {
   "cell_type": "markdown",
   "id": "dece0331-3a7b-4668-b28b-ea250a526bb8",
   "metadata": {},
   "source": [
    "2. UPDATE\n",
    "\n",
    "Purpose: To modify existing data in a table.\n",
    "\n",
    "Example: Updating the HireDate of an employee with a specific EmployeeID."
   ]
  },
  {
   "cell_type": "code",
   "execution_count": null,
   "id": "68350fcc-b2dc-4617-9d9c-a7b0e7a08af2",
   "metadata": {},
   "outputs": [],
   "source": [
    "UPDATE Employees\n",
    "SET HireDate = '2024-09-01'\n",
    "WHERE EmployeeID = 1;\n"
   ]
  },
  {
   "cell_type": "markdown",
   "id": "51d0954e-6dec-4b09-99a7-2dbf42e51889",
   "metadata": {},
   "source": [
    "3. DELETE\n",
    "\n",
    "Purpose: To remove rows from a table.\n",
    "\n",
    "Example: Deleting a specific employee from the Employees table."
   ]
  },
  {
   "cell_type": "code",
   "execution_count": null,
   "id": "42e17f58-3a25-4aae-b56c-5d12bee1712f",
   "metadata": {},
   "outputs": [],
   "source": [
    "DELETE FROM Employees\n",
    "WHERE EmployeeID = 1;\n"
   ]
  },
  {
   "cell_type": "markdown",
   "id": "ff1fa580-8905-420e-b76c-15c1781e5c25",
   "metadata": {},
   "source": [
    "Q4. What is DQL? Explain SELECT with an example."
   ]
  },
  {
   "cell_type": "markdown",
   "id": "d706a29b-a128-4cb1-8399-d4f0db11b394",
   "metadata": {},
   "source": [
    "DQL stands for Data Query Language. It is a subset of SQL (Structured Query Language) used to query and retrieve data from a database. The primary DQL command is SELECT, which is used to fetch data from one or more tables and view it according to specified criteria."
   ]
  },
  {
   "cell_type": "markdown",
   "id": "2cc94f78-7be2-4bc1-9410-dba29866858b",
   "metadata": {},
   "source": [
    "SELECT Statement\n",
    "Purpose: The SELECT statement is used to retrieve data from a database. You can specify which columns to retrieve, apply filters to the data, sort the results, and join data from multiple tables."
   ]
  },
  {
   "cell_type": "code",
   "execution_count": null,
   "id": "60ba5fa6-3e95-4ef5-9ae6-44fb20070a39",
   "metadata": {},
   "outputs": [],
   "source": [
    "SELECT column1, column2, ...\n",
    "FROM table_name\n",
    "WHERE condition\n",
    "ORDER BY column\n",
    "GROUP BY column\n",
    "HAVING condition;\n",
    "\n",
    "#Basic SELECT Statement\n",
    "SELECT * \n",
    "FROM Employees;\n",
    "#Selecting Specific Columns\n",
    "SELECT FirstName, LastName \n",
    "FROM Employees;\n",
    "#Filtering Rows\n",
    "SELECT * \n",
    "FROM Employees\n",
    "WHERE HireDate > '2024-08-01';\n",
    "#Sorting Results\n",
    "SELECT * \n",
    "FROM Employees\n",
    "ORDER BY LastName ASC;\n",
    "#Grouping and Aggregation\n",
    "SELECT MONTH(HireDate) AS Month, COUNT(*) AS NumberOfEmployees\n",
    "FROM Employees\n",
    "GROUP BY MONTH(HireDate);\n",
    "#Filtering Groups\n",
    "SELECT MONTH(HireDate) AS Month, COUNT(*) AS NumberOfEmployees\n",
    "FROM Employees\n",
    "GROUP BY MONTH(HireDate)\n",
    "HAVING COUNT(*) > 2;\n"
   ]
  },
  {
   "cell_type": "markdown",
   "id": "704b884a-be47-40ae-9295-79a2e0971f97",
   "metadata": {},
   "source": [
    "Q5. Explain Primary Key and Foreign Key."
   ]
  },
  {
   "cell_type": "markdown",
   "id": "32ae3592-faba-4148-ac9c-f126274a70f1",
   "metadata": {},
   "source": [
    "Primary Key and Foreign Key are fundamental concepts in relational database design used to establish and enforce relationships between tables. They ensure data integrity and facilitate efficient data retrieval and manipulation."
   ]
  },
  {
   "cell_type": "markdown",
   "id": "2b9cf194-8f9e-461b-afb2-b3eb38c2cc03",
   "metadata": {},
   "source": [
    "Primary Key\n",
    "Definition: A Primary Key is a unique identifier for a record in a table. It ensures that each record in the table can be uniquely identified by a single value or a combination of values.\n",
    "\n",
    "Key Characteristics:\n",
    "\n",
    "Uniqueness: The values in a Primary Key column must be unique across the table. No two rows can have the same Primary Key value.\n",
    "Non-null: A Primary Key cannot contain NULL values. Every record must have a valid Primary Key value.\n",
    "Indexing: Primary Keys are automatically indexed by the database, which helps in optimizing search queries."
   ]
  },
  {
   "cell_type": "code",
   "execution_count": null,
   "id": "61b3b2e0-85c8-481c-917f-836fa3340153",
   "metadata": {},
   "outputs": [],
   "source": [
    "#Example\n",
    "CREATE TABLE Customers (\n",
    "    CustomerID INT PRIMARY KEY,\n",
    "    FirstName VARCHAR(50),\n",
    "    LastName VARCHAR(50),\n",
    "    Email VARCHAR(100)\n",
    ");\n"
   ]
  },
  {
   "cell_type": "markdown",
   "id": "c7bfe854-3dc1-40b4-b20b-046ed7cff6e1",
   "metadata": {},
   "source": [
    "Foreign Key\n",
    "Definition: A Foreign Key is a column or a set of columns in a table that refers to the Primary Key of another table. It establishes a link between the data in two tables, enforcing referential integrity.\n",
    "\n",
    "Key Characteristics:\n",
    "\n",
    "Referential Integrity: The value of a Foreign Key must match a value in the referenced Primary Key column of another table or be NULL.\n",
    "Relationship: Foreign Keys define the relationship between tables, such as one-to-many or many-to-many relationships.\n",
    "Indexing: Foreign Keys are not automatically indexed but can be indexed to improve query performance."
   ]
  },
  {
   "cell_type": "code",
   "execution_count": null,
   "id": "e0753f35-4eae-4575-8b9c-e74b5752c7eb",
   "metadata": {},
   "outputs": [],
   "source": [
    "#Example\n",
    "CREATE TABLE Orders (\n",
    "    OrderID INT PRIMARY KEY,\n",
    "    OrderDate DATE,\n",
    "    CustomerID INT,\n",
    "    FOREIGN KEY (CustomerID) REFERENCES Customers(CustomerID)\n",
    ");\n"
   ]
  },
  {
   "cell_type": "markdown",
   "id": "6803e635-e9d3-4c73-aed0-dc07cc88f8ae",
   "metadata": {},
   "source": [
    "Q6. Write a python code to connect MySQL to python. Explain the cursor() and execute() method."
   ]
  },
  {
   "cell_type": "markdown",
   "id": "37086744-0279-4fe3-a0a4-2208e7892769",
   "metadata": {},
   "source": [
    "To connect to a MySQL database from Python, you typically use a library such as mysql-connector-python or PyMySQL. Here, I'll provide an example using the mysql-connector-python library. If you don't have it installed, you can install it using pip:"
   ]
  },
  {
   "cell_type": "code",
   "execution_count": null,
   "id": "97130cdf-2e6b-48e4-afc7-3665cecf6cab",
   "metadata": {},
   "outputs": [],
   "source": [
    "pip install mysql-connector-python\n"
   ]
  },
  {
   "cell_type": "code",
   "execution_count": null,
   "id": "01138d37-803e-4c5f-87d8-0a6b047759b0",
   "metadata": {},
   "outputs": [],
   "source": [
    "#Python Code to Connect to MySQL\n",
    "import mysql.connector\n",
    "\n",
    "# Establish a connection to the MySQL database\n",
    "connection = mysql.connector.connect(\n",
    "    host='localhost',        # Hostname or IP address of the MySQL server\n",
    "    user='your_username',    # Your MySQL username\n",
    "    password='your_password',# Your MySQL password\n",
    "    database='your_database' # The name of the database you want to connect to\n",
    ")\n",
    "\n",
    "# Create a cursor object using the connection\n",
    "cursor = connection.cursor()\n",
    "\n",
    "# Define a query to be executed\n",
    "query = \"SELECT * FROM Employees\"\n",
    "\n",
    "# Execute the query using the cursor\n",
    "cursor.execute(query)\n",
    "\n",
    "# Fetch all the rows from the executed query\n",
    "results = cursor.fetchall()\n",
    "\n",
    "# Print the fetched results\n",
    "for row in results:\n",
    "    print(row)\n",
    "\n",
    "# Close the cursor and connection\n",
    "cursor.close()\n",
    "connection.close()\n"
   ]
  },
  {
   "cell_type": "markdown",
   "id": "34375bfa-b870-4353-a253-6416e65df6d9",
   "metadata": {},
   "source": [
    "Explanation of cursor() and execute()"
   ]
  },
  {
   "cell_type": "markdown",
   "id": "66f7f102-80dd-4a41-901e-1e0988ed311d",
   "metadata": {},
   "source": [
    "1. cursor() Method\n",
    "\n",
    "Purpose: The cursor() method is used to create a cursor object. A cursor is a database object that allows you to execute SQL queries and fetch results.\n",
    "\n",
    "Usage: After establishing a connection to the database, you use the cursor() method on the connection object to create a cursor."
   ]
  },
  {
   "cell_type": "code",
   "execution_count": null,
   "id": "2cf85934-d6fb-4dd4-9fdf-d68ae36c5467",
   "metadata": {},
   "outputs": [],
   "source": [
    "cursor = connection.cursor()\n"
   ]
  },
  {
   "cell_type": "markdown",
   "id": "df602874-883b-4d8a-80f5-8d4ec71fd41f",
   "metadata": {},
   "source": [
    "2. execute() Method\n",
    "\n",
    "Purpose: The execute() method is used to execute a SQL query. You can use it to run queries such as SELECT, INSERT, UPDATE, and DELETE.\n",
    "\n",
    "Usage: You call the execute() method on a cursor object and pass the SQL query as a string."
   ]
  },
  {
   "cell_type": "code",
   "execution_count": null,
   "id": "cae52db3-cbbf-4362-9c85-7623aef24d8d",
   "metadata": {},
   "outputs": [],
   "source": [
    "cursor.execute(\"SELECT * FROM Employees\")\n"
   ]
  },
  {
   "cell_type": "markdown",
   "id": "a9487539-5be9-410a-9d92-d9587fe036db",
   "metadata": {},
   "source": [
    "Q7. Give the order of execution of SQL clauses in an SQL query."
   ]
  },
  {
   "cell_type": "markdown",
   "id": "a8727bde-dae1-4965-a0c5-2459c6d439b5",
   "metadata": {},
   "source": [
    "In an SQL query, the clauses are executed in a specific logical order, which is different from the order in which they appear in the SQL statement. Understanding this order is important for writing efficient queries and predicting how your data will be processed. Here is the logical order of execution for SQL clauses:\n",
    "\n",
    "1. FROM: Specifies the tables and joins from which to retrieve data. The FROM clause is executed first to determine the data sources.\n",
    "\n",
    "2. JOIN: If there are any join operations, they are performed after the FROM clause. Joins combine rows from two or more tables based on related columns.\n",
    "\n",
    "3. ON: This clause specifies the condition for the join. It is applied during the join operation.\n",
    "\n",
    "4. WHERE: Filters the rows based on a specified condition. This clause is executed after the joins and before any grouping.\n",
    "\n",
    "5. GROUP BY: Groups rows that have the same values in specified columns into summary rows. This clause is used with aggregate functions.\n",
    "\n",
    "6. HAVING: Filters the grouped rows based on a specified condition. This clause is similar to the WHERE clause but is applied to groups of rows created by the GROUP BY clause.\n",
    "\n",
    "7. SELECT: Determines which columns to include in the final result set. It is executed after filtering and grouping.\n",
    "\n",
    "8. DISTINCT: Removes duplicate rows from the result set. It is applied after the SELECT clause has determined which columns are included.\n",
    "\n",
    "9. ORDER BY: Sorts the result set based on specified columns. This clause is executed last to arrange the final output in the desired order.\n",
    "\n",
    "10. LIMIT / OFFSET: Limits the number of rows returned by the query and can skip a specified number of rows. This clause is executed after sorting."
   ]
  },
  {
   "cell_type": "code",
   "execution_count": null,
   "id": "14899022-ebce-45d0-9811-f2b00a381010",
   "metadata": {},
   "outputs": [],
   "source": [
    "SELECT DISTINCT column1, column2\n",
    "FROM table1\n",
    "JOIN table2 ON table1.id = table2.id\n",
    "WHERE column1 > 10\n",
    "GROUP BY column1\n",
    "HAVING COUNT(column2) > 5\n",
    "ORDER BY column1\n",
    "LIMIT 10;\n"
   ]
  },
  {
   "cell_type": "markdown",
   "id": "d5c1fd7f-bca2-4a91-a2fa-074a76f467a0",
   "metadata": {},
   "source": [
    "Execution Order:\n",
    "\n",
    "1.FROM: Determine table1 and table2 as the data sources.\n",
    "2.JOIN: Join table1 and table2 based on the condition table1.id = table2.id.\n",
    "3.ON: Apply the join condition.\n",
    "4.WHERE: Filter rows where column1 is greater than 10.\n",
    "5.GROUP BY: Group the remaining rows by column1.\n",
    "6.HAVING: Filter groups where the count of column2 is greater than 5.\n",
    "7.SELECT: Select column1 and column2 from the remaining rows.\n",
    "8.DISTINCT: Remove duplicate rows from the selected columns.\n",
    "9.ORDER BY: Sort the results by column1.\n",
    "10LIMIT: Limit the result set to 10 rows."
   ]
  }
 ],
 "metadata": {
  "kernelspec": {
   "display_name": "Python 3 (ipykernel)",
   "language": "python",
   "name": "python3"
  },
  "language_info": {
   "codemirror_mode": {
    "name": "ipython",
    "version": 3
   },
   "file_extension": ".py",
   "mimetype": "text/x-python",
   "name": "python",
   "nbconvert_exporter": "python",
   "pygments_lexer": "ipython3",
   "version": "3.10.8"
  }
 },
 "nbformat": 4,
 "nbformat_minor": 5
}
